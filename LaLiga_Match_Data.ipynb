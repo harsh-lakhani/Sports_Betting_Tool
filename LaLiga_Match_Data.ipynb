{
  "cells": [
    {
      "cell_type": "markdown",
      "metadata": {
        "id": "azKOlsdsIq31"
      },
      "source": [
        "## Import Libraries and Reading CSV"
      ]
    },
    {
      "cell_type": "code",
      "execution_count": 1,
      "metadata": {
        "id": "zBOpHh2O0nZt"
      },
      "outputs": [],
      "source": [
        "#import libraries\n",
        "import pandas as pd\n",
        "import seaborn as sns\n",
        "import matplotlib \n",
        "import matplotlib.pyplot as plt\n",
        "import numpy as np\n",
        "import statsmodels.api as sm\n",
        "%matplotlib inline"
      ]
    },
    {
      "cell_type": "code",
      "execution_count": 2,
      "metadata": {
        "id": "HlAQgyQ7IHZi"
      },
      "outputs": [],
      "source": [
        "#read csv\n",
        "data = pd.read_csv(\"combined_data_laliga v1.csv\")"
      ]
    },
    {
      "cell_type": "code",
      "execution_count": 3,
      "metadata": {
        "id": "fBNb8gmHI5qN"
      },
      "outputs": [],
      "source": [
        "#create dataframe\n",
        "df = pd.DataFrame(data)"
      ]
    },
    {
      "cell_type": "code",
      "execution_count": 4,
      "metadata": {
        "colab": {
          "base_uri": "https://localhost:8080/"
        },
        "id": "IrX2CpZ3olJ4",
        "outputId": "368516d6-1550-4b0c-b3be-b86daa245d3e"
      },
      "outputs": [
        {
          "name": "stdout",
          "output_type": "stream",
          "text": [
            "<class 'pandas.core.frame.DataFrame'>\n",
            "RangeIndex: 2660 entries, 0 to 2659\n",
            "Data columns (total 45 columns):\n",
            " #   Column                         Non-Null Count  Dtype  \n",
            "---  ------                         --------------  -----  \n",
            " 0   Ref                            2660 non-null   int64  \n",
            " 1   Home Team                      2660 non-null   object \n",
            " 2   Away Team                      2660 non-null   object \n",
            " 3   Score                          2660 non-null   object \n",
            " 4   Half Time Score                2660 non-null   object \n",
            " 5   Match Excitement               2660 non-null   float64\n",
            " 6   Home Team Rating               2660 non-null   float64\n",
            " 7   Away Team Rating               2660 non-null   float64\n",
            " 8   Home Team Possession %         2660 non-null   int64  \n",
            " 9   Away Team Possession %         2660 non-null   int64  \n",
            " 10  Home Team Off Target Shots     2660 non-null   int64  \n",
            " 11  Home Team On Target Shots      2660 non-null   int64  \n",
            " 12  Home Team Total Shots          2660 non-null   int64  \n",
            " 13  Home Team Blocked Shots        2660 non-null   int64  \n",
            " 14  Home Team Corners              2660 non-null   int64  \n",
            " 15  Home Team Throw Ins            2660 non-null   int64  \n",
            " 16  Home Team Pass Success %       2660 non-null   int64  \n",
            " 17  Home Team Aerials Won          2660 non-null   int64  \n",
            " 18  Home Team Clearances           2660 non-null   int64  \n",
            " 19  Home Team Fouls                2660 non-null   int64  \n",
            " 20  Home Team Yellow Cards         2660 non-null   int64  \n",
            " 21  Home Team Second Yellow Cards  2660 non-null   int64  \n",
            " 22  Home Team Red Cards            2660 non-null   int64  \n",
            " 23  Away Team Off Target Shots     2660 non-null   int64  \n",
            " 24  Away Team On Target Shots      2660 non-null   int64  \n",
            " 25  Away Team Total Shots          2660 non-null   int64  \n",
            " 26  Away Team Blocked Shots        2660 non-null   int64  \n",
            " 27  Away Team Corners              2660 non-null   int64  \n",
            " 28  Away Team Throw Ins            2660 non-null   int64  \n",
            " 29  Away Team Pass Success %       2660 non-null   int64  \n",
            " 30  Away Team Aerials Won          2660 non-null   int64  \n",
            " 31  Away Team Clearances           2660 non-null   int64  \n",
            " 32  Away Team Fouls                2660 non-null   int64  \n",
            " 33  Away Team Yellow Cards         2660 non-null   int64  \n",
            " 34  Away Team Second Yellow Cards  2660 non-null   int64  \n",
            " 35  Away Team Red Cards            2660 non-null   int64  \n",
            " 36  Home Team Goals Scored         2660 non-null   int64  \n",
            " 37  Away Team Goals Scored         2660 non-null   int64  \n",
            " 38  Home Team Goals Conceeded      2660 non-null   int64  \n",
            " 39  Away Team Goals Conceeded      2660 non-null   int64  \n",
            " 40  year                           2660 non-null   int64  \n",
            " 41  Location                       2660 non-null   object \n",
            " 42  Date                           2660 non-null   object \n",
            " 43  Temperature                    2660 non-null   float64\n",
            " 44  Rain                           2660 non-null   float64\n",
            "dtypes: float64(5), int64(34), object(6)\n",
            "memory usage: 935.3+ KB\n"
          ]
        }
      ],
      "source": [
        "df.info()"
      ]
    },
    {
      "cell_type": "markdown",
      "metadata": {
        "id": "O2BUgfLMcyaN"
      },
      "source": [
        "# Data Preprocessing"
      ]
    },
    {
      "cell_type": "markdown",
      "metadata": {
        "id": "RS87ublcvdUi"
      },
      "source": [
        "## Data Cleansing"
      ]
    },
    {
      "cell_type": "code",
      "execution_count": null,
      "metadata": {
        "colab": {
          "base_uri": "https://localhost:8080/",
          "height": 241
        },
        "id": "eo_kJS58J0u9",
        "outputId": "006d1ac8-33cc-4782-9c3e-67af8ad7d6f5"
      },
      "outputs": [
        {
          "data": {
            "text/html": [
              "\n",
              "  <div id=\"df-e22c92f8-9936-4eec-8f33-c983d706d34a\">\n",
              "    <div class=\"colab-df-container\">\n",
              "      <div>\n",
              "<style scoped>\n",
              "    .dataframe tbody tr th:only-of-type {\n",
              "        vertical-align: middle;\n",
              "    }\n",
              "\n",
              "    .dataframe tbody tr th {\n",
              "        vertical-align: top;\n",
              "    }\n",
              "\n",
              "    .dataframe thead th {\n",
              "        text-align: right;\n",
              "    }\n",
              "</style>\n",
              "<table border=\"1\" class=\"dataframe\">\n",
              "  <thead>\n",
              "    <tr style=\"text-align: right;\">\n",
              "      <th></th>\n",
              "      <th>Ref</th>\n",
              "      <th>Home Team</th>\n",
              "      <th>Away Team</th>\n",
              "      <th>Score</th>\n",
              "      <th>Half Time Score</th>\n",
              "      <th>Match Excitement</th>\n",
              "      <th>Home Team Rating</th>\n",
              "      <th>Away Team Rating</th>\n",
              "      <th>Home Team Possession %</th>\n",
              "      <th>Away Team Possession %</th>\n",
              "      <th>...</th>\n",
              "      <th>Away Team Red Cards</th>\n",
              "      <th>Home Team Goals Scored</th>\n",
              "      <th>Away Team Goals Scored</th>\n",
              "      <th>Home Team Goals Conceeded</th>\n",
              "      <th>Away Team Goals Conceeded</th>\n",
              "      <th>year</th>\n",
              "      <th>Location</th>\n",
              "      <th>Date</th>\n",
              "      <th>Temperature</th>\n",
              "      <th>Rain</th>\n",
              "    </tr>\n",
              "  </thead>\n",
              "  <tbody>\n",
              "    <tr>\n",
              "      <th>156</th>\n",
              "      <td>156</td>\n",
              "      <td>GRANADA</td>\n",
              "      <td>GETAFE</td>\n",
              "      <td>1-1</td>\n",
              "      <td>1-0</td>\n",
              "      <td>4.3</td>\n",
              "      <td>6.3</td>\n",
              "      <td>6.6</td>\n",
              "      <td>47</td>\n",
              "      <td>53</td>\n",
              "      <td>...</td>\n",
              "      <td>0</td>\n",
              "      <td>1</td>\n",
              "      <td>1</td>\n",
              "      <td>1</td>\n",
              "      <td>1</td>\n",
              "      <td>2014</td>\n",
              "      <td>Granada, Spain</td>\n",
              "      <td>21/12/2014</td>\n",
              "      <td>57.5</td>\n",
              "      <td>0.0</td>\n",
              "    </tr>\n",
              "  </tbody>\n",
              "</table>\n",
              "<p>1 rows × 45 columns</p>\n",
              "</div>\n",
              "      <button class=\"colab-df-convert\" onclick=\"convertToInteractive('df-e22c92f8-9936-4eec-8f33-c983d706d34a')\"\n",
              "              title=\"Convert this dataframe to an interactive table.\"\n",
              "              style=\"display:none;\">\n",
              "        \n",
              "  <svg xmlns=\"http://www.w3.org/2000/svg\" height=\"24px\"viewBox=\"0 0 24 24\"\n",
              "       width=\"24px\">\n",
              "    <path d=\"M0 0h24v24H0V0z\" fill=\"none\"/>\n",
              "    <path d=\"M18.56 5.44l.94 2.06.94-2.06 2.06-.94-2.06-.94-.94-2.06-.94 2.06-2.06.94zm-11 1L8.5 8.5l.94-2.06 2.06-.94-2.06-.94L8.5 2.5l-.94 2.06-2.06.94zm10 10l.94 2.06.94-2.06 2.06-.94-2.06-.94-.94-2.06-.94 2.06-2.06.94z\"/><path d=\"M17.41 7.96l-1.37-1.37c-.4-.4-.92-.59-1.43-.59-.52 0-1.04.2-1.43.59L10.3 9.45l-7.72 7.72c-.78.78-.78 2.05 0 2.83L4 21.41c.39.39.9.59 1.41.59.51 0 1.02-.2 1.41-.59l7.78-7.78 2.81-2.81c.8-.78.8-2.07 0-2.86zM5.41 20L4 18.59l7.72-7.72 1.47 1.35L5.41 20z\"/>\n",
              "  </svg>\n",
              "      </button>\n",
              "      \n",
              "  <style>\n",
              "    .colab-df-container {\n",
              "      display:flex;\n",
              "      flex-wrap:wrap;\n",
              "      gap: 12px;\n",
              "    }\n",
              "\n",
              "    .colab-df-convert {\n",
              "      background-color: #E8F0FE;\n",
              "      border: none;\n",
              "      border-radius: 50%;\n",
              "      cursor: pointer;\n",
              "      display: none;\n",
              "      fill: #1967D2;\n",
              "      height: 32px;\n",
              "      padding: 0 0 0 0;\n",
              "      width: 32px;\n",
              "    }\n",
              "\n",
              "    .colab-df-convert:hover {\n",
              "      background-color: #E2EBFA;\n",
              "      box-shadow: 0px 1px 2px rgba(60, 64, 67, 0.3), 0px 1px 3px 1px rgba(60, 64, 67, 0.15);\n",
              "      fill: #174EA6;\n",
              "    }\n",
              "\n",
              "    [theme=dark] .colab-df-convert {\n",
              "      background-color: #3B4455;\n",
              "      fill: #D2E3FC;\n",
              "    }\n",
              "\n",
              "    [theme=dark] .colab-df-convert:hover {\n",
              "      background-color: #434B5C;\n",
              "      box-shadow: 0px 1px 3px 1px rgba(0, 0, 0, 0.15);\n",
              "      filter: drop-shadow(0px 1px 2px rgba(0, 0, 0, 0.3));\n",
              "      fill: #FFFFFF;\n",
              "    }\n",
              "  </style>\n",
              "\n",
              "      <script>\n",
              "        const buttonEl =\n",
              "          document.querySelector('#df-e22c92f8-9936-4eec-8f33-c983d706d34a button.colab-df-convert');\n",
              "        buttonEl.style.display =\n",
              "          google.colab.kernel.accessAllowed ? 'block' : 'none';\n",
              "\n",
              "        async function convertToInteractive(key) {\n",
              "          const element = document.querySelector('#df-e22c92f8-9936-4eec-8f33-c983d706d34a');\n",
              "          const dataTable =\n",
              "            await google.colab.kernel.invokeFunction('convertToInteractive',\n",
              "                                                     [key], {});\n",
              "          if (!dataTable) return;\n",
              "\n",
              "          const docLinkHtml = 'Like what you see? Visit the ' +\n",
              "            '<a target=\"_blank\" href=https://colab.research.google.com/notebooks/data_table.ipynb>data table notebook</a>'\n",
              "            + ' to learn more about interactive tables.';\n",
              "          element.innerHTML = '';\n",
              "          dataTable['output_type'] = 'display_data';\n",
              "          await google.colab.output.renderOutput(dataTable, element);\n",
              "          const docLink = document.createElement('div');\n",
              "          docLink.innerHTML = docLinkHtml;\n",
              "          element.appendChild(docLink);\n",
              "        }\n",
              "      </script>\n",
              "    </div>\n",
              "  </div>\n",
              "  "
            ],
            "text/plain": [
              "     Ref Home Team Away Team Score Half Time Score  Match Excitement  \\\n",
              "156  156   GRANADA    GETAFE   1-1             1-0               4.3   \n",
              "\n",
              "     Home Team Rating  Away Team Rating  Home Team Possession %  \\\n",
              "156               6.3               6.6                      47   \n",
              "\n",
              "     Away Team Possession %  ...  Away Team Red Cards  Home Team Goals Scored  \\\n",
              "156                      53  ...                    0                       1   \n",
              "\n",
              "     Away Team Goals Scored  Home Team Goals Conceeded  \\\n",
              "156                       1                          1   \n",
              "\n",
              "     Away Team Goals Conceeded  year        Location        Date  Temperature  \\\n",
              "156                          1  2014  Granada, Spain  21/12/2014         57.5   \n",
              "\n",
              "     Rain  \n",
              "156   0.0  \n",
              "\n",
              "[1 rows x 45 columns]"
            ]
          },
          "execution_count": 475,
          "metadata": {},
          "output_type": "execute_result"
        }
      ],
      "source": [
        "df.sample()"
      ]
    },
    {
      "cell_type": "markdown",
      "metadata": {
        "id": "uAyq8A_4Wuki"
      },
      "source": [
        "We need to first create a new column to record the goal difference (home team goals - away team goals) that will be the new 'goal_diff' column, this will easily allow us to idenfity the winner of the match. The winner of the match will be in a new column 'winning_team'.\n",
        "\n",
        "For EDA, we will require to change some columns, which may not be required for the main df, therefore we will create a new temporary df."
      ]
    },
    {
      "cell_type": "code",
      "execution_count": 6,
      "metadata": {
        "id": "I9Vu1pEUV62L"
      },
      "outputs": [],
      "source": [
        "temp_df = pd.DataFrame(data)"
      ]
    },
    {
      "cell_type": "code",
      "execution_count": 7,
      "metadata": {
        "id": "7Iyzgy2XMbwy"
      },
      "outputs": [],
      "source": [
        "#Changing Score column to goal difference \n",
        "temp_df[\"goal_diff\"] = temp_df[\"Home Team Goals Scored\"] - temp_df[\"Away Team Goals Scored\"]\n",
        "temp_df = temp_df.drop('Score', axis=1)"
      ]
    },
    {
      "cell_type": "code",
      "execution_count": 8,
      "metadata": {},
      "outputs": [
        {
          "name": "stdout",
          "output_type": "stream",
          "text": [
            "<class 'pandas.core.frame.DataFrame'>\n",
            "RangeIndex: 2660 entries, 0 to 2659\n",
            "Data columns (total 45 columns):\n",
            " #   Column                         Non-Null Count  Dtype  \n",
            "---  ------                         --------------  -----  \n",
            " 0   Ref                            2660 non-null   int64  \n",
            " 1   Home Team                      2660 non-null   object \n",
            " 2   Away Team                      2660 non-null   object \n",
            " 3   Half Time Score                2660 non-null   object \n",
            " 4   Match Excitement               2660 non-null   float64\n",
            " 5   Home Team Rating               2660 non-null   float64\n",
            " 6   Away Team Rating               2660 non-null   float64\n",
            " 7   Home Team Possession %         2660 non-null   int64  \n",
            " 8   Away Team Possession %         2660 non-null   int64  \n",
            " 9   Home Team Off Target Shots     2660 non-null   int64  \n",
            " 10  Home Team On Target Shots      2660 non-null   int64  \n",
            " 11  Home Team Total Shots          2660 non-null   int64  \n",
            " 12  Home Team Blocked Shots        2660 non-null   int64  \n",
            " 13  Home Team Corners              2660 non-null   int64  \n",
            " 14  Home Team Throw Ins            2660 non-null   int64  \n",
            " 15  Home Team Pass Success %       2660 non-null   int64  \n",
            " 16  Home Team Aerials Won          2660 non-null   int64  \n",
            " 17  Home Team Clearances           2660 non-null   int64  \n",
            " 18  Home Team Fouls                2660 non-null   int64  \n",
            " 19  Home Team Yellow Cards         2660 non-null   int64  \n",
            " 20  Home Team Second Yellow Cards  2660 non-null   int64  \n",
            " 21  Home Team Red Cards            2660 non-null   int64  \n",
            " 22  Away Team Off Target Shots     2660 non-null   int64  \n",
            " 23  Away Team On Target Shots      2660 non-null   int64  \n",
            " 24  Away Team Total Shots          2660 non-null   int64  \n",
            " 25  Away Team Blocked Shots        2660 non-null   int64  \n",
            " 26  Away Team Corners              2660 non-null   int64  \n",
            " 27  Away Team Throw Ins            2660 non-null   int64  \n",
            " 28  Away Team Pass Success %       2660 non-null   int64  \n",
            " 29  Away Team Aerials Won          2660 non-null   int64  \n",
            " 30  Away Team Clearances           2660 non-null   int64  \n",
            " 31  Away Team Fouls                2660 non-null   int64  \n",
            " 32  Away Team Yellow Cards         2660 non-null   int64  \n",
            " 33  Away Team Second Yellow Cards  2660 non-null   int64  \n",
            " 34  Away Team Red Cards            2660 non-null   int64  \n",
            " 35  Home Team Goals Scored         2660 non-null   int64  \n",
            " 36  Away Team Goals Scored         2660 non-null   int64  \n",
            " 37  Home Team Goals Conceeded      2660 non-null   int64  \n",
            " 38  Away Team Goals Conceeded      2660 non-null   int64  \n",
            " 39  year                           2660 non-null   int64  \n",
            " 40  Location                       2660 non-null   object \n",
            " 41  Date                           2660 non-null   object \n",
            " 42  Temperature                    2660 non-null   float64\n",
            " 43  Rain                           2660 non-null   float64\n",
            " 44  goal_diff                      2660 non-null   int64  \n",
            "dtypes: float64(5), int64(35), object(5)\n",
            "memory usage: 935.3+ KB\n"
          ]
        }
      ],
      "source": [
        "temp_df.info()"
      ]
    },
    {
      "cell_type": "code",
      "execution_count": 9,
      "metadata": {
        "id": "eCkcLZPAa0dE"
      },
      "outputs": [],
      "source": [
        "#We will also change the Score column in the main df and use that as the dependant variable to predict\n",
        "df[\"goal_diff\"] = df[\"Home Team Goals Scored\"] - df[\"Away Team Goals Scored\"]\n",
        "df = df.drop('Score', axis=1)"
      ]
    },
    {
      "cell_type": "code",
      "execution_count": 11,
      "metadata": {
        "id": "jplTiLAtX9EU"
      },
      "outputs": [],
      "source": [
        "#Creating Winning Team Column -> 1 is when home team wins, -1 is when away team wins, 0 is draw\n",
        "def winning_team(goal_diff):\n",
        "  if goal_diff > 0:\n",
        "    return 1\n",
        "  elif goal_diff == 0:\n",
        "    return 0\n",
        "  else:\n",
        "    return -1"
      ]
    },
    {
      "cell_type": "code",
      "execution_count": 12,
      "metadata": {
        "id": "6wO8wGl_cGJj"
      },
      "outputs": [],
      "source": [
        "df[\"Winning Team\"] = df.goal_diff.apply(lambda x:winning_team(x))"
      ]
    },
    {
      "cell_type": "markdown",
      "metadata": {
        "id": "3jNrtbxlPFKE"
      },
      "source": [
        "We then remove all the columns not required for EDA but will include some of them in our ML prediction model later."
      ]
    },
    {
      "cell_type": "code",
      "execution_count": null,
      "metadata": {
        "id": "AeOcdagdX2Gj"
      },
      "outputs": [],
      "source": [
        "# #drop duplicate index column\n",
        "# temp_df = temp_df.drop(\"Unnamed: 0\", axis=1)"
      ]
    },
    {
      "cell_type": "code",
      "execution_count": 16,
      "metadata": {
        "id": "ecp-TlMAY9gE"
      },
      "outputs": [
        {
          "ename": "KeyError",
          "evalue": "\"['Half Time Score', 'Home Team Second Yellow Cards', 'Away Team Second Yellow Cards'] not found in axis\"",
          "output_type": "error",
          "traceback": [
            "\u001b[0;31m---------------------------------------------------------------------------\u001b[0m",
            "\u001b[0;31mKeyError\u001b[0m                                  Traceback (most recent call last)",
            "\u001b[1;32m/Users/thierry/Documents/2022 Fall/5001 Fdtn of DA/hw/Project/LaLiga_Match_Data.ipynb Cell 18\u001b[0m in \u001b[0;36m<cell line: 3>\u001b[0;34m()\u001b[0m\n\u001b[1;32m      <a href='vscode-notebook-cell:/Users/thierry/Documents/2022%20Fall/5001%20Fdtn%20of%20DA/hw/Project/LaLiga_Match_Data.ipynb#X22sZmlsZQ%3D%3D?line=0'>1</a>\u001b[0m \u001b[39m#dropping unncessary columns\u001b[39;00m\n\u001b[1;32m      <a href='vscode-notebook-cell:/Users/thierry/Documents/2022%20Fall/5001%20Fdtn%20of%20DA/hw/Project/LaLiga_Match_Data.ipynb#X22sZmlsZQ%3D%3D?line=1'>2</a>\u001b[0m \u001b[39m# temp_df = temp_df.drop([\"Half Time Score\", \"Home Team Second Yellow Cards\", \"Away Team Second Yellow Cards\"], axis=1)\u001b[39;00m\n\u001b[0;32m----> <a href='vscode-notebook-cell:/Users/thierry/Documents/2022%20Fall/5001%20Fdtn%20of%20DA/hw/Project/LaLiga_Match_Data.ipynb#X22sZmlsZQ%3D%3D?line=2'>3</a>\u001b[0m df \u001b[39m=\u001b[39m df\u001b[39m.\u001b[39;49mdrop([\u001b[39m\"\u001b[39;49m\u001b[39mHalf Time Score\u001b[39;49m\u001b[39m\"\u001b[39;49m, \u001b[39m\"\u001b[39;49m\u001b[39mHome Team Second Yellow Cards\u001b[39;49m\u001b[39m\"\u001b[39;49m, \u001b[39m\"\u001b[39;49m\u001b[39mAway Team Second Yellow Cards\u001b[39;49m\u001b[39m\"\u001b[39;49m], axis\u001b[39m=\u001b[39;49m\u001b[39m1\u001b[39;49m)\n",
            "File \u001b[0;32m/opt/anaconda3/lib/python3.9/site-packages/pandas/util/_decorators.py:311\u001b[0m, in \u001b[0;36mdeprecate_nonkeyword_arguments.<locals>.decorate.<locals>.wrapper\u001b[0;34m(*args, **kwargs)\u001b[0m\n\u001b[1;32m    305\u001b[0m \u001b[39mif\u001b[39;00m \u001b[39mlen\u001b[39m(args) \u001b[39m>\u001b[39m num_allow_args:\n\u001b[1;32m    306\u001b[0m     warnings\u001b[39m.\u001b[39mwarn(\n\u001b[1;32m    307\u001b[0m         msg\u001b[39m.\u001b[39mformat(arguments\u001b[39m=\u001b[39marguments),\n\u001b[1;32m    308\u001b[0m         \u001b[39mFutureWarning\u001b[39;00m,\n\u001b[1;32m    309\u001b[0m         stacklevel\u001b[39m=\u001b[39mstacklevel,\n\u001b[1;32m    310\u001b[0m     )\n\u001b[0;32m--> 311\u001b[0m \u001b[39mreturn\u001b[39;00m func(\u001b[39m*\u001b[39;49margs, \u001b[39m*\u001b[39;49m\u001b[39m*\u001b[39;49mkwargs)\n",
            "File \u001b[0;32m/opt/anaconda3/lib/python3.9/site-packages/pandas/core/frame.py:4954\u001b[0m, in \u001b[0;36mDataFrame.drop\u001b[0;34m(self, labels, axis, index, columns, level, inplace, errors)\u001b[0m\n\u001b[1;32m   4806\u001b[0m \u001b[39m@deprecate_nonkeyword_arguments\u001b[39m(version\u001b[39m=\u001b[39m\u001b[39mNone\u001b[39;00m, allowed_args\u001b[39m=\u001b[39m[\u001b[39m\"\u001b[39m\u001b[39mself\u001b[39m\u001b[39m\"\u001b[39m, \u001b[39m\"\u001b[39m\u001b[39mlabels\u001b[39m\u001b[39m\"\u001b[39m])\n\u001b[1;32m   4807\u001b[0m \u001b[39mdef\u001b[39;00m \u001b[39mdrop\u001b[39m(\n\u001b[1;32m   4808\u001b[0m     \u001b[39mself\u001b[39m,\n\u001b[0;32m   (...)\u001b[0m\n\u001b[1;32m   4815\u001b[0m     errors: \u001b[39mstr\u001b[39m \u001b[39m=\u001b[39m \u001b[39m\"\u001b[39m\u001b[39mraise\u001b[39m\u001b[39m\"\u001b[39m,\n\u001b[1;32m   4816\u001b[0m ):\n\u001b[1;32m   4817\u001b[0m     \u001b[39m\"\"\"\u001b[39;00m\n\u001b[1;32m   4818\u001b[0m \u001b[39m    Drop specified labels from rows or columns.\u001b[39;00m\n\u001b[1;32m   4819\u001b[0m \n\u001b[0;32m   (...)\u001b[0m\n\u001b[1;32m   4952\u001b[0m \u001b[39m            weight  1.0     0.8\u001b[39;00m\n\u001b[1;32m   4953\u001b[0m \u001b[39m    \"\"\"\u001b[39;00m\n\u001b[0;32m-> 4954\u001b[0m     \u001b[39mreturn\u001b[39;00m \u001b[39msuper\u001b[39;49m()\u001b[39m.\u001b[39;49mdrop(\n\u001b[1;32m   4955\u001b[0m         labels\u001b[39m=\u001b[39;49mlabels,\n\u001b[1;32m   4956\u001b[0m         axis\u001b[39m=\u001b[39;49maxis,\n\u001b[1;32m   4957\u001b[0m         index\u001b[39m=\u001b[39;49mindex,\n\u001b[1;32m   4958\u001b[0m         columns\u001b[39m=\u001b[39;49mcolumns,\n\u001b[1;32m   4959\u001b[0m         level\u001b[39m=\u001b[39;49mlevel,\n\u001b[1;32m   4960\u001b[0m         inplace\u001b[39m=\u001b[39;49minplace,\n\u001b[1;32m   4961\u001b[0m         errors\u001b[39m=\u001b[39;49merrors,\n\u001b[1;32m   4962\u001b[0m     )\n",
            "File \u001b[0;32m/opt/anaconda3/lib/python3.9/site-packages/pandas/core/generic.py:4267\u001b[0m, in \u001b[0;36mNDFrame.drop\u001b[0;34m(self, labels, axis, index, columns, level, inplace, errors)\u001b[0m\n\u001b[1;32m   4265\u001b[0m \u001b[39mfor\u001b[39;00m axis, labels \u001b[39min\u001b[39;00m axes\u001b[39m.\u001b[39mitems():\n\u001b[1;32m   4266\u001b[0m     \u001b[39mif\u001b[39;00m labels \u001b[39mis\u001b[39;00m \u001b[39mnot\u001b[39;00m \u001b[39mNone\u001b[39;00m:\n\u001b[0;32m-> 4267\u001b[0m         obj \u001b[39m=\u001b[39m obj\u001b[39m.\u001b[39;49m_drop_axis(labels, axis, level\u001b[39m=\u001b[39;49mlevel, errors\u001b[39m=\u001b[39;49merrors)\n\u001b[1;32m   4269\u001b[0m \u001b[39mif\u001b[39;00m inplace:\n\u001b[1;32m   4270\u001b[0m     \u001b[39mself\u001b[39m\u001b[39m.\u001b[39m_update_inplace(obj)\n",
            "File \u001b[0;32m/opt/anaconda3/lib/python3.9/site-packages/pandas/core/generic.py:4311\u001b[0m, in \u001b[0;36mNDFrame._drop_axis\u001b[0;34m(self, labels, axis, level, errors, consolidate, only_slice)\u001b[0m\n\u001b[1;32m   4309\u001b[0m         new_axis \u001b[39m=\u001b[39m axis\u001b[39m.\u001b[39mdrop(labels, level\u001b[39m=\u001b[39mlevel, errors\u001b[39m=\u001b[39merrors)\n\u001b[1;32m   4310\u001b[0m     \u001b[39melse\u001b[39;00m:\n\u001b[0;32m-> 4311\u001b[0m         new_axis \u001b[39m=\u001b[39m axis\u001b[39m.\u001b[39;49mdrop(labels, errors\u001b[39m=\u001b[39;49merrors)\n\u001b[1;32m   4312\u001b[0m     indexer \u001b[39m=\u001b[39m axis\u001b[39m.\u001b[39mget_indexer(new_axis)\n\u001b[1;32m   4314\u001b[0m \u001b[39m# Case for non-unique axis\u001b[39;00m\n\u001b[1;32m   4315\u001b[0m \u001b[39melse\u001b[39;00m:\n",
            "File \u001b[0;32m/opt/anaconda3/lib/python3.9/site-packages/pandas/core/indexes/base.py:6644\u001b[0m, in \u001b[0;36mIndex.drop\u001b[0;34m(self, labels, errors)\u001b[0m\n\u001b[1;32m   6642\u001b[0m \u001b[39mif\u001b[39;00m mask\u001b[39m.\u001b[39many():\n\u001b[1;32m   6643\u001b[0m     \u001b[39mif\u001b[39;00m errors \u001b[39m!=\u001b[39m \u001b[39m\"\u001b[39m\u001b[39mignore\u001b[39m\u001b[39m\"\u001b[39m:\n\u001b[0;32m-> 6644\u001b[0m         \u001b[39mraise\u001b[39;00m \u001b[39mKeyError\u001b[39;00m(\u001b[39mf\u001b[39m\u001b[39m\"\u001b[39m\u001b[39m{\u001b[39;00m\u001b[39mlist\u001b[39m(labels[mask])\u001b[39m}\u001b[39;00m\u001b[39m not found in axis\u001b[39m\u001b[39m\"\u001b[39m)\n\u001b[1;32m   6645\u001b[0m     indexer \u001b[39m=\u001b[39m indexer[\u001b[39m~\u001b[39mmask]\n\u001b[1;32m   6646\u001b[0m \u001b[39mreturn\u001b[39;00m \u001b[39mself\u001b[39m\u001b[39m.\u001b[39mdelete(indexer)\n",
            "\u001b[0;31mKeyError\u001b[0m: \"['Half Time Score', 'Home Team Second Yellow Cards', 'Away Team Second Yellow Cards'] not found in axis\""
          ]
        }
      ],
      "source": [
        "#dropping unncessary columns\n",
        "# temp_df = temp_df.drop([\"Half Time Score\", \"Home Team Second Yellow Cards\", \"Away Team Second Yellow Cards\"], axis=1)\n",
        "df = df.drop([\"Half Time Score\", \"Home Team Second Yellow Cards\", \"Away Team Second Yellow Cards\"], axis=1)"
      ]
    },
    {
      "cell_type": "code",
      "execution_count": null,
      "metadata": {
        "colab": {
          "base_uri": "https://localhost:8080/",
          "height": 258
        },
        "id": "TscGCkCcXuOx",
        "outputId": "596b8473-1b3d-4bf5-fbe0-7d2555ae7075"
      },
      "outputs": [
        {
          "data": {
            "text/html": [
              "\n",
              "  <div id=\"df-7ed9d84e-ccba-4e7f-9cbe-649aabfca17f\">\n",
              "    <div class=\"colab-df-container\">\n",
              "      <div>\n",
              "<style scoped>\n",
              "    .dataframe tbody tr th:only-of-type {\n",
              "        vertical-align: middle;\n",
              "    }\n",
              "\n",
              "    .dataframe tbody tr th {\n",
              "        vertical-align: top;\n",
              "    }\n",
              "\n",
              "    .dataframe thead th {\n",
              "        text-align: right;\n",
              "    }\n",
              "</style>\n",
              "<table border=\"1\" class=\"dataframe\">\n",
              "  <thead>\n",
              "    <tr style=\"text-align: right;\">\n",
              "      <th></th>\n",
              "      <th>Ref</th>\n",
              "      <th>Home Team</th>\n",
              "      <th>Away Team</th>\n",
              "      <th>Match Excitement</th>\n",
              "      <th>Home Team Rating</th>\n",
              "      <th>Away Team Rating</th>\n",
              "      <th>Home Team Possession %</th>\n",
              "      <th>Away Team Possession %</th>\n",
              "      <th>Home Team Off Target Shots</th>\n",
              "      <th>Home Team On Target Shots</th>\n",
              "      <th>...</th>\n",
              "      <th>Away Team Goals Scored</th>\n",
              "      <th>Home Team Goals Conceeded</th>\n",
              "      <th>Away Team Goals Conceeded</th>\n",
              "      <th>year</th>\n",
              "      <th>Location</th>\n",
              "      <th>Date</th>\n",
              "      <th>Temperature</th>\n",
              "      <th>Rain</th>\n",
              "      <th>goal_diff</th>\n",
              "      <th>Winning Team</th>\n",
              "    </tr>\n",
              "  </thead>\n",
              "  <tbody>\n",
              "    <tr>\n",
              "      <th>2024</th>\n",
              "      <td>2024</td>\n",
              "      <td>BARCELONA</td>\n",
              "      <td>CELTA</td>\n",
              "      <td>6.2</td>\n",
              "      <td>7.5</td>\n",
              "      <td>5.0</td>\n",
              "      <td>61</td>\n",
              "      <td>39</td>\n",
              "      <td>3</td>\n",
              "      <td>7</td>\n",
              "      <td>...</td>\n",
              "      <td>1</td>\n",
              "      <td>1</td>\n",
              "      <td>4</td>\n",
              "      <td>2019</td>\n",
              "      <td>Barcelona, Spain</td>\n",
              "      <td>9/11/2019</td>\n",
              "      <td>53.7</td>\n",
              "      <td>0.0</td>\n",
              "      <td>3</td>\n",
              "      <td>1</td>\n",
              "    </tr>\n",
              "  </tbody>\n",
              "</table>\n",
              "<p>1 rows × 43 columns</p>\n",
              "</div>\n",
              "      <button class=\"colab-df-convert\" onclick=\"convertToInteractive('df-7ed9d84e-ccba-4e7f-9cbe-649aabfca17f')\"\n",
              "              title=\"Convert this dataframe to an interactive table.\"\n",
              "              style=\"display:none;\">\n",
              "        \n",
              "  <svg xmlns=\"http://www.w3.org/2000/svg\" height=\"24px\"viewBox=\"0 0 24 24\"\n",
              "       width=\"24px\">\n",
              "    <path d=\"M0 0h24v24H0V0z\" fill=\"none\"/>\n",
              "    <path d=\"M18.56 5.44l.94 2.06.94-2.06 2.06-.94-2.06-.94-.94-2.06-.94 2.06-2.06.94zm-11 1L8.5 8.5l.94-2.06 2.06-.94-2.06-.94L8.5 2.5l-.94 2.06-2.06.94zm10 10l.94 2.06.94-2.06 2.06-.94-2.06-.94-.94-2.06-.94 2.06-2.06.94z\"/><path d=\"M17.41 7.96l-1.37-1.37c-.4-.4-.92-.59-1.43-.59-.52 0-1.04.2-1.43.59L10.3 9.45l-7.72 7.72c-.78.78-.78 2.05 0 2.83L4 21.41c.39.39.9.59 1.41.59.51 0 1.02-.2 1.41-.59l7.78-7.78 2.81-2.81c.8-.78.8-2.07 0-2.86zM5.41 20L4 18.59l7.72-7.72 1.47 1.35L5.41 20z\"/>\n",
              "  </svg>\n",
              "      </button>\n",
              "      \n",
              "  <style>\n",
              "    .colab-df-container {\n",
              "      display:flex;\n",
              "      flex-wrap:wrap;\n",
              "      gap: 12px;\n",
              "    }\n",
              "\n",
              "    .colab-df-convert {\n",
              "      background-color: #E8F0FE;\n",
              "      border: none;\n",
              "      border-radius: 50%;\n",
              "      cursor: pointer;\n",
              "      display: none;\n",
              "      fill: #1967D2;\n",
              "      height: 32px;\n",
              "      padding: 0 0 0 0;\n",
              "      width: 32px;\n",
              "    }\n",
              "\n",
              "    .colab-df-convert:hover {\n",
              "      background-color: #E2EBFA;\n",
              "      box-shadow: 0px 1px 2px rgba(60, 64, 67, 0.3), 0px 1px 3px 1px rgba(60, 64, 67, 0.15);\n",
              "      fill: #174EA6;\n",
              "    }\n",
              "\n",
              "    [theme=dark] .colab-df-convert {\n",
              "      background-color: #3B4455;\n",
              "      fill: #D2E3FC;\n",
              "    }\n",
              "\n",
              "    [theme=dark] .colab-df-convert:hover {\n",
              "      background-color: #434B5C;\n",
              "      box-shadow: 0px 1px 3px 1px rgba(0, 0, 0, 0.15);\n",
              "      filter: drop-shadow(0px 1px 2px rgba(0, 0, 0, 0.3));\n",
              "      fill: #FFFFFF;\n",
              "    }\n",
              "  </style>\n",
              "\n",
              "      <script>\n",
              "        const buttonEl =\n",
              "          document.querySelector('#df-7ed9d84e-ccba-4e7f-9cbe-649aabfca17f button.colab-df-convert');\n",
              "        buttonEl.style.display =\n",
              "          google.colab.kernel.accessAllowed ? 'block' : 'none';\n",
              "\n",
              "        async function convertToInteractive(key) {\n",
              "          const element = document.querySelector('#df-7ed9d84e-ccba-4e7f-9cbe-649aabfca17f');\n",
              "          const dataTable =\n",
              "            await google.colab.kernel.invokeFunction('convertToInteractive',\n",
              "                                                     [key], {});\n",
              "          if (!dataTable) return;\n",
              "\n",
              "          const docLinkHtml = 'Like what you see? Visit the ' +\n",
              "            '<a target=\"_blank\" href=https://colab.research.google.com/notebooks/data_table.ipynb>data table notebook</a>'\n",
              "            + ' to learn more about interactive tables.';\n",
              "          element.innerHTML = '';\n",
              "          dataTable['output_type'] = 'display_data';\n",
              "          await google.colab.output.renderOutput(dataTable, element);\n",
              "          const docLink = document.createElement('div');\n",
              "          docLink.innerHTML = docLinkHtml;\n",
              "          element.appendChild(docLink);\n",
              "        }\n",
              "      </script>\n",
              "    </div>\n",
              "  </div>\n",
              "  "
            ],
            "text/plain": [
              "       Ref  Home Team Away Team  Match Excitement  Home Team Rating  \\\n",
              "2024  2024  BARCELONA     CELTA               6.2               7.5   \n",
              "\n",
              "      Away Team Rating  Home Team Possession %  Away Team Possession %  \\\n",
              "2024               5.0                      61                      39   \n",
              "\n",
              "      Home Team Off Target Shots  Home Team On Target Shots  ...  \\\n",
              "2024                           3                          7  ...   \n",
              "\n",
              "      Away Team Goals Scored  Home Team Goals Conceeded  \\\n",
              "2024                       1                          1   \n",
              "\n",
              "      Away Team Goals Conceeded  year          Location       Date  \\\n",
              "2024                          4  2019  Barcelona, Spain  9/11/2019   \n",
              "\n",
              "      Temperature  Rain  goal_diff  Winning Team  \n",
              "2024         53.7   0.0          3             1  \n",
              "\n",
              "[1 rows x 43 columns]"
            ]
          },
          "execution_count": 483,
          "metadata": {},
          "output_type": "execute_result"
        }
      ],
      "source": [
        "temp_df.sample()"
      ]
    },
    {
      "cell_type": "markdown",
      "metadata": {
        "id": "9PWOmopXcsv4"
      },
      "source": [
        "# Exploratory Data Analysis (EDA)"
      ]
    },
    {
      "cell_type": "code",
      "execution_count": null,
      "metadata": {
        "colab": {
          "base_uri": "https://localhost:8080/",
          "height": 1000
        },
        "id": "SJgCbA_hegTY",
        "outputId": "b567f025-3961-4c88-981e-67b9bc9f17e6"
      },
      "outputs": [
        {
          "data": {
            "text/plain": [
              "(array([ 0.5,  1.5,  2.5,  3.5,  4.5,  5.5,  6.5,  7.5,  8.5,  9.5, 10.5,\n",
              "        11.5, 12.5, 13.5, 14.5, 15.5, 16.5, 17.5, 18.5, 19.5, 20.5, 21.5,\n",
              "        22.5, 23.5, 24.5, 25.5, 26.5, 27.5, 28.5, 29.5, 30.5, 31.5, 32.5,\n",
              "        33.5, 34.5, 35.5, 36.5, 37.5, 38.5]),\n",
              " <a list of 39 Text major ticklabel objects>)"
            ]
          },
          "execution_count": 485,
          "metadata": {},
          "output_type": "execute_result"
        },
        {
          "data": {
            "image/png": "[encoded data removed]",
            "text/plain": [
              "<Figure size 720x720 with 2 Axes>"
            ]
          },
          "metadata": {
            "needs_background": "light"
          },
          "output_type": "display_data"
        }
      ],
      "source": [
        "#Heatmap\n",
        "corr = temp_df.corr()\n",
        "plt.figure(figsize=(10,10))\n",
        "sns.heatmap(corr)\n",
        "plt.xticks(rotation=70)"
      ]
    },
    {
      "cell_type": "markdown",
      "metadata": {
        "id": "wWWtoYq3OXei"
      },
      "source": [
        "We can see a few highly correlated features in the Pairplot and Heatmap, let's take a closer look at them:"
      ]
    },
    {
      "cell_type": "markdown",
      "metadata": {
        "id": "G9zy2AuRN2bv"
      },
      "source": [
        "Correlation between Goal Difference and Home Team Rating / Away Team Rating:"
      ]
    },
    {
      "cell_type": "code",
      "execution_count": null,
      "metadata": {
        "id": "LEPSQZE8c6pB"
      },
      "outputs": [],
      "source": [
        "# #Correlation between (Match Excitement, Total Shots) along with Total Fouls\n",
        "# #Create new column for total shots and for total fouls\n",
        "# temp_df[\"Total Shots\"] = temp_df[\"Home Team Total Shots\"] + temp_df[\"Away Team Total Shots\"]\n",
        "# temp_df[\"Total Fouls\"] = temp_df[\"Home Team Fouls\"] + temp_df[\"Away Team Fouls\"]"
      ]
    },
    {
      "cell_type": "code",
      "execution_count": null,
      "metadata": {
        "colab": {
          "base_uri": "https://localhost:8080/",
          "height": 139
        },
        "id": "PUUIZJwtcS_s",
        "outputId": "08e17342-e93c-4b85-b5c9-9302690dadab"
      },
      "outputs": [
        {
          "data": {
            "text/plain": [
              "<matplotlib.axes._subplots.AxesSubplot at 0x7f6e12aeffd0>"
            ]
          },
          "execution_count": 487,
          "metadata": {},
          "output_type": "execute_result"
        },
        {
          "data": {
            "image/png": "[encoded data removed]",
            "text/plain": [
              "<Figure size 720x360 with 2 Axes>"
            ]
          },
          "metadata": {
            "needs_background": "light"
          },
          "output_type": "display_data"
        }
      ],
      "source": [
        "plt.figure(figsize=(10,5))\n",
        "ax = plt.subplot(1,2,1)\n",
        "sns.scatterplot(x=\"goal_diff\", y=\"Home Team Rating\", data=temp_df, ax=ax)\n",
        "ax = plt.subplot(1,2,2)\n",
        "sns.scatterplot(x=\"goal_diff\", y=\"Away Team Rating\", data=temp_df, ax=ax)"
      ]
    },
    {
      "cell_type": "markdown",
      "metadata": {
        "id": "kPkl96BSfSl4"
      },
      "source": [
        "Insight 1: As we can see, there is a clear positive correlation between the Team Rating and the Goal Difference. \n",
        "Recall that the goal_diff indicates the difference between the Home Team Goals and the Away Team Goals. Therefore, if goal_diff is positive, then the Home Team is the winner and vice versa.\n",
        "Hence, we can see that as the Goal Difference increases, so does the Home Team Rating and vice versa."
      ]
    },
    {
      "cell_type": "code",
      "execution_count": null,
      "metadata": {
        "colab": {
          "base_uri": "https://localhost:8080/"
        },
        "id": "nd8QsXFsN9K7",
        "outputId": "c208c0b8-6be8-4b9b-9a4a-a4dee239b63a"
      },
      "outputs": [
        {
          "name": "stdout",
          "output_type": "stream",
          "text": [
            "0.8917716076569592\n",
            "-0.8814609252757605\n"
          ]
        }
      ],
      "source": [
        "# the correlation between \"Home Team Rating\" and \"goal difference\"\n",
        "print(temp_df[\"Home Team Rating\"].corr(temp_df[\"goal_diff\"]))\n",
        "\n",
        "# the correlation between \"Away Team Rating\" and \"goal differnce\"\n",
        "print(temp_df[\"Away Team Rating\"].corr(temp_df[\"goal_diff\"]))"
      ]
    },
    {
      "cell_type": "markdown",
      "metadata": {
        "id": "whr93ZFVWiqY"
      },
      "source": [
        "Correlation between Goal Difference and Home Team On Target Shots/ Away Team On Target Shots:"
      ]
    },
    {
      "cell_type": "code",
      "execution_count": null,
      "metadata": {
        "colab": {
          "base_uri": "https://localhost:8080/",
          "height": 139
        },
        "id": "7wZVlpgUujU9",
        "outputId": "22dcc600-7c23-43a3-e05e-cfd4481e569f"
      },
      "outputs": [
        {
          "data": {
            "text/plain": [
              "<matplotlib.axes._subplots.AxesSubplot at 0x7f6e129d1290>"
            ]
          },
          "execution_count": 488,
          "metadata": {},
          "output_type": "execute_result"
        },
        {
          "data": {
            "image/png": "[encoded data removed]",
            "text/plain": [
              "<Figure size 720x360 with 2 Axes>"
            ]
          },
          "metadata": {
            "needs_background": "light"
          },
          "output_type": "display_data"
        }
      ],
      "source": [
        "plt.figure(figsize=(10,5))\n",
        "ax = plt.subplot(1,2,1)\n",
        "sns.scatterplot(x=\"Home Team On Target Shots\", y=\"goal_diff\", data=temp_df, ax=ax)\n",
        "ax = plt.subplot(1,2,2)\n",
        "sns.scatterplot(x=\"Away Team On Target Shots\", y=\"goal_diff\", data=temp_df, ax=ax)"
      ]
    },
    {
      "cell_type": "markdown",
      "metadata": {
        "id": "r0uPuE72vbyH"
      },
      "source": [
        "Insight 2: As we can see, there is a clear positive correlation between the Total On Target Shots and Goal Difference. Which basically means that an increase in the number of home team on target shots will result in a higher absolute value of goal difference; and an increase in the number of away team on target shots will result in a higher absolute value of goal difference."
      ]
    },
    {
      "cell_type": "code",
      "execution_count": null,
      "metadata": {
        "colab": {
          "base_uri": "https://localhost:8080/"
        },
        "id": "mLFgBiI4SeiT",
        "outputId": "4432607b-9c2b-418f-8286-6c2c20899462"
      },
      "outputs": [
        {
          "name": "stdout",
          "output_type": "stream",
          "text": [
            "0.4610911791822088\n",
            "-0.4369424252159871\n"
          ]
        }
      ],
      "source": [
        "# the correlation between \"Home Team Rating\" and \"goal difference\"\n",
        "print(temp_df[\"Home Team On Target Shots\"].corr(temp_df[\"goal_diff\"]))\n",
        "\n",
        "# the correlation between \"Away Team Rating\" and \"goal differnce\"\n",
        "print(temp_df[\"Away Team On Target Shots\"].corr(temp_df[\"goal_diff\"]))"
      ]
    },
    {
      "cell_type": "markdown",
      "metadata": {
        "id": "uH4BKhbTUTRV"
      },
      "source": [
        "Correlation between Goal Difference and Home Team Possession / Away Team Possession:"
      ]
    },
    {
      "cell_type": "code",
      "execution_count": null,
      "metadata": {
        "id": "l8EKa3CEfQpf"
      },
      "outputs": [],
      "source": [
        "# #Correlation between (Match Excitement, Total Goals)\n",
        "# #Create new column for total goals\n",
        "# temp_df[\"Total Goals\"] = temp_df[\"Home Team Goals Scored\"] + temp_df[\"Away Team Goals Scored\"]"
      ]
    },
    {
      "cell_type": "code",
      "execution_count": null,
      "metadata": {
        "id": "aFjZQPKBgqUS"
      },
      "outputs": [],
      "source": [
        "# plt.figure(figsize=(10,5))\n",
        "# sns.scatterplot(x=\"Total Goals\", y=\"Match Excitement\", data=temp_df)"
      ]
    },
    {
      "cell_type": "code",
      "execution_count": null,
      "metadata": {
        "colab": {
          "base_uri": "https://localhost:8080/",
          "height": 139
        },
        "id": "DLFAU9WNUazP",
        "outputId": "d65f787c-eec2-4403-ece5-75b6bb0c9168"
      },
      "outputs": [
        {
          "data": {
            "text/plain": [
              "<matplotlib.axes._subplots.AxesSubplot at 0x7f6e12acec50>"
            ]
          },
          "execution_count": 491,
          "metadata": {},
          "output_type": "execute_result"
        },
        {
          "data": {
            "image/png": "[encoded data removed]",
            "text/plain": [
              "<Figure size 720x360 with 2 Axes>"
            ]
          },
          "metadata": {
            "needs_background": "light"
          },
          "output_type": "display_data"
        }
      ],
      "source": [
        "plt.figure(figsize=(10,5))\n",
        "ax = plt.subplot(1,2,1)\n",
        "sns.scatterplot(y=\"goal_diff\", x=\"Home Team Possession %\", data=temp_df, ax=ax)\n",
        "ax = plt.subplot(1,2,2)\n",
        "sns.scatterplot(y=\"goal_diff\", x=\"Away Team Possession %\", data=temp_df, ax=ax)"
      ]
    },
    {
      "cell_type": "code",
      "execution_count": null,
      "metadata": {
        "colab": {
          "base_uri": "https://localhost:8080/"
        },
        "id": "tVcnIyAcSqvy",
        "outputId": "07fd9892-d310-4f7f-e671-3dfd275c5a5b"
      },
      "outputs": [
        {
          "name": "stdout",
          "output_type": "stream",
          "text": [
            "0.14692832655979518\n",
            "-0.14692832655979518\n"
          ]
        }
      ],
      "source": [
        "# the correlation between \"Home Team Rating\" and \"goal difference\"\n",
        "print(temp_df[\"Home Team Possession %\"].corr(temp_df[\"goal_diff\"]))\n",
        "\n",
        "# the correlation between \"Away Team Rating\" and \"goal differnce\"\n",
        "print(temp_df[\"Away Team Possession %\"].corr(temp_df[\"goal_diff\"]))"
      ]
    },
    {
      "cell_type": "markdown",
      "metadata": {
        "id": "qbwtiKxtg3wb"
      },
      "source": [
        "Insight 3: As we can see, there is no clear correlation between the Possession % and the Goal Difference. This translates to the fact that if a team has more ball possession, it doesn't always mean that they will score more goals."
      ]
    },
    {
      "cell_type": "markdown",
      "metadata": {
        "id": "bJUYs1m5YeYY"
      },
      "source": [
        "Correlation between Goal Difference and Home Team Pass Success % / Away Team Pass Success %:"
      ]
    },
    {
      "cell_type": "code",
      "execution_count": null,
      "metadata": {
        "id": "nzI-0QdavJYN"
      },
      "outputs": [],
      "source": [
        "# #Correlation between (Total Fouls, Total Yellow / Red Cards)\n",
        "# #For this, we will create 2 new columns to calculate the total fouls and total cards\n",
        "# temp_df[\"Total Fouls\"] = temp_df['Away Team Fouls'] + temp_df['Home Team Fouls']\n",
        "# temp_df[\"Total Cards\"] = temp_df['Home Team Red Cards'] + temp_df['Home Team Yellow Cards'] + temp_df['Away Team Yellow Cards'] + temp_df['Away Team Red Cards'] "
      ]
    },
    {
      "cell_type": "code",
      "execution_count": null,
      "metadata": {
        "id": "L_fMZECIwLew"
      },
      "outputs": [],
      "source": [
        "# plt.figure(figsize=(10,5))\n",
        "# sns.lineplot(x=\"Total Fouls\", y=\"Total Cards\", data=temp_df)"
      ]
    },
    {
      "cell_type": "code",
      "execution_count": null,
      "metadata": {
        "colab": {
          "base_uri": "https://localhost:8080/",
          "height": 139
        },
        "id": "vrTQTMZoYmM_",
        "outputId": "c7dc0dee-7384-4b5a-9547-3dd0470de4c5"
      },
      "outputs": [
        {
          "data": {
            "text/plain": [
              "<matplotlib.axes._subplots.AxesSubplot at 0x7f6e12882ed0>"
            ]
          },
          "execution_count": 494,
          "metadata": {},
          "output_type": "execute_result"
        },
        {
          "data": {
            "image/png": "[encoded data removed]",
            "text/plain": [
              "<Figure size 720x360 with 2 Axes>"
            ]
          },
          "metadata": {
            "needs_background": "light"
          },
          "output_type": "display_data"
        }
      ],
      "source": [
        "plt.figure(figsize=(10,5))\n",
        "ax = plt.subplot(1,2,1)\n",
        "sns.scatterplot(y=\"goal_diff\", x=\"Home Team Pass Success %\", data=temp_df, ax=ax)\n",
        "ax = plt.subplot(1,2,2)\n",
        "sns.scatterplot(y=\"goal_diff\", x=\"Away Team Pass Success %\", data=temp_df, ax=ax)"
      ]
    },
    {
      "cell_type": "code",
      "execution_count": null,
      "metadata": {
        "colab": {
          "base_uri": "https://localhost:8080/"
        },
        "id": "uAglhhTjS7Uu",
        "outputId": "1463f689-6c7b-4e78-9a66-bea61db0a305"
      },
      "outputs": [
        {
          "name": "stdout",
          "output_type": "stream",
          "text": [
            "0.12810467698086522\n",
            "-0.020852586614207344\n"
          ]
        }
      ],
      "source": [
        "# the correlation between \"Home Team Rating\" and \"goal difference\"\n",
        "print(temp_df[\"Home Team Pass Success %\"].corr(temp_df[\"goal_diff\"]))\n",
        "\n",
        "# the correlation between \"Away Team Rating\" and \"goal differnce\"\n",
        "print(temp_df[\"Away Team Pass Success %\"].corr(temp_df[\"goal_diff\"]))"
      ]
    },
    {
      "cell_type": "code",
      "execution_count": null,
      "metadata": {
        "colab": {
          "base_uri": "https://localhost:8080/",
          "height": 352
        },
        "id": "DdSE4-J48IQP",
        "outputId": "c18f8628-834d-4f47-8140-f4be25193acd"
      },
      "outputs": [
        {
          "data": {
            "text/plain": [
              "<matplotlib.axes._subplots.AxesSubplot at 0x7f5aafd28550>"
            ]
          },
          "execution_count": 21,
          "metadata": {},
          "output_type": "execute_result"
        },
        {
          "data": {
            "image/png": "[encoded data removed]",
            "text/plain": [
              "<Figure size 720x360 with 2 Axes>"
            ]
          },
          "metadata": {
            "needs_background": "light"
          },
          "output_type": "display_data"
        }
      ],
      "source": [
        "plt.figure(figsize=(10,5))\n",
        "ax = plt.subplot(1,2,1)\n",
        "sns.scatterplot(y=\"goal_diff\", x=\"Rain\", data=temp_df, ax=ax)\n",
        "ax = plt.subplot(1,2,2)\n",
        "sns.scatterplot(y=\"goal_diff\", x=\"Temperature\", data=temp_df, ax=ax)"
      ]
    },
    {
      "cell_type": "code",
      "execution_count": null,
      "metadata": {
        "colab": {
          "base_uri": "https://localhost:8080/"
        },
        "id": "g0mSbYD58WlQ",
        "outputId": "fabad8cf-6598-4ebb-8ff9-eb4e1e6bc066"
      },
      "outputs": [
        {
          "name": "stdout",
          "output_type": "stream",
          "text": [
            "-0.0018239722051015944\n",
            "-0.055556600661640684\n"
          ]
        }
      ],
      "source": [
        "# the correlation between \"Home Team Rating\" and \"goal difference\"\n",
        "print(temp_df[\"Rain\"].corr(temp_df[\"goal_diff\"]))\n",
        "\n",
        "# the correlation between \"Away Team Rating\" and \"goal differnce\"\n",
        "print(temp_df[\"Temperature\"].corr(temp_df[\"goal_diff\"]))"
      ]
    },
    {
      "cell_type": "code",
      "execution_count": null,
      "metadata": {
        "colab": {
          "base_uri": "https://localhost:8080/"
        },
        "id": "INfOgyyUDZbI",
        "outputId": "fa5966c1-c4e9-4993-b000-044b84f5c2a6"
      },
      "outputs": [
        {
          "name": "stdout",
          "output_type": "stream",
          "text": [
            "104\n",
            "104\n"
          ]
        }
      ],
      "source": [
        "# Since when Home Team is Real Madrid, the venue has to be the home team's venue, which is at Madrid\n",
        "# Therefore, we don't need the location in our model.\n",
        "print(x_train_new.loc[x_train_new[\"Home Team_REAL MADRID\"]==1][\"Location_Madrid, Spain\"].sum())\n",
        "print(len(x_train_new.loc[x_train_new[\"Home Team_REAL MADRID\"]==1]))"
      ]
    },
    {
      "cell_type": "code",
      "execution_count": null,
      "metadata": {
        "id": "ZYupsaMwJpmP"
      },
      "outputs": [],
      "source": [
        "DA_data = df\n",
        "DA_data = pd.get_dummies(DA_data,columns=['Home Team','Away Team'],dtype = int)\n",
        "wo_latent_data = DA_data.drop([\"Half Time Score\", \"Home Team Second Yellow Cards\", \"Away Team Second Yellow Cards\",\"Ref\", \"Winning Team\",\"Temperature\", \"Rain\", \"Date\", \"Location\", \"Home Team Goals Scored\", \"Away Team Goals Scored\", \"Home Team Goals Conceeded\", \"Away Team Goals Conceeded\", \"year\"], axis=1)\n",
        "with_latent = DA_data.drop([\"Half Time Score\", \"Home Team Second Yellow Cards\", \"Away Team Second Yellow Cards\",\"Ref\", \"Winning Team\",\"Location\", \"Date\", \"Home Team Goals Scored\", \"Away Team Goals Scored\", \"Home Team Goals Conceeded\", \"Away Team Goals Conceeded\", \"year\"], axis=1)\n",
        "# DA_data.columns"
      ]
    },
    {
      "cell_type": "code",
      "execution_count": null,
      "metadata": {
        "colab": {
          "base_uri": "https://localhost:8080/",
          "height": 1000
        },
        "id": "yiiyYutVPNK4",
        "outputId": "862fcbbe-9db4-4172-d6af-d63c8bde2259"
      },
      "outputs": [
        {
          "name": "stderr",
          "output_type": "stream",
          "text": [
            "/usr/local/lib/python3.7/dist-packages/statsmodels/tsa/tsatools.py:142: FutureWarning: In a future version of pandas all arguments of concat except for the argument 'objs' will be keyword-only\n",
            "  x = pd.concat(x[::order], 1)\n"
          ]
        },
        {
          "data": {
            "text/html": [
              "<table class=\"simpletable\">\n",
              "<caption>OLS Regression Results</caption>\n",
              "<tr>\n",
              "  <th>Dep. Variable:</th>        <td>goal_diff</td>    <th>  R-squared:         </th> <td>   0.935</td>\n",
              "</tr>\n",
              "<tr>\n",
              "  <th>Model:</th>                   <td>OLS</td>       <th>  Adj. R-squared:    </th> <td>   0.933</td>\n",
              "</tr>\n",
              "<tr>\n",
              "  <th>Method:</th>             <td>Least Squares</td>  <th>  F-statistic:       </th> <td>   422.8</td>\n",
              "</tr>\n",
              "<tr>\n",
              "  <th>Date:</th>             <td>Sat, 12 Nov 2022</td> <th>  Prob (F-statistic):</th>  <td>  0.00</td> \n",
              "</tr>\n",
              "<tr>\n",
              "  <th>Time:</th>                 <td>11:42:14</td>     <th>  Log-Likelihood:    </th> <td> -1702.1</td>\n",
              "</tr>\n",
              "<tr>\n",
              "  <th>No. Observations:</th>      <td>  2660</td>      <th>  AIC:               </th> <td>   3582.</td>\n",
              "</tr>\n",
              "<tr>\n",
              "  <th>Df Residuals:</th>          <td>  2571</td>      <th>  BIC:               </th> <td>   4106.</td>\n",
              "</tr>\n",
              "<tr>\n",
              "  <th>Df Model:</th>              <td>    88</td>      <th>                     </th>     <td> </td>   \n",
              "</tr>\n",
              "<tr>\n",
              "  <th>Covariance Type:</th>      <td>nonrobust</td>    <th>                     </th>     <td> </td>   \n",
              "</tr>\n",
              "</table>\n",
              "<table class=\"simpletable\">\n",
              "<tr>\n",
              "               <td></td>                 <th>coef</th>     <th>std err</th>      <th>t</th>      <th>P>|t|</th>  <th>[0.025</th>    <th>0.975]</th>  \n",
              "</tr>\n",
              "<tr>\n",
              "  <th>const</th>                      <td>   -0.0002</td> <td>  8.2e-05</td> <td>   -2.639</td> <td> 0.008</td> <td>   -0.000</td> <td>-5.56e-05</td>\n",
              "</tr>\n",
              "<tr>\n",
              "  <th>Match Excitement</th>           <td>   -0.0018</td> <td>    0.008</td> <td>   -0.228</td> <td> 0.820</td> <td>   -0.017</td> <td>    0.013</td>\n",
              "</tr>\n",
              "<tr>\n",
              "  <th>Home Team Rating</th>           <td>    1.1508</td> <td>    0.025</td> <td>   46.940</td> <td> 0.000</td> <td>    1.103</td> <td>    1.199</td>\n",
              "</tr>\n",
              "<tr>\n",
              "  <th>Away Team Rating</th>           <td>   -0.9791</td> <td>    0.024</td> <td>  -41.331</td> <td> 0.000</td> <td>   -1.026</td> <td>   -0.933</td>\n",
              "</tr>\n",
              "<tr>\n",
              "  <th>Home Team Possession %</th>     <td>   -0.0073</td> <td>    0.004</td> <td>   -1.626</td> <td> 0.104</td> <td>   -0.016</td> <td>    0.002</td>\n",
              "</tr>\n",
              "<tr>\n",
              "  <th>Away Team Possession %</th>     <td>   -0.0144</td> <td>    0.004</td> <td>   -3.293</td> <td> 0.001</td> <td>   -0.023</td> <td>   -0.006</td>\n",
              "</tr>\n",
              "<tr>\n",
              "  <th>Home Team Off Target Shots</th> <td>    0.0598</td> <td>    0.050</td> <td>    1.195</td> <td> 0.232</td> <td>   -0.038</td> <td>    0.158</td>\n",
              "</tr>\n",
              "<tr>\n",
              "  <th>Home Team On Target Shots</th>  <td>   -0.0449</td> <td>    0.050</td> <td>   -0.894</td> <td> 0.372</td> <td>   -0.144</td> <td>    0.054</td>\n",
              "</tr>\n",
              "<tr>\n",
              "  <th>Home Team Total Shots</th>      <td>   -0.0659</td> <td>    0.050</td> <td>   -1.321</td> <td> 0.187</td> <td>   -0.164</td> <td>    0.032</td>\n",
              "</tr>\n",
              "<tr>\n",
              "  <th>Home Team Blocked Shots</th>    <td>    0.0788</td> <td>    0.050</td> <td>    1.576</td> <td> 0.115</td> <td>   -0.019</td> <td>    0.177</td>\n",
              "</tr>\n",
              "<tr>\n",
              "  <th>Home Team Corners</th>          <td>   -0.0332</td> <td>    0.004</td> <td>   -7.770</td> <td> 0.000</td> <td>   -0.042</td> <td>   -0.025</td>\n",
              "</tr>\n",
              "<tr>\n",
              "  <th>Home Team Throw Ins</th>        <td>    0.0070</td> <td>    0.002</td> <td>    3.804</td> <td> 0.000</td> <td>    0.003</td> <td>    0.011</td>\n",
              "</tr>\n",
              "<tr>\n",
              "  <th>Home Team Pass Success %</th>   <td>   -0.0155</td> <td>    0.004</td> <td>   -4.387</td> <td> 0.000</td> <td>   -0.022</td> <td>   -0.009</td>\n",
              "</tr>\n",
              "<tr>\n",
              "  <th>Home Team Aerials Won</th>      <td>   -0.0041</td> <td>    0.002</td> <td>   -2.153</td> <td> 0.031</td> <td>   -0.008</td> <td>   -0.000</td>\n",
              "</tr>\n",
              "<tr>\n",
              "  <th>Home Team Clearances</th>       <td>   -0.0004</td> <td>    0.002</td> <td>   -0.265</td> <td> 0.791</td> <td>   -0.004</td> <td>    0.003</td>\n",
              "</tr>\n",
              "<tr>\n",
              "  <th>Home Team Fouls</th>            <td>    0.0070</td> <td>    0.003</td> <td>    2.641</td> <td> 0.008</td> <td>    0.002</td> <td>    0.012</td>\n",
              "</tr>\n",
              "<tr>\n",
              "  <th>Home Team Yellow Cards</th>     <td>    0.0714</td> <td>    0.007</td> <td>   10.009</td> <td> 0.000</td> <td>    0.057</td> <td>    0.085</td>\n",
              "</tr>\n",
              "<tr>\n",
              "  <th>Home Team Red Cards</th>        <td>    0.2110</td> <td>    0.042</td> <td>    4.967</td> <td> 0.000</td> <td>    0.128</td> <td>    0.294</td>\n",
              "</tr>\n",
              "<tr>\n",
              "  <th>Away Team Off Target Shots</th> <td>   -0.0087</td> <td>    0.045</td> <td>   -0.192</td> <td> 0.848</td> <td>   -0.098</td> <td>    0.080</td>\n",
              "</tr>\n",
              "<tr>\n",
              "  <th>Away Team On Target Shots</th>  <td>    0.1012</td> <td>    0.046</td> <td>    2.215</td> <td> 0.027</td> <td>    0.012</td> <td>    0.191</td>\n",
              "</tr>\n",
              "<tr>\n",
              "  <th>Away Team Total Shots</th>      <td>    0.0162</td> <td>    0.045</td> <td>    0.358</td> <td> 0.720</td> <td>   -0.073</td> <td>    0.105</td>\n",
              "</tr>\n",
              "<tr>\n",
              "  <th>Away Team Blocked Shots</th>    <td>   -0.0326</td> <td>    0.046</td> <td>   -0.714</td> <td> 0.475</td> <td>   -0.122</td> <td>    0.057</td>\n",
              "</tr>\n",
              "<tr>\n",
              "  <th>Away Team Corners</th>          <td>    0.0235</td> <td>    0.005</td> <td>    5.152</td> <td> 0.000</td> <td>    0.015</td> <td>    0.032</td>\n",
              "</tr>\n",
              "<tr>\n",
              "  <th>Away Team Throw Ins</th>        <td>   -0.0048</td> <td>    0.002</td> <td>   -2.449</td> <td> 0.014</td> <td>   -0.009</td> <td>   -0.001</td>\n",
              "</tr>\n",
              "<tr>\n",
              "  <th>Away Team Pass Success %</th>   <td>    0.0186</td> <td>    0.003</td> <td>    5.632</td> <td> 0.000</td> <td>    0.012</td> <td>    0.025</td>\n",
              "</tr>\n",
              "<tr>\n",
              "  <th>Away Team Aerials Won</th>      <td>    0.0027</td> <td>    0.002</td> <td>    1.438</td> <td> 0.151</td> <td>   -0.001</td> <td>    0.006</td>\n",
              "</tr>\n",
              "<tr>\n",
              "  <th>Away Team Clearances</th>       <td>   -0.0025</td> <td>    0.002</td> <td>   -1.638</td> <td> 0.101</td> <td>   -0.005</td> <td>    0.000</td>\n",
              "</tr>\n",
              "<tr>\n",
              "  <th>Away Team Fouls</th>            <td>   -0.0067</td> <td>    0.003</td> <td>   -2.552</td> <td> 0.011</td> <td>   -0.012</td> <td>   -0.002</td>\n",
              "</tr>\n",
              "<tr>\n",
              "  <th>Away Team Yellow Cards</th>     <td>   -0.0591</td> <td>    0.007</td> <td>   -8.386</td> <td> 0.000</td> <td>   -0.073</td> <td>   -0.045</td>\n",
              "</tr>\n",
              "<tr>\n",
              "  <th>Away Team Red Cards</th>        <td>   -0.0778</td> <td>    0.042</td> <td>   -1.842</td> <td> 0.066</td> <td>   -0.161</td> <td>    0.005</td>\n",
              "</tr>\n",
              "<tr>\n",
              "  <th>Home Team_ALAVÉS</th>           <td>    0.2197</td> <td>    0.050</td> <td>    4.435</td> <td> 0.000</td> <td>    0.123</td> <td>    0.317</td>\n",
              "</tr>\n",
              "<tr>\n",
              "  <th>Home Team_ALMERÍA</th>          <td>   -0.4407</td> <td>    0.106</td> <td>   -4.160</td> <td> 0.000</td> <td>   -0.648</td> <td>   -0.233</td>\n",
              "</tr>\n",
              "<tr>\n",
              "  <th>Home Team_ATHLETIC</th>         <td>    0.2735</td> <td>    0.042</td> <td>    6.504</td> <td> 0.000</td> <td>    0.191</td> <td>    0.356</td>\n",
              "</tr>\n",
              "<tr>\n",
              "  <th>Home Team_ATLETICO MADRID</th>  <td>    0.3908</td> <td>    0.043</td> <td>    9.194</td> <td> 0.000</td> <td>    0.307</td> <td>    0.474</td>\n",
              "</tr>\n",
              "<tr>\n",
              "  <th>Home Team_BARCELONA</th>        <td>    0.5501</td> <td>    0.052</td> <td>   10.526</td> <td> 0.000</td> <td>    0.448</td> <td>    0.653</td>\n",
              "</tr>\n",
              "<tr>\n",
              "  <th>Home Team_CELTA</th>            <td>    0.1924</td> <td>    0.043</td> <td>    4.517</td> <td> 0.000</td> <td>    0.109</td> <td>    0.276</td>\n",
              "</tr>\n",
              "<tr>\n",
              "  <th>Home Team_CÁDIZ CF</th>         <td>   -0.5342</td> <td>    0.108</td> <td>   -4.954</td> <td> 0.000</td> <td>   -0.746</td> <td>   -0.323</td>\n",
              "</tr>\n",
              "<tr>\n",
              "  <th>Home Team_CÓRDOBA</th>          <td>   -0.8490</td> <td>    0.105</td> <td>   -8.054</td> <td> 0.000</td> <td>   -1.056</td> <td>   -0.642</td>\n",
              "</tr>\n",
              "<tr>\n",
              "  <th>Home Team_DEPORTIVO</th>        <td>   -0.4872</td> <td>    0.054</td> <td>   -9.069</td> <td> 0.000</td> <td>   -0.593</td> <td>   -0.382</td>\n",
              "</tr>\n",
              "<tr>\n",
              "  <th>Home Team_EIBAR</th>            <td>    0.3824</td> <td>    0.046</td> <td>    8.367</td> <td> 0.000</td> <td>    0.293</td> <td>    0.472</td>\n",
              "</tr>\n",
              "<tr>\n",
              "  <th>Home Team_ELCHE</th>            <td>   -0.3851</td> <td>    0.075</td> <td>   -5.111</td> <td> 0.000</td> <td>   -0.533</td> <td>   -0.237</td>\n",
              "</tr>\n",
              "<tr>\n",
              "  <th>Home Team_ESPANYOL</th>         <td>    0.1800</td> <td>    0.044</td> <td>    4.047</td> <td> 0.000</td> <td>    0.093</td> <td>    0.267</td>\n",
              "</tr>\n",
              "<tr>\n",
              "  <th>Home Team_GETAFE</th>           <td>    0.3684</td> <td>    0.048</td> <td>    7.743</td> <td> 0.000</td> <td>    0.275</td> <td>    0.462</td>\n",
              "</tr>\n",
              "<tr>\n",
              "  <th>Home Team_GIJÓN</th>            <td>   -0.5011</td> <td>    0.076</td> <td>   -6.620</td> <td> 0.000</td> <td>   -0.650</td> <td>   -0.353</td>\n",
              "</tr>\n",
              "<tr>\n",
              "  <th>Home Team_GIRONA</th>           <td>   -0.3795</td> <td>    0.076</td> <td>   -5.025</td> <td> 0.000</td> <td>   -0.528</td> <td>   -0.231</td>\n",
              "</tr>\n",
              "<tr>\n",
              "  <th>Home Team_GRANADA</th>          <td>    0.2038</td> <td>    0.049</td> <td>    4.171</td> <td> 0.000</td> <td>    0.108</td> <td>    0.300</td>\n",
              "</tr>\n",
              "<tr>\n",
              "  <th>Home Team_HUESCA</th>           <td>   -0.5520</td> <td>    0.075</td> <td>   -7.349</td> <td> 0.000</td> <td>   -0.699</td> <td>   -0.405</td>\n",
              "</tr>\n",
              "<tr>\n",
              "  <th>Home Team_LAS PALMAS</th>       <td>   -0.6134</td> <td>    0.064</td> <td>   -9.553</td> <td> 0.000</td> <td>   -0.739</td> <td>   -0.487</td>\n",
              "</tr>\n",
              "<tr>\n",
              "  <th>Home Team_LEGANÉS</th>          <td>    0.1419</td> <td>    0.055</td> <td>    2.588</td> <td> 0.010</td> <td>    0.034</td> <td>    0.249</td>\n",
              "</tr>\n",
              "<tr>\n",
              "  <th>Home Team_LEVANTE</th>          <td>    0.2506</td> <td>    0.045</td> <td>    5.611</td> <td> 0.000</td> <td>    0.163</td> <td>    0.338</td>\n",
              "</tr>\n",
              "<tr>\n",
              "  <th>Home Team_MALLORCA</th>         <td>    0.3064</td> <td>    0.106</td> <td>    2.895</td> <td> 0.004</td> <td>    0.099</td> <td>    0.514</td>\n",
              "</tr>\n",
              "<tr>\n",
              "  <th>Home Team_MÁLAGA</th>           <td>   -0.5083</td> <td>    0.054</td> <td>   -9.394</td> <td> 0.000</td> <td>   -0.614</td> <td>   -0.402</td>\n",
              "</tr>\n",
              "<tr>\n",
              "  <th>Home Team_OSASUNA</th>          <td>    0.2387</td> <td>    0.063</td> <td>    3.764</td> <td> 0.000</td> <td>    0.114</td> <td>    0.363</td>\n",
              "</tr>\n",
              "<tr>\n",
              "  <th>Home Team_RAYO VALLECANO</th>   <td>   -0.4653</td> <td>    0.064</td> <td>   -7.310</td> <td> 0.000</td> <td>   -0.590</td> <td>   -0.341</td>\n",
              "</tr>\n",
              "<tr>\n",
              "  <th>Home Team_REAL BETIS</th>       <td>    0.1840</td> <td>    0.046</td> <td>    4.034</td> <td> 0.000</td> <td>    0.095</td> <td>    0.274</td>\n",
              "</tr>\n",
              "<tr>\n",
              "  <th>Home Team_REAL MADRID</th>      <td>    0.4589</td> <td>    0.048</td> <td>    9.586</td> <td> 0.000</td> <td>    0.365</td> <td>    0.553</td>\n",
              "</tr>\n",
              "<tr>\n",
              "  <th>Home Team_REAL SOCIEDAD</th>    <td>    0.3426</td> <td>    0.042</td> <td>    8.153</td> <td> 0.000</td> <td>    0.260</td> <td>    0.425</td>\n",
              "</tr>\n",
              "<tr>\n",
              "  <th>Home Team_SEVILLA FC</th>       <td>    0.3172</td> <td>    0.043</td> <td>    7.362</td> <td> 0.000</td> <td>    0.233</td> <td>    0.402</td>\n",
              "</tr>\n",
              "<tr>\n",
              "  <th>Home Team_VALENCIA</th>         <td>    0.2670</td> <td>    0.042</td> <td>    6.289</td> <td> 0.000</td> <td>    0.184</td> <td>    0.350</td>\n",
              "</tr>\n",
              "<tr>\n",
              "  <th>Home Team_VALLADOLID</th>       <td>    0.1629</td> <td>    0.062</td> <td>    2.621</td> <td> 0.009</td> <td>    0.041</td> <td>    0.285</td>\n",
              "</tr>\n",
              "<tr>\n",
              "  <th>Home Team_VILLARREAL</th>       <td>    0.2843</td> <td>    0.042</td> <td>    6.776</td> <td> 0.000</td> <td>    0.202</td> <td>    0.367</td>\n",
              "</tr>\n",
              "<tr>\n",
              "  <th>Away Team_ALAVÉS</th>           <td>   -0.1422</td> <td>    0.049</td> <td>   -2.900</td> <td> 0.004</td> <td>   -0.238</td> <td>   -0.046</td>\n",
              "</tr>\n",
              "<tr>\n",
              "  <th>Away Team_ALMERÍA</th>          <td>    0.3344</td> <td>    0.106</td> <td>    3.154</td> <td> 0.002</td> <td>    0.127</td> <td>    0.542</td>\n",
              "</tr>\n",
              "<tr>\n",
              "  <th>Away Team_ATHLETIC</th>         <td>   -0.1726</td> <td>    0.042</td> <td>   -4.103</td> <td> 0.000</td> <td>   -0.255</td> <td>   -0.090</td>\n",
              "</tr>\n",
              "<tr>\n",
              "  <th>Away Team_ATLETICO MADRID</th>  <td>   -0.4950</td> <td>    0.042</td> <td>  -11.664</td> <td> 0.000</td> <td>   -0.578</td> <td>   -0.412</td>\n",
              "</tr>\n",
              "<tr>\n",
              "  <th>Away Team_BARCELONA</th>        <td>   -0.7210</td> <td>    0.053</td> <td>  -13.614</td> <td> 0.000</td> <td>   -0.825</td> <td>   -0.617</td>\n",
              "</tr>\n",
              "<tr>\n",
              "  <th>Away Team_CELTA</th>            <td>   -0.2824</td> <td>    0.042</td> <td>   -6.672</td> <td> 0.000</td> <td>   -0.365</td> <td>   -0.199</td>\n",
              "</tr>\n",
              "<tr>\n",
              "  <th>Away Team_CÁDIZ CF</th>         <td>    0.5676</td> <td>    0.108</td> <td>    5.251</td> <td> 0.000</td> <td>    0.356</td> <td>    0.780</td>\n",
              "</tr>\n",
              "<tr>\n",
              "  <th>Away Team_CÓRDOBA</th>          <td>    0.8137</td> <td>    0.106</td> <td>    7.708</td> <td> 0.000</td> <td>    0.607</td> <td>    1.021</td>\n",
              "</tr>\n",
              "<tr>\n",
              "  <th>Away Team_DEPORTIVO</th>        <td>    0.5077</td> <td>    0.054</td> <td>    9.409</td> <td> 0.000</td> <td>    0.402</td> <td>    0.614</td>\n",
              "</tr>\n",
              "<tr>\n",
              "  <th>Away Team_EIBAR</th>            <td>   -0.1210</td> <td>    0.044</td> <td>   -2.732</td> <td> 0.006</td> <td>   -0.208</td> <td>   -0.034</td>\n",
              "</tr>\n",
              "<tr>\n",
              "  <th>Away Team_ELCHE</th>            <td>    0.2921</td> <td>    0.075</td> <td>    3.898</td> <td> 0.000</td> <td>    0.145</td> <td>    0.439</td>\n",
              "</tr>\n",
              "<tr>\n",
              "  <th>Away Team_ESPANYOL</th>         <td>   -0.1607</td> <td>    0.044</td> <td>   -3.636</td> <td> 0.000</td> <td>   -0.247</td> <td>   -0.074</td>\n",
              "</tr>\n",
              "<tr>\n",
              "  <th>Away Team_GETAFE</th>           <td>   -0.1414</td> <td>    0.047</td> <td>   -2.989</td> <td> 0.003</td> <td>   -0.234</td> <td>   -0.049</td>\n",
              "</tr>\n",
              "<tr>\n",
              "  <th>Away Team_GIJÓN</th>            <td>    0.4016</td> <td>    0.076</td> <td>    5.315</td> <td> 0.000</td> <td>    0.253</td> <td>    0.550</td>\n",
              "</tr>\n",
              "<tr>\n",
              "  <th>Away Team_GIRONA</th>           <td>    0.4904</td> <td>    0.075</td> <td>    6.510</td> <td> 0.000</td> <td>    0.343</td> <td>    0.638</td>\n",
              "</tr>\n",
              "<tr>\n",
              "  <th>Away Team_GRANADA</th>          <td>   -0.1384</td> <td>    0.049</td> <td>   -2.819</td> <td> 0.005</td> <td>   -0.235</td> <td>   -0.042</td>\n",
              "</tr>\n",
              "<tr>\n",
              "  <th>Away Team_HUESCA</th>           <td>    0.4262</td> <td>    0.075</td> <td>    5.665</td> <td> 0.000</td> <td>    0.279</td> <td>    0.574</td>\n",
              "</tr>\n",
              "<tr>\n",
              "  <th>Away Team_LAS PALMAS</th>       <td>    0.3327</td> <td>    0.064</td> <td>    5.231</td> <td> 0.000</td> <td>    0.208</td> <td>    0.457</td>\n",
              "</tr>\n",
              "<tr>\n",
              "  <th>Away Team_LEGANÉS</th>          <td>   -0.0634</td> <td>    0.055</td> <td>   -1.155</td> <td> 0.248</td> <td>   -0.171</td> <td>    0.044</td>\n",
              "</tr>\n",
              "<tr>\n",
              "  <th>Away Team_LEVANTE</th>          <td>   -0.2654</td> <td>    0.045</td> <td>   -5.950</td> <td> 0.000</td> <td>   -0.353</td> <td>   -0.178</td>\n",
              "</tr>\n",
              "<tr>\n",
              "  <th>Away Team_MALLORCA</th>         <td>   -0.2217</td> <td>    0.106</td> <td>   -2.098</td> <td> 0.036</td> <td>   -0.429</td> <td>   -0.015</td>\n",
              "</tr>\n",
              "<tr>\n",
              "  <th>Away Team_MÁLAGA</th>           <td>    0.4316</td> <td>    0.054</td> <td>    7.990</td> <td> 0.000</td> <td>    0.326</td> <td>    0.538</td>\n",
              "</tr>\n",
              "<tr>\n",
              "  <th>Away Team_OSASUNA</th>          <td>   -0.1199</td> <td>    0.063</td> <td>   -1.900</td> <td> 0.058</td> <td>   -0.244</td> <td>    0.004</td>\n",
              "</tr>\n",
              "<tr>\n",
              "  <th>Away Team_RAYO VALLECANO</th>   <td>    0.4663</td> <td>    0.063</td> <td>    7.431</td> <td> 0.000</td> <td>    0.343</td> <td>    0.589</td>\n",
              "</tr>\n",
              "<tr>\n",
              "  <th>Away Team_REAL BETIS</th>       <td>   -0.2140</td> <td>    0.046</td> <td>   -4.676</td> <td> 0.000</td> <td>   -0.304</td> <td>   -0.124</td>\n",
              "</tr>\n",
              "<tr>\n",
              "  <th>Away Team_REAL MADRID</th>      <td>   -0.6214</td> <td>    0.047</td> <td>  -13.188</td> <td> 0.000</td> <td>   -0.714</td> <td>   -0.529</td>\n",
              "</tr>\n",
              "<tr>\n",
              "  <th>Away Team_REAL SOCIEDAD</th>    <td>   -0.2632</td> <td>    0.042</td> <td>   -6.288</td> <td> 0.000</td> <td>   -0.345</td> <td>   -0.181</td>\n",
              "</tr>\n",
              "<tr>\n",
              "  <th>Away Team_SEVILLA FC</th>       <td>   -0.2294</td> <td>    0.042</td> <td>   -5.435</td> <td> 0.000</td> <td>   -0.312</td> <td>   -0.147</td>\n",
              "</tr>\n",
              "<tr>\n",
              "  <th>Away Team_VALENCIA</th>         <td>   -0.2633</td> <td>    0.042</td> <td>   -6.277</td> <td> 0.000</td> <td>   -0.346</td> <td>   -0.181</td>\n",
              "</tr>\n",
              "<tr>\n",
              "  <th>Away Team_VALLADOLID</th>       <td>   -0.1513</td> <td>    0.062</td> <td>   -2.428</td> <td> 0.015</td> <td>   -0.273</td> <td>   -0.029</td>\n",
              "</tr>\n",
              "<tr>\n",
              "  <th>Away Team_VILLARREAL</th>       <td>   -0.2770</td> <td>    0.042</td> <td>   -6.586</td> <td> 0.000</td> <td>   -0.359</td> <td>   -0.195</td>\n",
              "</tr>\n",
              "</table>\n",
              "<table class=\"simpletable\">\n",
              "<tr>\n",
              "  <th>Omnibus:</th>       <td>587.710</td> <th>  Durbin-Watson:     </th> <td>   1.923</td>\n",
              "</tr>\n",
              "<tr>\n",
              "  <th>Prob(Omnibus):</th> <td> 0.000</td>  <th>  Jarque-Bera (JB):  </th> <td>6608.392</td>\n",
              "</tr>\n",
              "<tr>\n",
              "  <th>Skew:</th>          <td> 0.715</td>  <th>  Prob(JB):          </th> <td>    0.00</td>\n",
              "</tr>\n",
              "<tr>\n",
              "  <th>Kurtosis:</th>      <td>10.588</td>  <th>  Cond. No.          </th> <td>6.45e+17</td>\n",
              "</tr>\n",
              "</table><br/><br/>Notes:<br/>[1] Standard Errors assume that the covariance matrix of the errors is correctly specified.<br/>[2] The smallest eigenvalue is 1.28e-28. This might indicate that there are<br/>strong multicollinearity problems or that the design matrix is singular."
            ],
            "text/plain": [
              "<class 'statsmodels.iolib.summary.Summary'>\n",
              "\"\"\"\n",
              "                            OLS Regression Results                            \n",
              "==============================================================================\n",
              "Dep. Variable:              goal_diff   R-squared:                       0.935\n",
              "Model:                            OLS   Adj. R-squared:                  0.933\n",
              "Method:                 Least Squares   F-statistic:                     422.8\n",
              "Date:                Sat, 12 Nov 2022   Prob (F-statistic):               0.00\n",
              "Time:                        11:42:14   Log-Likelihood:                -1702.1\n",
              "No. Observations:                2660   AIC:                             3582.\n",
              "Df Residuals:                    2571   BIC:                             4106.\n",
              "Df Model:                          88                                         \n",
              "Covariance Type:            nonrobust                                         \n",
              "==============================================================================================\n",
              "                                 coef    std err          t      P>|t|      [0.025      0.975]\n",
              "----------------------------------------------------------------------------------------------\n",
              "const                         -0.0002    8.2e-05     -2.639      0.008      -0.000   -5.56e-05\n",
              "Match Excitement              -0.0018      0.008     -0.228      0.820      -0.017       0.013\n",
              "Home Team Rating               1.1508      0.025     46.940      0.000       1.103       1.199\n",
              "Away Team Rating              -0.9791      0.024    -41.331      0.000      -1.026      -0.933\n",
              "Home Team Possession %        -0.0073      0.004     -1.626      0.104      -0.016       0.002\n",
              "Away Team Possession %        -0.0144      0.004     -3.293      0.001      -0.023      -0.006\n",
              "Home Team Off Target Shots     0.0598      0.050      1.195      0.232      -0.038       0.158\n",
              "Home Team On Target Shots     -0.0449      0.050     -0.894      0.372      -0.144       0.054\n",
              "Home Team Total Shots         -0.0659      0.050     -1.321      0.187      -0.164       0.032\n",
              "Home Team Blocked Shots        0.0788      0.050      1.576      0.115      -0.019       0.177\n",
              "Home Team Corners             -0.0332      0.004     -7.770      0.000      -0.042      -0.025\n",
              "Home Team Throw Ins            0.0070      0.002      3.804      0.000       0.003       0.011\n",
              "Home Team Pass Success %      -0.0155      0.004     -4.387      0.000      -0.022      -0.009\n",
              "Home Team Aerials Won         -0.0041      0.002     -2.153      0.031      -0.008      -0.000\n",
              "Home Team Clearances          -0.0004      0.002     -0.265      0.791      -0.004       0.003\n",
              "Home Team Fouls                0.0070      0.003      2.641      0.008       0.002       0.012\n",
              "Home Team Yellow Cards         0.0714      0.007     10.009      0.000       0.057       0.085\n",
              "Home Team Red Cards            0.2110      0.042      4.967      0.000       0.128       0.294\n",
              "Away Team Off Target Shots    -0.0087      0.045     -0.192      0.848      -0.098       0.080\n",
              "Away Team On Target Shots      0.1012      0.046      2.215      0.027       0.012       0.191\n",
              "Away Team Total Shots          0.0162      0.045      0.358      0.720      -0.073       0.105\n",
              "Away Team Blocked Shots       -0.0326      0.046     -0.714      0.475      -0.122       0.057\n",
              "Away Team Corners              0.0235      0.005      5.152      0.000       0.015       0.032\n",
              "Away Team Throw Ins           -0.0048      0.002     -2.449      0.014      -0.009      -0.001\n",
              "Away Team Pass Success %       0.0186      0.003      5.632      0.000       0.012       0.025\n",
              "Away Team Aerials Won          0.0027      0.002      1.438      0.151      -0.001       0.006\n",
              "Away Team Clearances          -0.0025      0.002     -1.638      0.101      -0.005       0.000\n",
              "Away Team Fouls               -0.0067      0.003     -2.552      0.011      -0.012      -0.002\n",
              "Away Team Yellow Cards        -0.0591      0.007     -8.386      0.000      -0.073      -0.045\n",
              "Away Team Red Cards           -0.0778      0.042     -1.842      0.066      -0.161       0.005\n",
              "Home Team_ALAVÉS               0.2197      0.050      4.435      0.000       0.123       0.317\n",
              "Home Team_ALMERÍA             -0.4407      0.106     -4.160      0.000      -0.648      -0.233\n",
              "Home Team_ATHLETIC             0.2735      0.042      6.504      0.000       0.191       0.356\n",
              "Home Team_ATLETICO MADRID      0.3908      0.043      9.194      0.000       0.307       0.474\n",
              "Home Team_BARCELONA            0.5501      0.052     10.526      0.000       0.448       0.653\n",
              "Home Team_CELTA                0.1924      0.043      4.517      0.000       0.109       0.276\n",
              "Home Team_CÁDIZ CF            -0.5342      0.108     -4.954      0.000      -0.746      -0.323\n",
              "Home Team_CÓRDOBA             -0.8490      0.105     -8.054      0.000      -1.056      -0.642\n",
              "Home Team_DEPORTIVO           -0.4872      0.054     -9.069      0.000      -0.593      -0.382\n",
              "Home Team_EIBAR                0.3824      0.046      8.367      0.000       0.293       0.472\n",
              "Home Team_ELCHE               -0.3851      0.075     -5.111      0.000      -0.533      -0.237\n",
              "Home Team_ESPANYOL             0.1800      0.044      4.047      0.000       0.093       0.267\n",
              "Home Team_GETAFE               0.3684      0.048      7.743      0.000       0.275       0.462\n",
              "Home Team_GIJÓN               -0.5011      0.076     -6.620      0.000      -0.650      -0.353\n",
              "Home Team_GIRONA              -0.3795      0.076     -5.025      0.000      -0.528      -0.231\n",
              "Home Team_GRANADA              0.2038      0.049      4.171      0.000       0.108       0.300\n",
              "Home Team_HUESCA              -0.5520      0.075     -7.349      0.000      -0.699      -0.405\n",
              "Home Team_LAS PALMAS          -0.6134      0.064     -9.553      0.000      -0.739      -0.487\n",
              "Home Team_LEGANÉS              0.1419      0.055      2.588      0.010       0.034       0.249\n",
              "Home Team_LEVANTE              0.2506      0.045      5.611      0.000       0.163       0.338\n",
              "Home Team_MALLORCA             0.3064      0.106      2.895      0.004       0.099       0.514\n",
              "Home Team_MÁLAGA              -0.5083      0.054     -9.394      0.000      -0.614      -0.402\n",
              "Home Team_OSASUNA              0.2387      0.063      3.764      0.000       0.114       0.363\n",
              "Home Team_RAYO VALLECANO      -0.4653      0.064     -7.310      0.000      -0.590      -0.341\n",
              "Home Team_REAL BETIS           0.1840      0.046      4.034      0.000       0.095       0.274\n",
              "Home Team_REAL MADRID          0.4589      0.048      9.586      0.000       0.365       0.553\n",
              "Home Team_REAL SOCIEDAD        0.3426      0.042      8.153      0.000       0.260       0.425\n",
              "Home Team_SEVILLA FC           0.3172      0.043      7.362      0.000       0.233       0.402\n",
              "Home Team_VALENCIA             0.2670      0.042      6.289      0.000       0.184       0.350\n",
              "Home Team_VALLADOLID           0.1629      0.062      2.621      0.009       0.041       0.285\n",
              "Home Team_VILLARREAL           0.2843      0.042      6.776      0.000       0.202       0.367\n",
              "Away Team_ALAVÉS              -0.1422      0.049     -2.900      0.004      -0.238      -0.046\n",
              "Away Team_ALMERÍA              0.3344      0.106      3.154      0.002       0.127       0.542\n",
              "Away Team_ATHLETIC            -0.1726      0.042     -4.103      0.000      -0.255      -0.090\n",
              "Away Team_ATLETICO MADRID     -0.4950      0.042    -11.664      0.000      -0.578      -0.412\n",
              "Away Team_BARCELONA           -0.7210      0.053    -13.614      0.000      -0.825      -0.617\n",
              "Away Team_CELTA               -0.2824      0.042     -6.672      0.000      -0.365      -0.199\n",
              "Away Team_CÁDIZ CF             0.5676      0.108      5.251      0.000       0.356       0.780\n",
              "Away Team_CÓRDOBA              0.8137      0.106      7.708      0.000       0.607       1.021\n",
              "Away Team_DEPORTIVO            0.5077      0.054      9.409      0.000       0.402       0.614\n",
              "Away Team_EIBAR               -0.1210      0.044     -2.732      0.006      -0.208      -0.034\n",
              "Away Team_ELCHE                0.2921      0.075      3.898      0.000       0.145       0.439\n",
              "Away Team_ESPANYOL            -0.1607      0.044     -3.636      0.000      -0.247      -0.074\n",
              "Away Team_GETAFE              -0.1414      0.047     -2.989      0.003      -0.234      -0.049\n",
              "Away Team_GIJÓN                0.4016      0.076      5.315      0.000       0.253       0.550\n",
              "Away Team_GIRONA               0.4904      0.075      6.510      0.000       0.343       0.638\n",
              "Away Team_GRANADA             -0.1384      0.049     -2.819      0.005      -0.235      -0.042\n",
              "Away Team_HUESCA               0.4262      0.075      5.665      0.000       0.279       0.574\n",
              "Away Team_LAS PALMAS           0.3327      0.064      5.231      0.000       0.208       0.457\n",
              "Away Team_LEGANÉS             -0.0634      0.055     -1.155      0.248      -0.171       0.044\n",
              "Away Team_LEVANTE             -0.2654      0.045     -5.950      0.000      -0.353      -0.178\n",
              "Away Team_MALLORCA            -0.2217      0.106     -2.098      0.036      -0.429      -0.015\n",
              "Away Team_MÁLAGA               0.4316      0.054      7.990      0.000       0.326       0.538\n",
              "Away Team_OSASUNA             -0.1199      0.063     -1.900      0.058      -0.244       0.004\n",
              "Away Team_RAYO VALLECANO       0.4663      0.063      7.431      0.000       0.343       0.589\n",
              "Away Team_REAL BETIS          -0.2140      0.046     -4.676      0.000      -0.304      -0.124\n",
              "Away Team_REAL MADRID         -0.6214      0.047    -13.188      0.000      -0.714      -0.529\n",
              "Away Team_REAL SOCIEDAD       -0.2632      0.042     -6.288      0.000      -0.345      -0.181\n",
              "Away Team_SEVILLA FC          -0.2294      0.042     -5.435      0.000      -0.312      -0.147\n",
              "Away Team_VALENCIA            -0.2633      0.042     -6.277      0.000      -0.346      -0.181\n",
              "Away Team_VALLADOLID          -0.1513      0.062     -2.428      0.015      -0.273      -0.029\n",
              "Away Team_VILLARREAL          -0.2770      0.042     -6.586      0.000      -0.359      -0.195\n",
              "==============================================================================\n",
              "Omnibus:                      587.710   Durbin-Watson:                   1.923\n",
              "Prob(Omnibus):                  0.000   Jarque-Bera (JB):             6608.392\n",
              "Skew:                           0.715   Prob(JB):                         0.00\n",
              "Kurtosis:                      10.588   Cond. No.                     6.45e+17\n",
              "==============================================================================\n",
              "\n",
              "Notes:\n",
              "[1] Standard Errors assume that the covariance matrix of the errors is correctly specified.\n",
              "[2] The smallest eigenvalue is 1.28e-28. This might indicate that there are\n",
              "strong multicollinearity problems or that the design matrix is singular.\n",
              "\"\"\""
            ]
          },
          "execution_count": 98,
          "metadata": {},
          "output_type": "execute_result"
        }
      ],
      "source": [
        "results = sm.OLS(endog= DA_data['goal_diff'],exog=sm.add_constant(wo_latent_data.drop([\"goal_diff\"], axis=1))).fit()\n",
        "results.summary()"
      ]
    },
    {
      "cell_type": "code",
      "execution_count": null,
      "metadata": {
        "colab": {
          "base_uri": "https://localhost:8080/",
          "height": 1000
        },
        "id": "pZgxHOb2VK8o",
        "outputId": "7d05ec33-10c3-40d4-824f-d8f42bc5981c"
      },
      "outputs": [
        {
          "name": "stderr",
          "output_type": "stream",
          "text": [
            "/usr/local/lib/python3.7/dist-packages/statsmodels/tsa/tsatools.py:142: FutureWarning: In a future version of pandas all arguments of concat except for the argument 'objs' will be keyword-only\n",
            "  x = pd.concat(x[::order], 1)\n"
          ]
        },
        {
          "data": {
            "text/html": [
              "<table class=\"simpletable\">\n",
              "<caption>OLS Regression Results</caption>\n",
              "<tr>\n",
              "  <th>Dep. Variable:</th>        <td>goal_diff</td>    <th>  R-squared:         </th> <td>   0.935</td>\n",
              "</tr>\n",
              "<tr>\n",
              "  <th>Model:</th>                   <td>OLS</td>       <th>  Adj. R-squared:    </th> <td>   0.933</td>\n",
              "</tr>\n",
              "<tr>\n",
              "  <th>Method:</th>             <td>Least Squares</td>  <th>  F-statistic:       </th> <td>   413.4</td>\n",
              "</tr>\n",
              "<tr>\n",
              "  <th>Date:</th>             <td>Sat, 12 Nov 2022</td> <th>  Prob (F-statistic):</th>  <td>  0.00</td> \n",
              "</tr>\n",
              "<tr>\n",
              "  <th>Time:</th>                 <td>11:42:20</td>     <th>  Log-Likelihood:    </th> <td> -1701.2</td>\n",
              "</tr>\n",
              "<tr>\n",
              "  <th>No. Observations:</th>      <td>  2660</td>      <th>  AIC:               </th> <td>   3584.</td>\n",
              "</tr>\n",
              "<tr>\n",
              "  <th>Df Residuals:</th>          <td>  2569</td>      <th>  BIC:               </th> <td>   4120.</td>\n",
              "</tr>\n",
              "<tr>\n",
              "  <th>Df Model:</th>              <td>    90</td>      <th>                     </th>     <td> </td>   \n",
              "</tr>\n",
              "<tr>\n",
              "  <th>Covariance Type:</th>      <td>nonrobust</td>    <th>                     </th>     <td> </td>   \n",
              "</tr>\n",
              "</table>\n",
              "<table class=\"simpletable\">\n",
              "<tr>\n",
              "               <td></td>                 <th>coef</th>     <th>std err</th>      <th>t</th>      <th>P>|t|</th>  <th>[0.025</th>    <th>0.975]</th>  \n",
              "</tr>\n",
              "<tr>\n",
              "  <th>const</th>                      <td>   -0.0002</td> <td> 8.25e-05</td> <td>   -2.562</td> <td> 0.010</td> <td>   -0.000</td> <td>-4.96e-05</td>\n",
              "</tr>\n",
              "<tr>\n",
              "  <th>Match Excitement</th>           <td>   -0.0015</td> <td>    0.008</td> <td>   -0.196</td> <td> 0.844</td> <td>   -0.017</td> <td>    0.014</td>\n",
              "</tr>\n",
              "<tr>\n",
              "  <th>Home Team Rating</th>           <td>    1.1507</td> <td>    0.025</td> <td>   46.912</td> <td> 0.000</td> <td>    1.103</td> <td>    1.199</td>\n",
              "</tr>\n",
              "<tr>\n",
              "  <th>Away Team Rating</th>           <td>   -0.9788</td> <td>    0.024</td> <td>  -41.315</td> <td> 0.000</td> <td>   -1.025</td> <td>   -0.932</td>\n",
              "</tr>\n",
              "<tr>\n",
              "  <th>Home Team Possession %</th>     <td>   -0.0070</td> <td>    0.005</td> <td>   -1.555</td> <td> 0.120</td> <td>   -0.016</td> <td>    0.002</td>\n",
              "</tr>\n",
              "<tr>\n",
              "  <th>Away Team Possession %</th>     <td>   -0.0141</td> <td>    0.004</td> <td>   -3.225</td> <td> 0.001</td> <td>   -0.023</td> <td>   -0.006</td>\n",
              "</tr>\n",
              "<tr>\n",
              "  <th>Home Team Off Target Shots</th> <td>    0.0610</td> <td>    0.050</td> <td>    1.218</td> <td> 0.223</td> <td>   -0.037</td> <td>    0.159</td>\n",
              "</tr>\n",
              "<tr>\n",
              "  <th>Home Team On Target Shots</th>  <td>   -0.0438</td> <td>    0.050</td> <td>   -0.870</td> <td> 0.384</td> <td>   -0.142</td> <td>    0.055</td>\n",
              "</tr>\n",
              "<tr>\n",
              "  <th>Home Team Total Shots</th>      <td>   -0.0671</td> <td>    0.050</td> <td>   -1.345</td> <td> 0.179</td> <td>   -0.165</td> <td>    0.031</td>\n",
              "</tr>\n",
              "<tr>\n",
              "  <th>Home Team Blocked Shots</th>    <td>    0.0798</td> <td>    0.050</td> <td>    1.596</td> <td> 0.111</td> <td>   -0.018</td> <td>    0.178</td>\n",
              "</tr>\n",
              "<tr>\n",
              "  <th>Home Team Corners</th>          <td>   -0.0330</td> <td>    0.004</td> <td>   -7.705</td> <td> 0.000</td> <td>   -0.041</td> <td>   -0.025</td>\n",
              "</tr>\n",
              "<tr>\n",
              "  <th>Home Team Throw Ins</th>        <td>    0.0070</td> <td>    0.002</td> <td>    3.803</td> <td> 0.000</td> <td>    0.003</td> <td>    0.011</td>\n",
              "</tr>\n",
              "<tr>\n",
              "  <th>Home Team Pass Success %</th>   <td>   -0.0155</td> <td>    0.004</td> <td>   -4.382</td> <td> 0.000</td> <td>   -0.022</td> <td>   -0.009</td>\n",
              "</tr>\n",
              "<tr>\n",
              "  <th>Home Team Aerials Won</th>      <td>   -0.0040</td> <td>    0.002</td> <td>   -2.151</td> <td> 0.032</td> <td>   -0.008</td> <td>   -0.000</td>\n",
              "</tr>\n",
              "<tr>\n",
              "  <th>Home Team Clearances</th>       <td>   -0.0004</td> <td>    0.002</td> <td>   -0.268</td> <td> 0.789</td> <td>   -0.004</td> <td>    0.003</td>\n",
              "</tr>\n",
              "<tr>\n",
              "  <th>Home Team Fouls</th>            <td>    0.0070</td> <td>    0.003</td> <td>    2.638</td> <td> 0.008</td> <td>    0.002</td> <td>    0.012</td>\n",
              "</tr>\n",
              "<tr>\n",
              "  <th>Home Team Yellow Cards</th>     <td>    0.0715</td> <td>    0.007</td> <td>   10.024</td> <td> 0.000</td> <td>    0.058</td> <td>    0.086</td>\n",
              "</tr>\n",
              "<tr>\n",
              "  <th>Home Team Red Cards</th>        <td>    0.2118</td> <td>    0.043</td> <td>    4.984</td> <td> 0.000</td> <td>    0.128</td> <td>    0.295</td>\n",
              "</tr>\n",
              "<tr>\n",
              "  <th>Away Team Off Target Shots</th> <td>   -0.0085</td> <td>    0.045</td> <td>   -0.187</td> <td> 0.852</td> <td>   -0.098</td> <td>    0.081</td>\n",
              "</tr>\n",
              "<tr>\n",
              "  <th>Away Team On Target Shots</th>  <td>    0.1013</td> <td>    0.046</td> <td>    2.217</td> <td> 0.027</td> <td>    0.012</td> <td>    0.191</td>\n",
              "</tr>\n",
              "<tr>\n",
              "  <th>Away Team Total Shots</th>      <td>    0.0159</td> <td>    0.045</td> <td>    0.351</td> <td> 0.726</td> <td>   -0.073</td> <td>    0.105</td>\n",
              "</tr>\n",
              "<tr>\n",
              "  <th>Away Team Blocked Shots</th>    <td>   -0.0323</td> <td>    0.046</td> <td>   -0.707</td> <td> 0.480</td> <td>   -0.122</td> <td>    0.057</td>\n",
              "</tr>\n",
              "<tr>\n",
              "  <th>Away Team Corners</th>          <td>    0.0236</td> <td>    0.005</td> <td>    5.163</td> <td> 0.000</td> <td>    0.015</td> <td>    0.033</td>\n",
              "</tr>\n",
              "<tr>\n",
              "  <th>Away Team Throw Ins</th>        <td>   -0.0048</td> <td>    0.002</td> <td>   -2.441</td> <td> 0.015</td> <td>   -0.009</td> <td>   -0.001</td>\n",
              "</tr>\n",
              "<tr>\n",
              "  <th>Away Team Pass Success %</th>   <td>    0.0187</td> <td>    0.003</td> <td>    5.657</td> <td> 0.000</td> <td>    0.012</td> <td>    0.025</td>\n",
              "</tr>\n",
              "<tr>\n",
              "  <th>Away Team Aerials Won</th>      <td>    0.0027</td> <td>    0.002</td> <td>    1.433</td> <td> 0.152</td> <td>   -0.001</td> <td>    0.006</td>\n",
              "</tr>\n",
              "<tr>\n",
              "  <th>Away Team Clearances</th>       <td>   -0.0025</td> <td>    0.002</td> <td>   -1.681</td> <td> 0.093</td> <td>   -0.006</td> <td>    0.000</td>\n",
              "</tr>\n",
              "<tr>\n",
              "  <th>Away Team Fouls</th>            <td>   -0.0066</td> <td>    0.003</td> <td>   -2.533</td> <td> 0.011</td> <td>   -0.012</td> <td>   -0.001</td>\n",
              "</tr>\n",
              "<tr>\n",
              "  <th>Away Team Yellow Cards</th>     <td>   -0.0591</td> <td>    0.007</td> <td>   -8.386</td> <td> 0.000</td> <td>   -0.073</td> <td>   -0.045</td>\n",
              "</tr>\n",
              "<tr>\n",
              "  <th>Away Team Red Cards</th>        <td>   -0.0782</td> <td>    0.042</td> <td>   -1.850</td> <td> 0.064</td> <td>   -0.161</td> <td>    0.005</td>\n",
              "</tr>\n",
              "<tr>\n",
              "  <th>Temperature</th>                <td>   -0.0005</td> <td>    0.001</td> <td>   -0.616</td> <td> 0.538</td> <td>   -0.002</td> <td>    0.001</td>\n",
              "</tr>\n",
              "<tr>\n",
              "  <th>Rain</th>                       <td>   -2.2308</td> <td>    1.928</td> <td>   -1.157</td> <td> 0.247</td> <td>   -6.011</td> <td>    1.550</td>\n",
              "</tr>\n",
              "<tr>\n",
              "  <th>Home Team_ALAVÉS</th>           <td>    0.2179</td> <td>    0.050</td> <td>    4.396</td> <td> 0.000</td> <td>    0.121</td> <td>    0.315</td>\n",
              "</tr>\n",
              "<tr>\n",
              "  <th>Home Team_ALMERÍA</th>          <td>   -0.4042</td> <td>    0.110</td> <td>   -3.673</td> <td> 0.000</td> <td>   -0.620</td> <td>   -0.188</td>\n",
              "</tr>\n",
              "<tr>\n",
              "  <th>Home Team_ATHLETIC</th>         <td>    0.2717</td> <td>    0.042</td> <td>    6.454</td> <td> 0.000</td> <td>    0.189</td> <td>    0.354</td>\n",
              "</tr>\n",
              "<tr>\n",
              "  <th>Home Team_ATLETICO MADRID</th>  <td>    0.3869</td> <td>    0.043</td> <td>    9.056</td> <td> 0.000</td> <td>    0.303</td> <td>    0.471</td>\n",
              "</tr>\n",
              "<tr>\n",
              "  <th>Home Team_BARCELONA</th>        <td>    0.5481</td> <td>    0.052</td> <td>   10.481</td> <td> 0.000</td> <td>    0.446</td> <td>    0.651</td>\n",
              "</tr>\n",
              "<tr>\n",
              "  <th>Home Team_CELTA</th>            <td>    0.1900</td> <td>    0.043</td> <td>    4.456</td> <td> 0.000</td> <td>    0.106</td> <td>    0.274</td>\n",
              "</tr>\n",
              "<tr>\n",
              "  <th>Home Team_CÁDIZ CF</th>         <td>   -0.5352</td> <td>    0.108</td> <td>   -4.963</td> <td> 0.000</td> <td>   -0.747</td> <td>   -0.324</td>\n",
              "</tr>\n",
              "<tr>\n",
              "  <th>Home Team_CÓRDOBA</th>          <td>   -0.8481</td> <td>    0.105</td> <td>   -8.044</td> <td> 0.000</td> <td>   -1.055</td> <td>   -0.641</td>\n",
              "</tr>\n",
              "<tr>\n",
              "  <th>Home Team_DEPORTIVO</th>        <td>   -0.4903</td> <td>    0.054</td> <td>   -9.109</td> <td> 0.000</td> <td>   -0.596</td> <td>   -0.385</td>\n",
              "</tr>\n",
              "<tr>\n",
              "  <th>Home Team_EIBAR</th>            <td>    0.3811</td> <td>    0.046</td> <td>    8.336</td> <td> 0.000</td> <td>    0.291</td> <td>    0.471</td>\n",
              "</tr>\n",
              "<tr>\n",
              "  <th>Home Team_ELCHE</th>            <td>   -0.3867</td> <td>    0.075</td> <td>   -5.131</td> <td> 0.000</td> <td>   -0.534</td> <td>   -0.239</td>\n",
              "</tr>\n",
              "<tr>\n",
              "  <th>Home Team_ESPANYOL</th>         <td>    0.1797</td> <td>    0.045</td> <td>    4.036</td> <td> 0.000</td> <td>    0.092</td> <td>    0.267</td>\n",
              "</tr>\n",
              "<tr>\n",
              "  <th>Home Team_GETAFE</th>           <td>    0.3649</td> <td>    0.048</td> <td>    7.644</td> <td> 0.000</td> <td>    0.271</td> <td>    0.459</td>\n",
              "</tr>\n",
              "<tr>\n",
              "  <th>Home Team_GIJÓN</th>            <td>   -0.5037</td> <td>    0.076</td> <td>   -6.650</td> <td> 0.000</td> <td>   -0.652</td> <td>   -0.355</td>\n",
              "</tr>\n",
              "<tr>\n",
              "  <th>Home Team_GIRONA</th>           <td>   -0.3814</td> <td>    0.076</td> <td>   -5.049</td> <td> 0.000</td> <td>   -0.530</td> <td>   -0.233</td>\n",
              "</tr>\n",
              "<tr>\n",
              "  <th>Home Team_GRANADA</th>          <td>    0.2055</td> <td>    0.049</td> <td>    4.190</td> <td> 0.000</td> <td>    0.109</td> <td>    0.302</td>\n",
              "</tr>\n",
              "<tr>\n",
              "  <th>Home Team_HUESCA</th>           <td>   -0.5555</td> <td>    0.075</td> <td>   -7.386</td> <td> 0.000</td> <td>   -0.703</td> <td>   -0.408</td>\n",
              "</tr>\n",
              "<tr>\n",
              "  <th>Home Team_LAS PALMAS</th>       <td>   -0.6100</td> <td>    0.065</td> <td>   -9.438</td> <td> 0.000</td> <td>   -0.737</td> <td>   -0.483</td>\n",
              "</tr>\n",
              "<tr>\n",
              "  <th>Home Team_LEGANÉS</th>          <td>    0.1396</td> <td>    0.055</td> <td>    2.544</td> <td> 0.011</td> <td>    0.032</td> <td>    0.247</td>\n",
              "</tr>\n",
              "<tr>\n",
              "  <th>Home Team_LEVANTE</th>          <td>    0.2510</td> <td>    0.045</td> <td>    5.611</td> <td> 0.000</td> <td>    0.163</td> <td>    0.339</td>\n",
              "</tr>\n",
              "<tr>\n",
              "  <th>Home Team_MALLORCA</th>         <td>    0.3085</td> <td>    0.106</td> <td>    2.912</td> <td> 0.004</td> <td>    0.101</td> <td>    0.516</td>\n",
              "</tr>\n",
              "<tr>\n",
              "  <th>Home Team_MÁLAGA</th>           <td>   -0.5061</td> <td>    0.054</td> <td>   -9.299</td> <td> 0.000</td> <td>   -0.613</td> <td>   -0.399</td>\n",
              "</tr>\n",
              "<tr>\n",
              "  <th>Home Team_OSASUNA</th>          <td>    0.2371</td> <td>    0.063</td> <td>    3.739</td> <td> 0.000</td> <td>    0.113</td> <td>    0.361</td>\n",
              "</tr>\n",
              "<tr>\n",
              "  <th>Home Team_RAYO VALLECANO</th>   <td>   -0.4683</td> <td>    0.064</td> <td>   -7.346</td> <td> 0.000</td> <td>   -0.593</td> <td>   -0.343</td>\n",
              "</tr>\n",
              "<tr>\n",
              "  <th>Home Team_REAL BETIS</th>       <td>    0.1854</td> <td>    0.046</td> <td>    4.045</td> <td> 0.000</td> <td>    0.095</td> <td>    0.275</td>\n",
              "</tr>\n",
              "<tr>\n",
              "  <th>Home Team_REAL MADRID</th>      <td>    0.4546</td> <td>    0.048</td> <td>    9.446</td> <td> 0.000</td> <td>    0.360</td> <td>    0.549</td>\n",
              "</tr>\n",
              "<tr>\n",
              "  <th>Home Team_REAL SOCIEDAD</th>    <td>    0.3406</td> <td>    0.042</td> <td>    8.095</td> <td> 0.000</td> <td>    0.258</td> <td>    0.423</td>\n",
              "</tr>\n",
              "<tr>\n",
              "  <th>Home Team_SEVILLA FC</th>       <td>    0.3182</td> <td>    0.043</td> <td>    7.350</td> <td> 0.000</td> <td>    0.233</td> <td>    0.403</td>\n",
              "</tr>\n",
              "<tr>\n",
              "  <th>Home Team_VALENCIA</th>         <td>    0.2677</td> <td>    0.043</td> <td>    6.289</td> <td> 0.000</td> <td>    0.184</td> <td>    0.351</td>\n",
              "</tr>\n",
              "<tr>\n",
              "  <th>Home Team_VALLADOLID</th>       <td>    0.1570</td> <td>    0.063</td> <td>    2.507</td> <td> 0.012</td> <td>    0.034</td> <td>    0.280</td>\n",
              "</tr>\n",
              "<tr>\n",
              "  <th>Home Team_VILLARREAL</th>       <td>    0.2841</td> <td>    0.042</td> <td>    6.763</td> <td> 0.000</td> <td>    0.202</td> <td>    0.366</td>\n",
              "</tr>\n",
              "<tr>\n",
              "  <th>Away Team_ALAVÉS</th>           <td>   -0.1421</td> <td>    0.049</td> <td>   -2.899</td> <td> 0.004</td> <td>   -0.238</td> <td>   -0.046</td>\n",
              "</tr>\n",
              "<tr>\n",
              "  <th>Away Team_ALMERÍA</th>          <td>    0.3339</td> <td>    0.106</td> <td>    3.149</td> <td> 0.002</td> <td>    0.126</td> <td>    0.542</td>\n",
              "</tr>\n",
              "<tr>\n",
              "  <th>Away Team_ATHLETIC</th>         <td>   -0.1728</td> <td>    0.042</td> <td>   -4.105</td> <td> 0.000</td> <td>   -0.255</td> <td>   -0.090</td>\n",
              "</tr>\n",
              "<tr>\n",
              "  <th>Away Team_ATLETICO MADRID</th>  <td>   -0.4947</td> <td>    0.042</td> <td>  -11.651</td> <td> 0.000</td> <td>   -0.578</td> <td>   -0.411</td>\n",
              "</tr>\n",
              "<tr>\n",
              "  <th>Away Team_BARCELONA</th>        <td>   -0.7215</td> <td>    0.053</td> <td>  -13.621</td> <td> 0.000</td> <td>   -0.825</td> <td>   -0.618</td>\n",
              "</tr>\n",
              "<tr>\n",
              "  <th>Away Team_CELTA</th>            <td>   -0.2828</td> <td>    0.042</td> <td>   -6.679</td> <td> 0.000</td> <td>   -0.366</td> <td>   -0.200</td>\n",
              "</tr>\n",
              "<tr>\n",
              "  <th>Away Team_CÁDIZ CF</th>         <td>    0.5660</td> <td>    0.108</td> <td>    5.234</td> <td> 0.000</td> <td>    0.354</td> <td>    0.778</td>\n",
              "</tr>\n",
              "<tr>\n",
              "  <th>Away Team_CÓRDOBA</th>          <td>    0.8128</td> <td>    0.106</td> <td>    7.698</td> <td> 0.000</td> <td>    0.606</td> <td>    1.020</td>\n",
              "</tr>\n",
              "<tr>\n",
              "  <th>Away Team_DEPORTIVO</th>        <td>    0.5069</td> <td>    0.054</td> <td>    9.391</td> <td> 0.000</td> <td>    0.401</td> <td>    0.613</td>\n",
              "</tr>\n",
              "<tr>\n",
              "  <th>Away Team_EIBAR</th>            <td>   -0.1206</td> <td>    0.044</td> <td>   -2.724</td> <td> 0.006</td> <td>   -0.207</td> <td>   -0.034</td>\n",
              "</tr>\n",
              "<tr>\n",
              "  <th>Away Team_ELCHE</th>            <td>    0.2896</td> <td>    0.075</td> <td>    3.862</td> <td> 0.000</td> <td>    0.143</td> <td>    0.437</td>\n",
              "</tr>\n",
              "<tr>\n",
              "  <th>Away Team_ESPANYOL</th>         <td>   -0.1606</td> <td>    0.044</td> <td>   -3.634</td> <td> 0.000</td> <td>   -0.247</td> <td>   -0.074</td>\n",
              "</tr>\n",
              "<tr>\n",
              "  <th>Away Team_GETAFE</th>           <td>   -0.1404</td> <td>    0.047</td> <td>   -2.967</td> <td> 0.003</td> <td>   -0.233</td> <td>   -0.048</td>\n",
              "</tr>\n",
              "<tr>\n",
              "  <th>Away Team_GIJÓN</th>            <td>    0.4020</td> <td>    0.076</td> <td>    5.320</td> <td> 0.000</td> <td>    0.254</td> <td>    0.550</td>\n",
              "</tr>\n",
              "<tr>\n",
              "  <th>Away Team_GIRONA</th>           <td>    0.4895</td> <td>    0.075</td> <td>    6.497</td> <td> 0.000</td> <td>    0.342</td> <td>    0.637</td>\n",
              "</tr>\n",
              "<tr>\n",
              "  <th>Away Team_GRANADA</th>          <td>   -0.1385</td> <td>    0.049</td> <td>   -2.822</td> <td> 0.005</td> <td>   -0.235</td> <td>   -0.042</td>\n",
              "</tr>\n",
              "<tr>\n",
              "  <th>Away Team_HUESCA</th>           <td>    0.4267</td> <td>    0.075</td> <td>    5.671</td> <td> 0.000</td> <td>    0.279</td> <td>    0.574</td>\n",
              "</tr>\n",
              "<tr>\n",
              "  <th>Away Team_LAS PALMAS</th>       <td>    0.3321</td> <td>    0.064</td> <td>    5.221</td> <td> 0.000</td> <td>    0.207</td> <td>    0.457</td>\n",
              "</tr>\n",
              "<tr>\n",
              "  <th>Away Team_LEGANÉS</th>          <td>   -0.0627</td> <td>    0.055</td> <td>   -1.142</td> <td> 0.254</td> <td>   -0.170</td> <td>    0.045</td>\n",
              "</tr>\n",
              "<tr>\n",
              "  <th>Away Team_LEVANTE</th>          <td>   -0.2659</td> <td>    0.045</td> <td>   -5.962</td> <td> 0.000</td> <td>   -0.353</td> <td>   -0.178</td>\n",
              "</tr>\n",
              "<tr>\n",
              "  <th>Away Team_MALLORCA</th>         <td>   -0.2188</td> <td>    0.106</td> <td>   -2.069</td> <td> 0.039</td> <td>   -0.426</td> <td>   -0.011</td>\n",
              "</tr>\n",
              "<tr>\n",
              "  <th>Away Team_MÁLAGA</th>           <td>    0.4311</td> <td>    0.054</td> <td>    7.980</td> <td> 0.000</td> <td>    0.325</td> <td>    0.537</td>\n",
              "</tr>\n",
              "<tr>\n",
              "  <th>Away Team_OSASUNA</th>          <td>   -0.1185</td> <td>    0.063</td> <td>   -1.877</td> <td> 0.061</td> <td>   -0.242</td> <td>    0.005</td>\n",
              "</tr>\n",
              "<tr>\n",
              "  <th>Away Team_RAYO VALLECANO</th>   <td>    0.4651</td> <td>    0.063</td> <td>    7.410</td> <td> 0.000</td> <td>    0.342</td> <td>    0.588</td>\n",
              "</tr>\n",
              "<tr>\n",
              "  <th>Away Team_REAL BETIS</th>       <td>   -0.2139</td> <td>    0.046</td> <td>   -4.674</td> <td> 0.000</td> <td>   -0.304</td> <td>   -0.124</td>\n",
              "</tr>\n",
              "<tr>\n",
              "  <th>Away Team_REAL MADRID</th>      <td>   -0.6220</td> <td>    0.047</td> <td>  -13.196</td> <td> 0.000</td> <td>   -0.714</td> <td>   -0.530</td>\n",
              "</tr>\n",
              "<tr>\n",
              "  <th>Away Team_REAL SOCIEDAD</th>    <td>   -0.2592</td> <td>    0.042</td> <td>   -6.171</td> <td> 0.000</td> <td>   -0.342</td> <td>   -0.177</td>\n",
              "</tr>\n",
              "<tr>\n",
              "  <th>Away Team_SEVILLA FC</th>       <td>   -0.2297</td> <td>    0.042</td> <td>   -5.442</td> <td> 0.000</td> <td>   -0.313</td> <td>   -0.147</td>\n",
              "</tr>\n",
              "<tr>\n",
              "  <th>Away Team_VALENCIA</th>         <td>   -0.2635</td> <td>    0.042</td> <td>   -6.282</td> <td> 0.000</td> <td>   -0.346</td> <td>   -0.181</td>\n",
              "</tr>\n",
              "<tr>\n",
              "  <th>Away Team_VALLADOLID</th>       <td>   -0.1506</td> <td>    0.062</td> <td>   -2.416</td> <td> 0.016</td> <td>   -0.273</td> <td>   -0.028</td>\n",
              "</tr>\n",
              "<tr>\n",
              "  <th>Away Team_VILLARREAL</th>       <td>   -0.2771</td> <td>    0.042</td> <td>   -6.587</td> <td> 0.000</td> <td>   -0.360</td> <td>   -0.195</td>\n",
              "</tr>\n",
              "</table>\n",
              "<table class=\"simpletable\">\n",
              "<tr>\n",
              "  <th>Omnibus:</th>       <td>587.152</td> <th>  Durbin-Watson:     </th> <td>   1.923</td>\n",
              "</tr>\n",
              "<tr>\n",
              "  <th>Prob(Omnibus):</th> <td> 0.000</td>  <th>  Jarque-Bera (JB):  </th> <td>6588.247</td>\n",
              "</tr>\n",
              "<tr>\n",
              "  <th>Skew:</th>          <td> 0.715</td>  <th>  Prob(JB):          </th> <td>    0.00</td>\n",
              "</tr>\n",
              "<tr>\n",
              "  <th>Kurtosis:</th>      <td>10.576</td>  <th>  Cond. No.          </th> <td>6.97e+17</td>\n",
              "</tr>\n",
              "</table><br/><br/>Notes:<br/>[1] Standard Errors assume that the covariance matrix of the errors is correctly specified.<br/>[2] The smallest eigenvalue is 1.29e-28. This might indicate that there are<br/>strong multicollinearity problems or that the design matrix is singular."
            ],
            "text/plain": [
              "<class 'statsmodels.iolib.summary.Summary'>\n",
              "\"\"\"\n",
              "                            OLS Regression Results                            \n",
              "==============================================================================\n",
              "Dep. Variable:              goal_diff   R-squared:                       0.935\n",
              "Model:                            OLS   Adj. R-squared:                  0.933\n",
              "Method:                 Least Squares   F-statistic:                     413.4\n",
              "Date:                Sat, 12 Nov 2022   Prob (F-statistic):               0.00\n",
              "Time:                        11:42:20   Log-Likelihood:                -1701.2\n",
              "No. Observations:                2660   AIC:                             3584.\n",
              "Df Residuals:                    2569   BIC:                             4120.\n",
              "Df Model:                          90                                         \n",
              "Covariance Type:            nonrobust                                         \n",
              "==============================================================================================\n",
              "                                 coef    std err          t      P>|t|      [0.025      0.975]\n",
              "----------------------------------------------------------------------------------------------\n",
              "const                         -0.0002   8.25e-05     -2.562      0.010      -0.000   -4.96e-05\n",
              "Match Excitement              -0.0015      0.008     -0.196      0.844      -0.017       0.014\n",
              "Home Team Rating               1.1507      0.025     46.912      0.000       1.103       1.199\n",
              "Away Team Rating              -0.9788      0.024    -41.315      0.000      -1.025      -0.932\n",
              "Home Team Possession %        -0.0070      0.005     -1.555      0.120      -0.016       0.002\n",
              "Away Team Possession %        -0.0141      0.004     -3.225      0.001      -0.023      -0.006\n",
              "Home Team Off Target Shots     0.0610      0.050      1.218      0.223      -0.037       0.159\n",
              "Home Team On Target Shots     -0.0438      0.050     -0.870      0.384      -0.142       0.055\n",
              "Home Team Total Shots         -0.0671      0.050     -1.345      0.179      -0.165       0.031\n",
              "Home Team Blocked Shots        0.0798      0.050      1.596      0.111      -0.018       0.178\n",
              "Home Team Corners             -0.0330      0.004     -7.705      0.000      -0.041      -0.025\n",
              "Home Team Throw Ins            0.0070      0.002      3.803      0.000       0.003       0.011\n",
              "Home Team Pass Success %      -0.0155      0.004     -4.382      0.000      -0.022      -0.009\n",
              "Home Team Aerials Won         -0.0040      0.002     -2.151      0.032      -0.008      -0.000\n",
              "Home Team Clearances          -0.0004      0.002     -0.268      0.789      -0.004       0.003\n",
              "Home Team Fouls                0.0070      0.003      2.638      0.008       0.002       0.012\n",
              "Home Team Yellow Cards         0.0715      0.007     10.024      0.000       0.058       0.086\n",
              "Home Team Red Cards            0.2118      0.043      4.984      0.000       0.128       0.295\n",
              "Away Team Off Target Shots    -0.0085      0.045     -0.187      0.852      -0.098       0.081\n",
              "Away Team On Target Shots      0.1013      0.046      2.217      0.027       0.012       0.191\n",
              "Away Team Total Shots          0.0159      0.045      0.351      0.726      -0.073       0.105\n",
              "Away Team Blocked Shots       -0.0323      0.046     -0.707      0.480      -0.122       0.057\n",
              "Away Team Corners              0.0236      0.005      5.163      0.000       0.015       0.033\n",
              "Away Team Throw Ins           -0.0048      0.002     -2.441      0.015      -0.009      -0.001\n",
              "Away Team Pass Success %       0.0187      0.003      5.657      0.000       0.012       0.025\n",
              "Away Team Aerials Won          0.0027      0.002      1.433      0.152      -0.001       0.006\n",
              "Away Team Clearances          -0.0025      0.002     -1.681      0.093      -0.006       0.000\n",
              "Away Team Fouls               -0.0066      0.003     -2.533      0.011      -0.012      -0.001\n",
              "Away Team Yellow Cards        -0.0591      0.007     -8.386      0.000      -0.073      -0.045\n",
              "Away Team Red Cards           -0.0782      0.042     -1.850      0.064      -0.161       0.005\n",
              "Temperature                   -0.0005      0.001     -0.616      0.538      -0.002       0.001\n",
              "Rain                          -2.2308      1.928     -1.157      0.247      -6.011       1.550\n",
              "Home Team_ALAVÉS               0.2179      0.050      4.396      0.000       0.121       0.315\n",
              "Home Team_ALMERÍA             -0.4042      0.110     -3.673      0.000      -0.620      -0.188\n",
              "Home Team_ATHLETIC             0.2717      0.042      6.454      0.000       0.189       0.354\n",
              "Home Team_ATLETICO MADRID      0.3869      0.043      9.056      0.000       0.303       0.471\n",
              "Home Team_BARCELONA            0.5481      0.052     10.481      0.000       0.446       0.651\n",
              "Home Team_CELTA                0.1900      0.043      4.456      0.000       0.106       0.274\n",
              "Home Team_CÁDIZ CF            -0.5352      0.108     -4.963      0.000      -0.747      -0.324\n",
              "Home Team_CÓRDOBA             -0.8481      0.105     -8.044      0.000      -1.055      -0.641\n",
              "Home Team_DEPORTIVO           -0.4903      0.054     -9.109      0.000      -0.596      -0.385\n",
              "Home Team_EIBAR                0.3811      0.046      8.336      0.000       0.291       0.471\n",
              "Home Team_ELCHE               -0.3867      0.075     -5.131      0.000      -0.534      -0.239\n",
              "Home Team_ESPANYOL             0.1797      0.045      4.036      0.000       0.092       0.267\n",
              "Home Team_GETAFE               0.3649      0.048      7.644      0.000       0.271       0.459\n",
              "Home Team_GIJÓN               -0.5037      0.076     -6.650      0.000      -0.652      -0.355\n",
              "Home Team_GIRONA              -0.3814      0.076     -5.049      0.000      -0.530      -0.233\n",
              "Home Team_GRANADA              0.2055      0.049      4.190      0.000       0.109       0.302\n",
              "Home Team_HUESCA              -0.5555      0.075     -7.386      0.000      -0.703      -0.408\n",
              "Home Team_LAS PALMAS          -0.6100      0.065     -9.438      0.000      -0.737      -0.483\n",
              "Home Team_LEGANÉS              0.1396      0.055      2.544      0.011       0.032       0.247\n",
              "Home Team_LEVANTE              0.2510      0.045      5.611      0.000       0.163       0.339\n",
              "Home Team_MALLORCA             0.3085      0.106      2.912      0.004       0.101       0.516\n",
              "Home Team_MÁLAGA              -0.5061      0.054     -9.299      0.000      -0.613      -0.399\n",
              "Home Team_OSASUNA              0.2371      0.063      3.739      0.000       0.113       0.361\n",
              "Home Team_RAYO VALLECANO      -0.4683      0.064     -7.346      0.000      -0.593      -0.343\n",
              "Home Team_REAL BETIS           0.1854      0.046      4.045      0.000       0.095       0.275\n",
              "Home Team_REAL MADRID          0.4546      0.048      9.446      0.000       0.360       0.549\n",
              "Home Team_REAL SOCIEDAD        0.3406      0.042      8.095      0.000       0.258       0.423\n",
              "Home Team_SEVILLA FC           0.3182      0.043      7.350      0.000       0.233       0.403\n",
              "Home Team_VALENCIA             0.2677      0.043      6.289      0.000       0.184       0.351\n",
              "Home Team_VALLADOLID           0.1570      0.063      2.507      0.012       0.034       0.280\n",
              "Home Team_VILLARREAL           0.2841      0.042      6.763      0.000       0.202       0.366\n",
              "Away Team_ALAVÉS              -0.1421      0.049     -2.899      0.004      -0.238      -0.046\n",
              "Away Team_ALMERÍA              0.3339      0.106      3.149      0.002       0.126       0.542\n",
              "Away Team_ATHLETIC            -0.1728      0.042     -4.105      0.000      -0.255      -0.090\n",
              "Away Team_ATLETICO MADRID     -0.4947      0.042    -11.651      0.000      -0.578      -0.411\n",
              "Away Team_BARCELONA           -0.7215      0.053    -13.621      0.000      -0.825      -0.618\n",
              "Away Team_CELTA               -0.2828      0.042     -6.679      0.000      -0.366      -0.200\n",
              "Away Team_CÁDIZ CF             0.5660      0.108      5.234      0.000       0.354       0.778\n",
              "Away Team_CÓRDOBA              0.8128      0.106      7.698      0.000       0.606       1.020\n",
              "Away Team_DEPORTIVO            0.5069      0.054      9.391      0.000       0.401       0.613\n",
              "Away Team_EIBAR               -0.1206      0.044     -2.724      0.006      -0.207      -0.034\n",
              "Away Team_ELCHE                0.2896      0.075      3.862      0.000       0.143       0.437\n",
              "Away Team_ESPANYOL            -0.1606      0.044     -3.634      0.000      -0.247      -0.074\n",
              "Away Team_GETAFE              -0.1404      0.047     -2.967      0.003      -0.233      -0.048\n",
              "Away Team_GIJÓN                0.4020      0.076      5.320      0.000       0.254       0.550\n",
              "Away Team_GIRONA               0.4895      0.075      6.497      0.000       0.342       0.637\n",
              "Away Team_GRANADA             -0.1385      0.049     -2.822      0.005      -0.235      -0.042\n",
              "Away Team_HUESCA               0.4267      0.075      5.671      0.000       0.279       0.574\n",
              "Away Team_LAS PALMAS           0.3321      0.064      5.221      0.000       0.207       0.457\n",
              "Away Team_LEGANÉS             -0.0627      0.055     -1.142      0.254      -0.170       0.045\n",
              "Away Team_LEVANTE             -0.2659      0.045     -5.962      0.000      -0.353      -0.178\n",
              "Away Team_MALLORCA            -0.2188      0.106     -2.069      0.039      -0.426      -0.011\n",
              "Away Team_MÁLAGA               0.4311      0.054      7.980      0.000       0.325       0.537\n",
              "Away Team_OSASUNA             -0.1185      0.063     -1.877      0.061      -0.242       0.005\n",
              "Away Team_RAYO VALLECANO       0.4651      0.063      7.410      0.000       0.342       0.588\n",
              "Away Team_REAL BETIS          -0.2139      0.046     -4.674      0.000      -0.304      -0.124\n",
              "Away Team_REAL MADRID         -0.6220      0.047    -13.196      0.000      -0.714      -0.530\n",
              "Away Team_REAL SOCIEDAD       -0.2592      0.042     -6.171      0.000      -0.342      -0.177\n",
              "Away Team_SEVILLA FC          -0.2297      0.042     -5.442      0.000      -0.313      -0.147\n",
              "Away Team_VALENCIA            -0.2635      0.042     -6.282      0.000      -0.346      -0.181\n",
              "Away Team_VALLADOLID          -0.1506      0.062     -2.416      0.016      -0.273      -0.028\n",
              "Away Team_VILLARREAL          -0.2771      0.042     -6.587      0.000      -0.360      -0.195\n",
              "==============================================================================\n",
              "Omnibus:                      587.152   Durbin-Watson:                   1.923\n",
              "Prob(Omnibus):                  0.000   Jarque-Bera (JB):             6588.247\n",
              "Skew:                           0.715   Prob(JB):                         0.00\n",
              "Kurtosis:                      10.576   Cond. No.                     6.97e+17\n",
              "==============================================================================\n",
              "\n",
              "Notes:\n",
              "[1] Standard Errors assume that the covariance matrix of the errors is correctly specified.\n",
              "[2] The smallest eigenvalue is 1.29e-28. This might indicate that there are\n",
              "strong multicollinearity problems or that the design matrix is singular.\n",
              "\"\"\""
            ]
          },
          "execution_count": 99,
          "metadata": {},
          "output_type": "execute_result"
        }
      ],
      "source": [
        "results = sm.OLS(endog= DA_data['goal_diff'],exog=sm.add_constant(with_latent.drop([\"goal_diff\"], axis=1))).fit()\n",
        "results.summary()"
      ]
    },
    {
      "cell_type": "markdown",
      "metadata": {
        "id": "RLCRqHMYvPD-"
      },
      "source": [
        "# From the Above summaries, we can see:#\n",
        "\n",
        "1. The latent variables does not contribute to our prediction, as the adjusted R squared value is not changed before and after adding them, and the partial F test (conducted in T test format) also tells us that the 2 latent variables are not significant when it comes to predicting the results.\n",
        "\n",
        "2. We can see that the most important features (other than who's the home team and who's the away team) that determines the goal difference between the home team and the away team are the Home/Away team's \"Rating\", \"Possession %\", \"Corners\", \"Throw ins\", \"Pass success %\", \"Aerieals wons\", \"Fouls\", \"Number of Yellow cards received\", and \"Number of Red cards received\"\n",
        "\n",
        "3. From the Durbin-Watson score being close to 2, we can see that there is almost no autocorrelation between the variables, which makes sure we are not violating the autocorrelation assumption of the regression model.\n",
        "\n"
      ]
    },
    {
      "cell_type": "markdown",
      "metadata": {
        "id": "fHaH0wd9w6C8"
      },
      "source": [
        "Insight 4: As we can see, there is no clear correlation between the % of pass success and the Goal Difference. This is opposing the assumption that if a team has a higher success of passing rate, it should result in a more goals scored. "
      ]
    },
    {
      "cell_type": "code",
      "execution_count": null,
      "metadata": {
        "id": "mxyZtHJIwZGg"
      },
      "outputs": [],
      "source": [
        "# #Correlation between (Winning Team Pass Success, Winning Team Total Shots)\n",
        "# plt.figure(figsize=(10,5))\n",
        "# ax = plt.subplot(1,2,1)\n",
        "# sns.lineplot(x=\"Home Team Pass Success %\", y=\"Home Team Total Shots\", data=home_df, ax=ax)\n",
        "# ax = plt.subplot(1,2,2)\n",
        "# sns.lineplot(x=\"Away Team Pass Success %\", y=\"Away Team Total Shots\", data=away_df, ax=ax)"
      ]
    },
    {
      "cell_type": "markdown",
      "metadata": {
        "id": "x2hgLdDayA0e"
      },
      "source": [
        "Insight 5: Both the plots prove that even if there is a high success rate of passing, we can't expect a higher amount of shots. However, there is an important point to note here which is that for a team to shoot more, they must have a high % of passing success rate."
      ]
    },
    {
      "cell_type": "code",
      "execution_count": null,
      "metadata": {
        "id": "HNe7f2w-x-ys"
      },
      "outputs": [],
      "source": [
        "# #Correlation between (Winning Team Pass Success, Winning Team Total Goals)\n",
        "# plt.figure(figsize=(10,5))\n",
        "# ax = plt.subplot(1,2,1)\n",
        "# sns.lineplot(x=\"Home Team Pass Success %\", y=\"Home Team Goals Scored\", data=home_df, ax=ax)\n",
        "# ax = plt.subplot(1,2,2)\n",
        "# sns.lineplot(x=\"Away Team Pass Success %\", y=\"Away Team Goals Scored\", data=away_df, ax=ax)"
      ]
    },
    {
      "cell_type": "markdown",
      "metadata": {
        "id": "w5r5Re2h00gh"
      },
      "source": [
        "Insight 6: Both the plots prove that even if there is a high success rate of passing, we can't expect a higher amount of goals. However, there is an important point to note here which is that for a team to score a high amount of goals, they must have a high % of passing success rate."
      ]
    },
    {
      "cell_type": "code",
      "execution_count": null,
      "metadata": {
        "id": "B8-MB_cf04Ip"
      },
      "outputs": [],
      "source": [
        "# #Correlation between (Year, Total Shots for one team)\n",
        "# #For this example, let's take Real Madrid and put it in 2 new Data Frames (home and away)\n",
        "\n",
        "# ## NEED HELP WITH THIS: Is there a way we can do the same analysis with all the teams rather than having to pick one team like I did with REAL MADRID down below?\n",
        "\n",
        "# madridhome_df = temp_df.copy()\n",
        "# madridaway_df = temp_df.copy()"
      ]
    },
    {
      "cell_type": "code",
      "execution_count": null,
      "metadata": {
        "id": "pPg4gDMm3h42"
      },
      "outputs": [],
      "source": [
        "# madridhome_df = madridhome_df[madridhome_df['Home Team'] == 'REAL MADRID']\n",
        "# madridaway_df = madridaway_df[madridaway_df['Away Team'] == 'REAL MADRID']"
      ]
    },
    {
      "cell_type": "code",
      "execution_count": null,
      "metadata": {
        "id": "QxAFjCJF1W8t"
      },
      "outputs": [],
      "source": [
        "# plt.figure(figsize=(10,5))\n",
        "# ax=plt.subplot(1,2,1)\n",
        "# sns.scatterplot(x=\"year\", y=\"Home Team Goals Scored\", data=madridhome_df, ax=ax)\n",
        "# ax=plt.subplot(1,2,2)\n",
        "# sns.scatterplot(x=\"year\", y=\"Away Team Goals Scored\", data=madridaway_df, ax=ax)"
      ]
    },
    {
      "cell_type": "markdown",
      "metadata": {
        "id": "DRUYfeTG5R8W"
      },
      "source": [
        "Insight 7: As we can see, there is no clear correlation between the number of goals scored and the years."
      ]
    },
    {
      "cell_type": "code",
      "execution_count": null,
      "metadata": {
        "id": "OeyGvPRt3azd"
      },
      "outputs": [],
      "source": [
        "# #Correlation between (Winning Team Possession, Winning Team Total Shots)\n",
        "# plt.figure(figsize=(10,5))\n",
        "# ax = plt.subplot(1,2,1)\n",
        "# sns.scatterplot(y=\"Home Team Possession %\", x=\"Home Team Total Shots\", data=home_df, ax=ax)\n",
        "# ax = plt.subplot(1,2,2)\n",
        "# sns.scatterplot(y=\"Away Team Possession %\", x=\"Away Team Total Shots\", data=away_df, ax=ax)"
      ]
    },
    {
      "cell_type": "markdown",
      "metadata": {
        "id": "7f2MhU4k54_R"
      },
      "source": [
        "Insight 8: There is a pretty strong positive correlation between the number of shots taken and the possession %."
      ]
    },
    {
      "cell_type": "code",
      "execution_count": null,
      "metadata": {
        "id": "n55_UdNs5tmu"
      },
      "outputs": [],
      "source": [
        "# #Correlation between (Winning Team Possession, Winning Team Goals)\n",
        "# plt.figure(figsize=(10,5))\n",
        "# ax = plt.subplot(1,2,1)\n",
        "# sns.scatterplot(y=\"Home Team Possession %\", x=\"Home Team Goals Scored\", data=home_df, ax=ax)\n",
        "# ax = plt.subplot(1,2,2)\n",
        "# sns.scatterplot(y=\"Away Team Possession %\", x=\"Away Team Goals Scored\", data=away_df, ax=ax)"
      ]
    },
    {
      "cell_type": "markdown",
      "metadata": {
        "id": "nOE7TPAa6KS5"
      },
      "source": [
        "Insight 9: Both the plots prove that even if there is a high possession %, we can't expect a higher amount of goals. However, there is an important point to note here which is that for a team to score a high amount of goals, they must have a high % of possession."
      ]
    },
    {
      "cell_type": "markdown",
      "metadata": {
        "id": "0s_y2B5-arN6"
      },
      "source": [
        "Question 1: Do teams that play at home win more often?"
      ]
    },
    {
      "cell_type": "code",
      "execution_count": null,
      "metadata": {
        "colab": {
          "base_uri": "https://localhost:8080/",
          "height": 173
        },
        "id": "KskuTa_P6ebR",
        "outputId": "bcca5652-cb41-46b9-8746-de09357ec363"
      },
      "outputs": [
        {
          "name": "stderr",
          "output_type": "stream",
          "text": [
            "/usr/local/lib/python3.7/dist-packages/seaborn/_decorators.py:43: FutureWarning: Pass the following variable as a keyword arg: x. From version 0.12, the only valid positional argument will be `data`, and passing other arguments without an explicit keyword will result in an error or misinterpretation.\n",
            "  FutureWarning\n"
          ]
        },
        {
          "data": {
            "text/plain": [
              "<matplotlib.axes._subplots.AxesSubplot at 0x7f6e1274fb50>"
            ]
          },
          "execution_count": 502,
          "metadata": {},
          "output_type": "execute_result"
        },
        {
          "data": {
            "image/png": "[encoded data removed]",
            "text/plain": [
              "<Figure size 432x288 with 1 Axes>"
            ]
          },
          "metadata": {
            "needs_background": "light"
          },
          "output_type": "display_data"
        }
      ],
      "source": [
        "hometeam_df = temp_df.filter([\"Home Team\", \"Winning Team\"])\n",
        "hometeam_df = hometeam_df[hometeam_df[\"Winning Team\"] != 0]\n",
        "sns.countplot(hometeam_df[\"Winning Team\"])\n",
        "# we can do a hypothesis test later"
      ]
    },
    {
      "cell_type": "markdown",
      "metadata": {
        "id": "L7RbrB1f_cNh"
      },
      "source": [
        "Insight 10: As we can see, there is a higher amount of winning rate for teams that play at home."
      ]
    },
    {
      "cell_type": "code",
      "execution_count": null,
      "metadata": {
        "id": "yMwZZ8yL--rl"
      },
      "outputs": [],
      "source": [
        "# #Do teams that play at home score more goals?\n",
        "# #For this, we create 2 new data frames for the home team and the away team\n",
        "# hometeam_df = temp_df.filter([\"Home Team\", \"Home Team Goals Scored\"])\n",
        "# hometeam_df.groupby(\"Home Team\").mean().sum()"
      ]
    },
    {
      "cell_type": "code",
      "execution_count": null,
      "metadata": {
        "id": "cNVXAXucCZVT"
      },
      "outputs": [],
      "source": [
        "# awayteam_df = temp_df.filter([\"Away Team\", \"Away Team Goals Scored\"])\n",
        "# awayteam_df.groupby(\"Away Team\").mean().sum()"
      ]
    },
    {
      "cell_type": "code",
      "execution_count": null,
      "metadata": {
        "id": "4QhDdj0rC_4v"
      },
      "outputs": [],
      "source": [
        "# plt.figure(figsize=(80,40))\n",
        "# ax = plt.subplot(2,1,1)\n",
        "# sns.boxplot(x=\"Home Team\", y=\"Home Team Goals Scored\", data=home_df, ax=ax)\n",
        "# ax = plt.subplot(2,1,2)\n",
        "# sns.barplot(y=\"Away Team\", x=\"Away Team Goals Scored\", data=away_df, ax=ax)"
      ]
    },
    {
      "cell_type": "markdown",
      "metadata": {
        "id": "QNkiC4EbCkGF"
      },
      "source": [
        "Insight 11: As we can see, on average, Teams that play at home score more goals."
      ]
    },
    {
      "cell_type": "code",
      "execution_count": null,
      "metadata": {
        "id": "yfCrfXX_Ciiz"
      },
      "outputs": [],
      "source": [
        "# #Do Home Teams conceede less goals?\n",
        "# hometeam_df = temp_df.filter([\"Home Team\", \"Home Team Goals Conceeded\"])\n",
        "# hometeam_df.groupby(\"Home Team\").mean().sum()"
      ]
    },
    {
      "cell_type": "code",
      "execution_count": null,
      "metadata": {
        "id": "VVm3tTeqkY_Z"
      },
      "outputs": [],
      "source": [
        "# awayteam_df = temp_df.filter([\"Away Team\", \"Away Team Goals Conceeded\"])\n",
        "# awayteam_df.groupby(\"Away Team\").mean().sum()"
      ]
    },
    {
      "cell_type": "code",
      "execution_count": null,
      "metadata": {
        "id": "wiaTf4Nan8B2"
      },
      "outputs": [],
      "source": [
        "# plt.figure(figsize=(50,10))\n",
        "# ax = plt.subplot(1,2,1)\n",
        "# sns.barplot(y=\"Home Team\", x=\"Home Team Goals Conceeded\", data=home_df, ax=ax)\n",
        "# ax = plt.subplot(1,2,2)\n",
        "# sns.barplot(y=\"Away Team\", x=\"Away Team Goals Conceeded\", data=away_df, ax=ax)"
      ]
    },
    {
      "cell_type": "markdown",
      "metadata": {
        "id": "kqZqjxZ9kfRf"
      },
      "source": [
        "Insight 12: As we can see, on average, Teams that play at home conceeded lesser goals."
      ]
    },
    {
      "cell_type": "code",
      "execution_count": null,
      "metadata": {
        "id": "mqDZXGwFDzkj"
      },
      "outputs": [],
      "source": [
        "# #Do Home Teams have more possession?\n",
        "# hometeam_df = temp_df.filter([\"Home Team\", \"Home Team Possession %\"])\n",
        "# hometeam_df.groupby(\"Home Team\").mean().sum()"
      ]
    },
    {
      "cell_type": "code",
      "execution_count": null,
      "metadata": {
        "id": "_-SYMYD_k730"
      },
      "outputs": [],
      "source": [
        "# awayteam_df = temp_df.filter([\"Away Team\", \"Away Team Possession %\"])\n",
        "# awayteam_df.groupby(\"Away Team\").mean().sum()"
      ]
    },
    {
      "cell_type": "code",
      "execution_count": null,
      "metadata": {
        "id": "1pIUOLOKoH7K"
      },
      "outputs": [],
      "source": [
        "# plt.figure(figsize=(50,10))\n",
        "# ax = plt.subplot(1,2,1)\n",
        "# sns.barplot(y=\"Home Team\", x=\"Home Team Possession %\", data=home_df, ax=ax)\n",
        "# ax = plt.subplot(1,2,2)\n",
        "# sns.barplot(y=\"Away Team\", x=\"Away Team Possession %\", data=away_df, ax=ax)"
      ]
    },
    {
      "cell_type": "markdown",
      "metadata": {
        "id": "GMKZO0yLlBlO"
      },
      "source": [
        "Insight 13: As we can see, on average, Teams that play at home have a higher % of possession."
      ]
    },
    {
      "cell_type": "code",
      "execution_count": null,
      "metadata": {
        "id": "qKqfmoDyEqSa"
      },
      "outputs": [],
      "source": [
        "# #Do teams that play at home have a higher team rating compared to when they play away?\n",
        "# hometeam_df = temp_df.filter([\"Home Team\", \"Home Team Rating\"])\n",
        "# awayteam_df = temp_df.filter([\"Away Team\", \"Away Team Rating\"])"
      ]
    },
    {
      "cell_type": "code",
      "execution_count": null,
      "metadata": {
        "id": "GTuPw7ukoec4"
      },
      "outputs": [],
      "source": [
        "# hometeam_df.groupby(\"Home Team\").mean().sum()"
      ]
    },
    {
      "cell_type": "code",
      "execution_count": null,
      "metadata": {
        "id": "lnIyMnF4oeQx"
      },
      "outputs": [],
      "source": [
        "# awayteam_df.groupby(\"Away Team\").mean().sum()"
      ]
    },
    {
      "cell_type": "code",
      "execution_count": null,
      "metadata": {
        "id": "L0PG8Pyzojas"
      },
      "outputs": [],
      "source": [
        "# plt.figure(figsize=(50,10))\n",
        "# ax = plt.subplot(1,2,1)\n",
        "# sns.barplot(y=\"Home Team\", x=\"Home Team Rating\", data=home_df, ax=ax)\n",
        "# ax = plt.subplot(1,2,2)\n",
        "# sns.barplot(y=\"Away Team\", x=\"Away Team Rating\", data=away_df, ax=ax)"
      ]
    },
    {
      "cell_type": "markdown",
      "metadata": {
        "id": "jUFlgK7Sol56"
      },
      "source": [
        "Insight 14: As we can see, on average, Teams that play at home have a higher % of team rating."
      ]
    },
    {
      "cell_type": "code",
      "execution_count": null,
      "metadata": {
        "id": "IrvHA4xGFKpR"
      },
      "outputs": [],
      "source": [
        "# #Which teams score the most amount of goals?\n",
        "# hometeam_df = temp_df.filter([\"Home Team\", \"Home Team Goals Scored\"])"
      ]
    },
    {
      "cell_type": "code",
      "execution_count": null,
      "metadata": {
        "id": "ICJ35wJpsFMB"
      },
      "outputs": [],
      "source": [
        "# hometeam_df.groupby('Home Team')['Home Team Goals Scored'].sum().plot(kind='bar')"
      ]
    },
    {
      "cell_type": "code",
      "execution_count": null,
      "metadata": {
        "id": "Irn8f6eHt0O1"
      },
      "outputs": [],
      "source": [
        "# awayteam_df = temp_df.filter([\"Away Team\", \"Away Team Goals Scored\"])\n",
        "# awayteam_df.groupby('Away Team')['Away Team Goals Scored'].sum().plot(kind='bar')"
      ]
    },
    {
      "cell_type": "markdown",
      "metadata": {
        "id": "CNnLVutctEbs"
      },
      "source": [
        "Insight 15: As we can see, Barcelona has scored the most amount of goals and Real Madrid comes second."
      ]
    },
    {
      "cell_type": "markdown",
      "metadata": {
        "id": "Qw0VSuecF5_Y"
      },
      "source": [
        "# Modeling"
      ]
    },
    {
      "cell_type": "markdown",
      "metadata": {
        "id": "UnxZc-glu6TX"
      },
      "source": [
        "## Data Preprocessing"
      ]
    },
    {
      "cell_type": "code",
      "execution_count": 14,
      "metadata": {
        "id": "B_gzMkUjF8-F"
      },
      "outputs": [],
      "source": [
        "#import libraries\n",
        "from sklearn.model_selection import train_test_split\n",
        "from sklearn.metrics import accuracy_score, classification_report\n",
        "from sklearn.metrics import mean_squared_error\n",
        "from xgboost import XGBRegressor"
      ]
    },
    {
      "cell_type": "code",
      "execution_count": 19,
      "metadata": {
        "colab": {
          "base_uri": "https://localhost:8080/",
          "height": 204
        },
        "id": "5JEmfWfARFvc",
        "outputId": "c26c8d5f-5dd0-4777-9993-b122af2ba6f6"
      },
      "outputs": [],
      "source": [
        "df.drop(columns= [\"Home Team Goals Scored\",\"Away Team Goals Scored\",\"Home Team Goals Conceeded\",\"Away Team Goals Conceeded\"],inplace = True)"
      ]
    },
    {
      "cell_type": "code",
      "execution_count": null,
      "metadata": {
        "id": "LZr_hag_mFEX"
      },
      "outputs": [],
      "source": [
        "# x_train_new = temp_df[[\"Home Team\", \"Away Team\", \"Date\", \"Location\", \"Temperature\", \"Rain\", \"Winning Team\"]]"
      ]
    },
    {
      "cell_type": "code",
      "execution_count": null,
      "metadata": {
        "id": "Im5jUldPmGqf"
      },
      "outputs": [],
      "source": [
        "# x_train_new = pd.get_dummies(x_train_new,columns=['Home Team','Away Team', 'Location'],dtype = int)"
      ]
    },
    {
      "cell_type": "code",
      "execution_count": null,
      "metadata": {
        "id": "BlOTh8ksmOEz"
      },
      "outputs": [],
      "source": [
        "# temp = pd.DatetimeIndex(x_train_new[\"Date\"], dayfirst=True)\n",
        "# x_train_new[\"Year\"] = temp.year\n",
        "# x_train_new[\"Month\"] = temp.month\n",
        "# x_train_new[\"Day\"] = temp.day\n",
        "# x_train_new.drop([\"Date\"], axis=1, inplace=True)"
      ]
    },
    {
      "cell_type": "code",
      "execution_count": 38,
      "metadata": {
        "id": "97p1LE0Wmxh2"
      },
      "outputs": [],
      "source": [
        "df = pd.get_dummies(df,columns=['Home Team','Away Team'],dtype = int)\n",
        "X = df.loc[ : , [i for i in df.columns if i not in [\"Location\",\"Date\",\"goal_diff\", \"Rain\",\"year\",\"Half Time Score\", \"Home Team Second Yellow Cards\", \"Away Team Second Yellow Cards\",\"Home Team Goals Scored\",\"Away Team Goals Scored\",\"Home Team Goals Conceeded\",\"Away Team Goals Conceeded\"]]]\n",
        "df_train = X[df[\"year\"]<2020]\n",
        "df_test = X[df[\"year\"]>2019]\n",
        "x_train = df_train.iloc[:,1:31]\n",
        "x_train = df_train.iloc[:,1:31]\n"
      ]
    },
    {
      "cell_type": "code",
      "execution_count": 39,
      "metadata": {},
      "outputs": [
        {
          "name": "stdout",
          "output_type": "stream",
          "text": [
            "<class 'pandas.core.frame.DataFrame'>\n",
            "Int64Index: 2280 entries, 0 to 2279\n",
            "Data columns (total 30 columns):\n",
            " #   Column                      Non-Null Count  Dtype  \n",
            "---  ------                      --------------  -----  \n",
            " 0   Home Team                   2280 non-null   object \n",
            " 1   Away Team                   2280 non-null   object \n",
            " 2   Home Team Rating            2280 non-null   float64\n",
            " 3   Away Team Rating            2280 non-null   float64\n",
            " 4   Home Team Possession %      2280 non-null   int64  \n",
            " 5   Away Team Possession %      2280 non-null   int64  \n",
            " 6   Home Team Off Target Shots  2280 non-null   int64  \n",
            " 7   Home Team On Target Shots   2280 non-null   int64  \n",
            " 8   Home Team Total Shots       2280 non-null   int64  \n",
            " 9   Home Team Blocked Shots     2280 non-null   int64  \n",
            " 10  Home Team Corners           2280 non-null   int64  \n",
            " 11  Home Team Throw Ins         2280 non-null   int64  \n",
            " 12  Home Team Pass Success %    2280 non-null   int64  \n",
            " 13  Home Team Aerials Won       2280 non-null   int64  \n",
            " 14  Home Team Clearances        2280 non-null   int64  \n",
            " 15  Home Team Fouls             2280 non-null   int64  \n",
            " 16  Home Team Yellow Cards      2280 non-null   int64  \n",
            " 17  Home Team Red Cards         2280 non-null   int64  \n",
            " 18  Away Team Off Target Shots  2280 non-null   int64  \n",
            " 19  Away Team On Target Shots   2280 non-null   int64  \n",
            " 20  Away Team Total Shots       2280 non-null   int64  \n",
            " 21  Away Team Blocked Shots     2280 non-null   int64  \n",
            " 22  Away Team Corners           2280 non-null   int64  \n",
            " 23  Away Team Throw Ins         2280 non-null   int64  \n",
            " 24  Away Team Pass Success %    2280 non-null   int64  \n",
            " 25  Away Team Aerials Won       2280 non-null   int64  \n",
            " 26  Away Team Clearances        2280 non-null   int64  \n",
            " 27  Away Team Fouls             2280 non-null   int64  \n",
            " 28  Away Team Yellow Cards      2280 non-null   int64  \n",
            " 29  Away Team Red Cards         2280 non-null   int64  \n",
            "dtypes: float64(2), int64(26), object(2)\n",
            "memory usage: 552.2+ KB\n",
            "None\n"
          ]
        }
      ],
      "source": [
        "print(x_train.info())"
      ]
    },
    {
      "cell_type": "code",
      "execution_count": null,
      "metadata": {
        "id": "apDqlsyqr9So"
      },
      "outputs": [],
      "source": [
        "y_train_new = x_train_new[\"Winning Team\"]\n",
        "x_train_new = x_train_new.drop(columns=[\"Winning Team\"])\n",
        "y_test_new = x_test_new[\"Winning Team\"]\n",
        "x_test_new = x_test_new.drop(columns=[\"Winning Team\"])"
      ]
    },
    {
      "cell_type": "code",
      "execution_count": null,
      "metadata": {
        "colab": {
          "base_uri": "https://localhost:8080/"
        },
        "id": "Id5UY4R3sXco",
        "outputId": "8ce71280-b7d5-4269-ed87-5a253b837252"
      },
      "outputs": [
        {
          "name": "stdout",
          "output_type": "stream",
          "text": [
            "              precision    recall  f1-score   support\n",
            "\n",
            "          -1       0.43      0.38      0.40       167\n",
            "           0       0.30      0.19      0.23       163\n",
            "           1       0.48      0.63      0.54       249\n",
            "\n",
            "    accuracy                           0.44       579\n",
            "   macro avg       0.40      0.40      0.39       579\n",
            "weighted avg       0.42      0.44      0.42       579\n",
            "\n"
          ]
        }
      ],
      "source": [
        "from lightgbm import LGBMClassifier\n",
        "\n",
        "lg = LGBMClassifier()\n",
        "lg.fit(x_train_new, y_train_new)\n",
        "y_pred_lg = lg.predict(x_test_new)\n",
        "print(classification_report(y_test_new, y_pred_lg))"
      ]
    },
    {
      "cell_type": "code",
      "execution_count": null,
      "metadata": {
        "colab": {
          "base_uri": "https://localhost:8080/"
        },
        "id": "VKKw_zbIqmnr",
        "outputId": "6be09233-dabc-43b8-bd51-0a073dd9f5e3"
      },
      "outputs": [
        {
          "data": {
            "text/plain": [
              "2081"
            ]
          },
          "execution_count": 579,
          "metadata": {},
          "output_type": "execute_result"
        }
      ],
      "source": [
        "len(x_train_new)\n",
        "# len(x_test_new)"
      ]
    },
    {
      "cell_type": "code",
      "execution_count": null,
      "metadata": {
        "colab": {
          "base_uri": "https://localhost:8080/"
        },
        "id": "DtizFV-Erghp",
        "outputId": "83fd0ab8-9512-48b2-e891-3a99f9f9ef3d"
      },
      "outputs": [
        {
          "data": {
            "text/plain": [
              "579"
            ]
          },
          "execution_count": 580,
          "metadata": {},
          "output_type": "execute_result"
        }
      ],
      "source": [
        "len(x_test_new)"
      ]
    },
    {
      "cell_type": "code",
      "execution_count": null,
      "metadata": {
        "id": "Typ5Ti5HQ_Kj"
      },
      "outputs": [],
      "source": [
        "#change the data types of categorial variables into integer\n",
        "base = pd.get_dummies(temp_df,columns=['Home Team','Away Team', 'Location'],dtype = int)"
      ]
    },
    {
      "cell_type": "code",
      "execution_count": null,
      "metadata": {
        "colab": {
          "base_uri": "https://localhost:8080/",
          "height": 241
        },
        "id": "PuP39674RMON",
        "outputId": "a3205ba9-526b-45fd-b3b0-dbe413147ade"
      },
      "outputs": [
        {
          "data": {
            "text/html": [
              "\n",
              "  <div id=\"df-b4cd6ef4-818d-496a-b3f4-ac173adb17d3\">\n",
              "    <div class=\"colab-df-container\">\n",
              "      <div>\n",
              "<style scoped>\n",
              "    .dataframe tbody tr th:only-of-type {\n",
              "        vertical-align: middle;\n",
              "    }\n",
              "\n",
              "    .dataframe tbody tr th {\n",
              "        vertical-align: top;\n",
              "    }\n",
              "\n",
              "    .dataframe thead th {\n",
              "        text-align: right;\n",
              "    }\n",
              "</style>\n",
              "<table border=\"1\" class=\"dataframe\">\n",
              "  <thead>\n",
              "    <tr style=\"text-align: right;\">\n",
              "      <th></th>\n",
              "      <th>Ref</th>\n",
              "      <th>Match Excitement</th>\n",
              "      <th>Home Team Rating</th>\n",
              "      <th>Away Team Rating</th>\n",
              "      <th>Home Team Possession %</th>\n",
              "      <th>Away Team Possession %</th>\n",
              "      <th>Home Team Off Target Shots</th>\n",
              "      <th>Home Team On Target Shots</th>\n",
              "      <th>Home Team Total Shots</th>\n",
              "      <th>Home Team Blocked Shots</th>\n",
              "      <th>...</th>\n",
              "      <th>Location_Municipality of Eibar, Spain</th>\n",
              "      <th>Location_Municipality of Las Palmas, Spain</th>\n",
              "      <th>Location_Málaga, Spain</th>\n",
              "      <th>Location_Pamplona, Spain</th>\n",
              "      <th>Location_Seville, Spain</th>\n",
              "      <th>Location_Valencia, Spain</th>\n",
              "      <th>Location_Valladolid, Spain</th>\n",
              "      <th>Location_Vigo, Spain</th>\n",
              "      <th>Location_Villarreal, Spain</th>\n",
              "      <th>Location_Vitoria-Gasteiz, Spain</th>\n",
              "    </tr>\n",
              "  </thead>\n",
              "  <tbody>\n",
              "    <tr>\n",
              "      <th>2655</th>\n",
              "      <td>2655</td>\n",
              "      <td>3.8</td>\n",
              "      <td>5.8</td>\n",
              "      <td>6.7</td>\n",
              "      <td>33</td>\n",
              "      <td>67</td>\n",
              "      <td>8</td>\n",
              "      <td>3</td>\n",
              "      <td>17</td>\n",
              "      <td>6</td>\n",
              "      <td>...</td>\n",
              "      <td>1</td>\n",
              "      <td>0</td>\n",
              "      <td>0</td>\n",
              "      <td>0</td>\n",
              "      <td>0</td>\n",
              "      <td>0</td>\n",
              "      <td>0</td>\n",
              "      <td>0</td>\n",
              "      <td>0</td>\n",
              "      <td>0</td>\n",
              "    </tr>\n",
              "  </tbody>\n",
              "</table>\n",
              "<p>1 rows × 128 columns</p>\n",
              "</div>\n",
              "      <button class=\"colab-df-convert\" onclick=\"convertToInteractive('df-b4cd6ef4-818d-496a-b3f4-ac173adb17d3')\"\n",
              "              title=\"Convert this dataframe to an interactive table.\"\n",
              "              style=\"display:none;\">\n",
              "        \n",
              "  <svg xmlns=\"http://www.w3.org/2000/svg\" height=\"24px\"viewBox=\"0 0 24 24\"\n",
              "       width=\"24px\">\n",
              "    <path d=\"M0 0h24v24H0V0z\" fill=\"none\"/>\n",
              "    <path d=\"M18.56 5.44l.94 2.06.94-2.06 2.06-.94-2.06-.94-.94-2.06-.94 2.06-2.06.94zm-11 1L8.5 8.5l.94-2.06 2.06-.94-2.06-.94L8.5 2.5l-.94 2.06-2.06.94zm10 10l.94 2.06.94-2.06 2.06-.94-2.06-.94-.94-2.06-.94 2.06-2.06.94z\"/><path d=\"M17.41 7.96l-1.37-1.37c-.4-.4-.92-.59-1.43-.59-.52 0-1.04.2-1.43.59L10.3 9.45l-7.72 7.72c-.78.78-.78 2.05 0 2.83L4 21.41c.39.39.9.59 1.41.59.51 0 1.02-.2 1.41-.59l7.78-7.78 2.81-2.81c.8-.78.8-2.07 0-2.86zM5.41 20L4 18.59l7.72-7.72 1.47 1.35L5.41 20z\"/>\n",
              "  </svg>\n",
              "      </button>\n",
              "      \n",
              "  <style>\n",
              "    .colab-df-container {\n",
              "      display:flex;\n",
              "      flex-wrap:wrap;\n",
              "      gap: 12px;\n",
              "    }\n",
              "\n",
              "    .colab-df-convert {\n",
              "      background-color: #E8F0FE;\n",
              "      border: none;\n",
              "      border-radius: 50%;\n",
              "      cursor: pointer;\n",
              "      display: none;\n",
              "      fill: #1967D2;\n",
              "      height: 32px;\n",
              "      padding: 0 0 0 0;\n",
              "      width: 32px;\n",
              "    }\n",
              "\n",
              "    .colab-df-convert:hover {\n",
              "      background-color: #E2EBFA;\n",
              "      box-shadow: 0px 1px 2px rgba(60, 64, 67, 0.3), 0px 1px 3px 1px rgba(60, 64, 67, 0.15);\n",
              "      fill: #174EA6;\n",
              "    }\n",
              "\n",
              "    [theme=dark] .colab-df-convert {\n",
              "      background-color: #3B4455;\n",
              "      fill: #D2E3FC;\n",
              "    }\n",
              "\n",
              "    [theme=dark] .colab-df-convert:hover {\n",
              "      background-color: #434B5C;\n",
              "      box-shadow: 0px 1px 3px 1px rgba(0, 0, 0, 0.15);\n",
              "      filter: drop-shadow(0px 1px 2px rgba(0, 0, 0, 0.3));\n",
              "      fill: #FFFFFF;\n",
              "    }\n",
              "  </style>\n",
              "\n",
              "      <script>\n",
              "        const buttonEl =\n",
              "          document.querySelector('#df-b4cd6ef4-818d-496a-b3f4-ac173adb17d3 button.colab-df-convert');\n",
              "        buttonEl.style.display =\n",
              "          google.colab.kernel.accessAllowed ? 'block' : 'none';\n",
              "\n",
              "        async function convertToInteractive(key) {\n",
              "          const element = document.querySelector('#df-b4cd6ef4-818d-496a-b3f4-ac173adb17d3');\n",
              "          const dataTable =\n",
              "            await google.colab.kernel.invokeFunction('convertToInteractive',\n",
              "                                                     [key], {});\n",
              "          if (!dataTable) return;\n",
              "\n",
              "          const docLinkHtml = 'Like what you see? Visit the ' +\n",
              "            '<a target=\"_blank\" href=https://colab.research.google.com/notebooks/data_table.ipynb>data table notebook</a>'\n",
              "            + ' to learn more about interactive tables.';\n",
              "          element.innerHTML = '';\n",
              "          dataTable['output_type'] = 'display_data';\n",
              "          await google.colab.output.renderOutput(dataTable, element);\n",
              "          const docLink = document.createElement('div');\n",
              "          docLink.innerHTML = docLinkHtml;\n",
              "          element.appendChild(docLink);\n",
              "        }\n",
              "      </script>\n",
              "    </div>\n",
              "  </div>\n",
              "  "
            ],
            "text/plain": [
              "       Ref  Match Excitement  Home Team Rating  Away Team Rating  \\\n",
              "2655  2655               3.8               5.8               6.7   \n",
              "\n",
              "      Home Team Possession %  Away Team Possession %  \\\n",
              "2655                      33                      67   \n",
              "\n",
              "      Home Team Off Target Shots  Home Team On Target Shots  \\\n",
              "2655                           8                          3   \n",
              "\n",
              "      Home Team Total Shots  Home Team Blocked Shots  ...  \\\n",
              "2655                     17                        6  ...   \n",
              "\n",
              "      Location_Municipality of Eibar, Spain  \\\n",
              "2655                                      1   \n",
              "\n",
              "      Location_Municipality of Las Palmas, Spain  Location_Málaga, Spain  \\\n",
              "2655                                           0                       0   \n",
              "\n",
              "      Location_Pamplona, Spain  Location_Seville, Spain  \\\n",
              "2655                         0                        0   \n",
              "\n",
              "      Location_Valencia, Spain  Location_Valladolid, Spain  \\\n",
              "2655                         0                           0   \n",
              "\n",
              "      Location_Vigo, Spain  Location_Villarreal, Spain  \\\n",
              "2655                     0                           0   \n",
              "\n",
              "      Location_Vitoria-Gasteiz, Spain  \n",
              "2655                                0  \n",
              "\n",
              "[1 rows x 128 columns]"
            ]
          },
          "execution_count": 527,
          "metadata": {},
          "output_type": "execute_result"
        }
      ],
      "source": [
        "base.sample()"
      ]
    },
    {
      "cell_type": "code",
      "execution_count": null,
      "metadata": {
        "id": "_CIgSMCs0zyb"
      },
      "outputs": [],
      "source": [
        "temp = pd.DatetimeIndex(base[\"Date\"])\n",
        "base[\"Year\"] = temp.year\n",
        "base[\"Month\"] = temp.month\n",
        "base[\"Day\"] = temp.day\n",
        "base.drop([\"Date\"], axis=1, inplace=True)"
      ]
    },
    {
      "cell_type": "code",
      "execution_count": null,
      "metadata": {
        "colab": {
          "base_uri": "https://localhost:8080/"
        },
        "id": "AxSmApTB1JbW",
        "outputId": "826b049c-c482-418e-849a-cd7b6bd44c14"
      },
      "outputs": [
        {
          "name": "stdout",
          "output_type": "stream",
          "text": [
            "<class 'pandas.core.frame.DataFrame'>\n",
            "RangeIndex: 2660 entries, 0 to 2659\n",
            "Columns: 130 entries, Ref to Day\n",
            "dtypes: float64(5), int64(125)\n",
            "memory usage: 2.6 MB\n"
          ]
        }
      ],
      "source": [
        "base.info()"
      ]
    },
    {
      "cell_type": "code",
      "execution_count": null,
      "metadata": {
        "id": "ls_Xhju6SV2E"
      },
      "outputs": [],
      "source": [
        "#Split the data by year \n",
        "base1 = base[base[\"year\"]<2020]\n",
        "base2 = base[base[\"year\"]>2019]\n",
        "# base1 = base1.drop([\"Home Team Goals Scored\", \"Away Team Goals Scored\", \"Home Team Goals Conceeded\", \"Away Team Goals Conceeded\", \"Total Goals\", \"Winning Team\"], axis=1)\n",
        "# base2 = base2.drop([\"Home Team Goals Scored\", \"Away Team Goals Scored\", \"Home Team Goals Conceeded\", \"Away Team Goals Conceeded\", \"Total Goals\", \"Winning Team\"], axis=1)"
      ]
    },
    {
      "cell_type": "code",
      "execution_count": null,
      "metadata": {
        "colab": {
          "base_uri": "https://localhost:8080/"
        },
        "id": "ztMqVjbR1xlI",
        "outputId": "3f179b39-5c87-443f-f45f-ad2dffa3661e"
      },
      "outputs": [
        {
          "data": {
            "text/plain": [
              "0       1\n",
              "1       0\n",
              "2       1\n",
              "3       0\n",
              "4       1\n",
              "       ..\n",
              "2275    0\n",
              "2276    1\n",
              "2277    0\n",
              "2278    1\n",
              "2279    0\n",
              "Name: Winning Team, Length: 2280, dtype: int64"
            ]
          },
          "execution_count": 531,
          "metadata": {},
          "output_type": "execute_result"
        }
      ],
      "source": [
        "base1[\"Winning Team\"]"
      ]
    },
    {
      "cell_type": "code",
      "execution_count": null,
      "metadata": {
        "colab": {
          "base_uri": "https://localhost:8080/",
          "height": 427
        },
        "id": "2laVgcBcRflW",
        "outputId": "2d79c5e6-e141-4edd-c615-3d20b83b4c3a"
      },
      "outputs": [
        {
          "data": {
            "text/html": [
              "\n",
              "  <div id=\"df-4579e272-d6d9-4976-bb06-f54f23204ea8\">\n",
              "    <div class=\"colab-df-container\">\n",
              "      <div>\n",
              "<style scoped>\n",
              "    .dataframe tbody tr th:only-of-type {\n",
              "        vertical-align: middle;\n",
              "    }\n",
              "\n",
              "    .dataframe tbody tr th {\n",
              "        vertical-align: top;\n",
              "    }\n",
              "\n",
              "    .dataframe thead th {\n",
              "        text-align: right;\n",
              "    }\n",
              "</style>\n",
              "<table border=\"1\" class=\"dataframe\">\n",
              "  <thead>\n",
              "    <tr style=\"text-align: right;\">\n",
              "      <th></th>\n",
              "      <th>Match Excitement</th>\n",
              "      <th>Home Team Rating</th>\n",
              "      <th>Away Team Rating</th>\n",
              "      <th>Home Team Possession %</th>\n",
              "      <th>Away Team Possession %</th>\n",
              "      <th>Home Team Off Target Shots</th>\n",
              "      <th>Home Team On Target Shots</th>\n",
              "      <th>Home Team Total Shots</th>\n",
              "      <th>Home Team Blocked Shots</th>\n",
              "      <th>Home Team Corners</th>\n",
              "      <th>...</th>\n",
              "      <th>Location_Pamplona, Spain</th>\n",
              "      <th>Location_Seville, Spain</th>\n",
              "      <th>Location_Valencia, Spain</th>\n",
              "      <th>Location_Valladolid, Spain</th>\n",
              "      <th>Location_Vigo, Spain</th>\n",
              "      <th>Location_Villarreal, Spain</th>\n",
              "      <th>Location_Vitoria-Gasteiz, Spain</th>\n",
              "      <th>Year</th>\n",
              "      <th>Month</th>\n",
              "      <th>Day</th>\n",
              "    </tr>\n",
              "  </thead>\n",
              "  <tbody>\n",
              "    <tr>\n",
              "      <th>0</th>\n",
              "      <td>4.4</td>\n",
              "      <td>6.0</td>\n",
              "      <td>5.7</td>\n",
              "      <td>40</td>\n",
              "      <td>60</td>\n",
              "      <td>5</td>\n",
              "      <td>3</td>\n",
              "      <td>12</td>\n",
              "      <td>4</td>\n",
              "      <td>5</td>\n",
              "      <td>...</td>\n",
              "      <td>0</td>\n",
              "      <td>0</td>\n",
              "      <td>0</td>\n",
              "      <td>0</td>\n",
              "      <td>0</td>\n",
              "      <td>0</td>\n",
              "      <td>0</td>\n",
              "      <td>2014</td>\n",
              "      <td>8</td>\n",
              "      <td>23</td>\n",
              "    </tr>\n",
              "    <tr>\n",
              "      <th>1</th>\n",
              "      <td>4.7</td>\n",
              "      <td>6.5</td>\n",
              "      <td>6.8</td>\n",
              "      <td>47</td>\n",
              "      <td>53</td>\n",
              "      <td>4</td>\n",
              "      <td>3</td>\n",
              "      <td>12</td>\n",
              "      <td>5</td>\n",
              "      <td>3</td>\n",
              "      <td>...</td>\n",
              "      <td>0</td>\n",
              "      <td>1</td>\n",
              "      <td>0</td>\n",
              "      <td>0</td>\n",
              "      <td>0</td>\n",
              "      <td>0</td>\n",
              "      <td>0</td>\n",
              "      <td>2014</td>\n",
              "      <td>8</td>\n",
              "      <td>23</td>\n",
              "    </tr>\n",
              "    <tr>\n",
              "      <th>2</th>\n",
              "      <td>4.6</td>\n",
              "      <td>7.2</td>\n",
              "      <td>5.9</td>\n",
              "      <td>53</td>\n",
              "      <td>47</td>\n",
              "      <td>6</td>\n",
              "      <td>3</td>\n",
              "      <td>10</td>\n",
              "      <td>1</td>\n",
              "      <td>5</td>\n",
              "      <td>...</td>\n",
              "      <td>0</td>\n",
              "      <td>0</td>\n",
              "      <td>0</td>\n",
              "      <td>0</td>\n",
              "      <td>0</td>\n",
              "      <td>0</td>\n",
              "      <td>0</td>\n",
              "      <td>2014</td>\n",
              "      <td>8</td>\n",
              "      <td>23</td>\n",
              "    </tr>\n",
              "    <tr>\n",
              "      <th>3</th>\n",
              "      <td>5.6</td>\n",
              "      <td>6.9</td>\n",
              "      <td>5.5</td>\n",
              "      <td>56</td>\n",
              "      <td>44</td>\n",
              "      <td>7</td>\n",
              "      <td>6</td>\n",
              "      <td>19</td>\n",
              "      <td>6</td>\n",
              "      <td>11</td>\n",
              "      <td>...</td>\n",
              "      <td>0</td>\n",
              "      <td>0</td>\n",
              "      <td>0</td>\n",
              "      <td>0</td>\n",
              "      <td>0</td>\n",
              "      <td>0</td>\n",
              "      <td>0</td>\n",
              "      <td>2014</td>\n",
              "      <td>8</td>\n",
              "      <td>23</td>\n",
              "    </tr>\n",
              "    <tr>\n",
              "      <th>4</th>\n",
              "      <td>3.7</td>\n",
              "      <td>6.5</td>\n",
              "      <td>5.9</td>\n",
              "      <td>41</td>\n",
              "      <td>59</td>\n",
              "      <td>5</td>\n",
              "      <td>5</td>\n",
              "      <td>12</td>\n",
              "      <td>2</td>\n",
              "      <td>5</td>\n",
              "      <td>...</td>\n",
              "      <td>0</td>\n",
              "      <td>0</td>\n",
              "      <td>0</td>\n",
              "      <td>0</td>\n",
              "      <td>0</td>\n",
              "      <td>0</td>\n",
              "      <td>0</td>\n",
              "      <td>2014</td>\n",
              "      <td>8</td>\n",
              "      <td>24</td>\n",
              "    </tr>\n",
              "    <tr>\n",
              "      <th>5</th>\n",
              "      <td>5.1</td>\n",
              "      <td>8.0</td>\n",
              "      <td>5.3</td>\n",
              "      <td>72</td>\n",
              "      <td>28</td>\n",
              "      <td>5</td>\n",
              "      <td>6</td>\n",
              "      <td>12</td>\n",
              "      <td>1</td>\n",
              "      <td>3</td>\n",
              "      <td>...</td>\n",
              "      <td>0</td>\n",
              "      <td>0</td>\n",
              "      <td>0</td>\n",
              "      <td>0</td>\n",
              "      <td>0</td>\n",
              "      <td>0</td>\n",
              "      <td>0</td>\n",
              "      <td>2014</td>\n",
              "      <td>8</td>\n",
              "      <td>24</td>\n",
              "    </tr>\n",
              "    <tr>\n",
              "      <th>6</th>\n",
              "      <td>7.0</td>\n",
              "      <td>7.3</td>\n",
              "      <td>5.5</td>\n",
              "      <td>59</td>\n",
              "      <td>41</td>\n",
              "      <td>4</td>\n",
              "      <td>9</td>\n",
              "      <td>20</td>\n",
              "      <td>7</td>\n",
              "      <td>4</td>\n",
              "      <td>...</td>\n",
              "      <td>0</td>\n",
              "      <td>0</td>\n",
              "      <td>0</td>\n",
              "      <td>0</td>\n",
              "      <td>1</td>\n",
              "      <td>0</td>\n",
              "      <td>0</td>\n",
              "      <td>2014</td>\n",
              "      <td>8</td>\n",
              "      <td>24</td>\n",
              "    </tr>\n",
              "  </tbody>\n",
              "</table>\n",
              "<p>7 rows × 128 columns</p>\n",
              "</div>\n",
              "      <button class=\"colab-df-convert\" onclick=\"convertToInteractive('df-4579e272-d6d9-4976-bb06-f54f23204ea8')\"\n",
              "              title=\"Convert this dataframe to an interactive table.\"\n",
              "              style=\"display:none;\">\n",
              "        \n",
              "  <svg xmlns=\"http://www.w3.org/2000/svg\" height=\"24px\"viewBox=\"0 0 24 24\"\n",
              "       width=\"24px\">\n",
              "    <path d=\"M0 0h24v24H0V0z\" fill=\"none\"/>\n",
              "    <path d=\"M18.56 5.44l.94 2.06.94-2.06 2.06-.94-2.06-.94-.94-2.06-.94 2.06-2.06.94zm-11 1L8.5 8.5l.94-2.06 2.06-.94-2.06-.94L8.5 2.5l-.94 2.06-2.06.94zm10 10l.94 2.06.94-2.06 2.06-.94-2.06-.94-.94-2.06-.94 2.06-2.06.94z\"/><path d=\"M17.41 7.96l-1.37-1.37c-.4-.4-.92-.59-1.43-.59-.52 0-1.04.2-1.43.59L10.3 9.45l-7.72 7.72c-.78.78-.78 2.05 0 2.83L4 21.41c.39.39.9.59 1.41.59.51 0 1.02-.2 1.41-.59l7.78-7.78 2.81-2.81c.8-.78.8-2.07 0-2.86zM5.41 20L4 18.59l7.72-7.72 1.47 1.35L5.41 20z\"/>\n",
              "  </svg>\n",
              "      </button>\n",
              "      \n",
              "  <style>\n",
              "    .colab-df-container {\n",
              "      display:flex;\n",
              "      flex-wrap:wrap;\n",
              "      gap: 12px;\n",
              "    }\n",
              "\n",
              "    .colab-df-convert {\n",
              "      background-color: #E8F0FE;\n",
              "      border: none;\n",
              "      border-radius: 50%;\n",
              "      cursor: pointer;\n",
              "      display: none;\n",
              "      fill: #1967D2;\n",
              "      height: 32px;\n",
              "      padding: 0 0 0 0;\n",
              "      width: 32px;\n",
              "    }\n",
              "\n",
              "    .colab-df-convert:hover {\n",
              "      background-color: #E2EBFA;\n",
              "      box-shadow: 0px 1px 2px rgba(60, 64, 67, 0.3), 0px 1px 3px 1px rgba(60, 64, 67, 0.15);\n",
              "      fill: #174EA6;\n",
              "    }\n",
              "\n",
              "    [theme=dark] .colab-df-convert {\n",
              "      background-color: #3B4455;\n",
              "      fill: #D2E3FC;\n",
              "    }\n",
              "\n",
              "    [theme=dark] .colab-df-convert:hover {\n",
              "      background-color: #434B5C;\n",
              "      box-shadow: 0px 1px 3px 1px rgba(0, 0, 0, 0.15);\n",
              "      filter: drop-shadow(0px 1px 2px rgba(0, 0, 0, 0.3));\n",
              "      fill: #FFFFFF;\n",
              "    }\n",
              "  </style>\n",
              "\n",
              "      <script>\n",
              "        const buttonEl =\n",
              "          document.querySelector('#df-4579e272-d6d9-4976-bb06-f54f23204ea8 button.colab-df-convert');\n",
              "        buttonEl.style.display =\n",
              "          google.colab.kernel.accessAllowed ? 'block' : 'none';\n",
              "\n",
              "        async function convertToInteractive(key) {\n",
              "          const element = document.querySelector('#df-4579e272-d6d9-4976-bb06-f54f23204ea8');\n",
              "          const dataTable =\n",
              "            await google.colab.kernel.invokeFunction('convertToInteractive',\n",
              "                                                     [key], {});\n",
              "          if (!dataTable) return;\n",
              "\n",
              "          const docLinkHtml = 'Like what you see? Visit the ' +\n",
              "            '<a target=\"_blank\" href=https://colab.research.google.com/notebooks/data_table.ipynb>data table notebook</a>'\n",
              "            + ' to learn more about interactive tables.';\n",
              "          element.innerHTML = '';\n",
              "          dataTable['output_type'] = 'display_data';\n",
              "          await google.colab.output.renderOutput(dataTable, element);\n",
              "          const docLink = document.createElement('div');\n",
              "          docLink.innerHTML = docLinkHtml;\n",
              "          element.appendChild(docLink);\n",
              "        }\n",
              "      </script>\n",
              "    </div>\n",
              "  </div>\n",
              "  "
            ],
            "text/plain": [
              "   Match Excitement  Home Team Rating  Away Team Rating  \\\n",
              "0               4.4               6.0               5.7   \n",
              "1               4.7               6.5               6.8   \n",
              "2               4.6               7.2               5.9   \n",
              "3               5.6               6.9               5.5   \n",
              "4               3.7               6.5               5.9   \n",
              "5               5.1               8.0               5.3   \n",
              "6               7.0               7.3               5.5   \n",
              "\n",
              "   Home Team Possession %  Away Team Possession %  Home Team Off Target Shots  \\\n",
              "0                      40                      60                           5   \n",
              "1                      47                      53                           4   \n",
              "2                      53                      47                           6   \n",
              "3                      56                      44                           7   \n",
              "4                      41                      59                           5   \n",
              "5                      72                      28                           5   \n",
              "6                      59                      41                           4   \n",
              "\n",
              "   Home Team On Target Shots  Home Team Total Shots  Home Team Blocked Shots  \\\n",
              "0                          3                     12                        4   \n",
              "1                          3                     12                        5   \n",
              "2                          3                     10                        1   \n",
              "3                          6                     19                        6   \n",
              "4                          5                     12                        2   \n",
              "5                          6                     12                        1   \n",
              "6                          9                     20                        7   \n",
              "\n",
              "   Home Team Corners  ...  Location_Pamplona, Spain  Location_Seville, Spain  \\\n",
              "0                  5  ...                         0                        0   \n",
              "1                  3  ...                         0                        1   \n",
              "2                  5  ...                         0                        0   \n",
              "3                 11  ...                         0                        0   \n",
              "4                  5  ...                         0                        0   \n",
              "5                  3  ...                         0                        0   \n",
              "6                  4  ...                         0                        0   \n",
              "\n",
              "   Location_Valencia, Spain  Location_Valladolid, Spain  Location_Vigo, Spain  \\\n",
              "0                         0                           0                     0   \n",
              "1                         0                           0                     0   \n",
              "2                         0                           0                     0   \n",
              "3                         0                           0                     0   \n",
              "4                         0                           0                     0   \n",
              "5                         0                           0                     0   \n",
              "6                         0                           0                     1   \n",
              "\n",
              "   Location_Villarreal, Spain  Location_Vitoria-Gasteiz, Spain  Year  Month  \\\n",
              "0                           0                                0  2014      8   \n",
              "1                           0                                0  2014      8   \n",
              "2                           0                                0  2014      8   \n",
              "3                           0                                0  2014      8   \n",
              "4                           0                                0  2014      8   \n",
              "5                           0                                0  2014      8   \n",
              "6                           0                                0  2014      8   \n",
              "\n",
              "   Day  \n",
              "0   23  \n",
              "1   23  \n",
              "2   23  \n",
              "3   23  \n",
              "4   24  \n",
              "5   24  \n",
              "6   24  \n",
              "\n",
              "[7 rows x 128 columns]"
            ]
          },
          "execution_count": 532,
          "metadata": {},
          "output_type": "execute_result"
        }
      ],
      "source": [
        "x_train = (base1.iloc[:,1:])\n",
        "x_train = x_train.drop(columns=[\"Winning Team\"], axis=1)\n",
        "x_train.head(7)"
      ]
    },
    {
      "cell_type": "code",
      "execution_count": null,
      "metadata": {
        "colab": {
          "base_uri": "https://localhost:8080/"
        },
        "id": "cErYHAwrTRzb",
        "outputId": "550d7c03-78c5-4c56-b1f1-ffb2382366f6"
      },
      "outputs": [
        {
          "data": {
            "text/plain": [
              "0       1\n",
              "1       0\n",
              "2       1\n",
              "3       0\n",
              "4       1\n",
              "       ..\n",
              "2275    0\n",
              "2276    1\n",
              "2277    0\n",
              "2278    1\n",
              "2279    0\n",
              "Name: Winning Team, Length: 2280, dtype: int64"
            ]
          },
          "execution_count": 533,
          "metadata": {},
          "output_type": "execute_result"
        }
      ],
      "source": [
        "y_train = base1[\"Winning Team\"]\n",
        "y_train"
      ]
    },
    {
      "cell_type": "code",
      "execution_count": null,
      "metadata": {
        "colab": {
          "base_uri": "https://localhost:8080/",
          "height": 427
        },
        "id": "UhjdmOxFUrOx",
        "outputId": "10540db8-45e6-4a2b-e3df-8013894a7467"
      },
      "outputs": [
        {
          "data": {
            "text/html": [
              "\n",
              "  <div id=\"df-35ec4956-5e17-4190-b44f-23ae5c7b98f1\">\n",
              "    <div class=\"colab-df-container\">\n",
              "      <div>\n",
              "<style scoped>\n",
              "    .dataframe tbody tr th:only-of-type {\n",
              "        vertical-align: middle;\n",
              "    }\n",
              "\n",
              "    .dataframe tbody tr th {\n",
              "        vertical-align: top;\n",
              "    }\n",
              "\n",
              "    .dataframe thead th {\n",
              "        text-align: right;\n",
              "    }\n",
              "</style>\n",
              "<table border=\"1\" class=\"dataframe\">\n",
              "  <thead>\n",
              "    <tr style=\"text-align: right;\">\n",
              "      <th></th>\n",
              "      <th>Match Excitement</th>\n",
              "      <th>Home Team Rating</th>\n",
              "      <th>Away Team Rating</th>\n",
              "      <th>Home Team Possession %</th>\n",
              "      <th>Away Team Possession %</th>\n",
              "      <th>Home Team Off Target Shots</th>\n",
              "      <th>Home Team On Target Shots</th>\n",
              "      <th>Home Team Total Shots</th>\n",
              "      <th>Home Team Blocked Shots</th>\n",
              "      <th>Home Team Corners</th>\n",
              "      <th>...</th>\n",
              "      <th>Location_Pamplona, Spain</th>\n",
              "      <th>Location_Seville, Spain</th>\n",
              "      <th>Location_Valencia, Spain</th>\n",
              "      <th>Location_Valladolid, Spain</th>\n",
              "      <th>Location_Vigo, Spain</th>\n",
              "      <th>Location_Villarreal, Spain</th>\n",
              "      <th>Location_Vitoria-Gasteiz, Spain</th>\n",
              "      <th>Year</th>\n",
              "      <th>Month</th>\n",
              "      <th>Day</th>\n",
              "    </tr>\n",
              "  </thead>\n",
              "  <tbody>\n",
              "    <tr>\n",
              "      <th>2280</th>\n",
              "      <td>2.0</td>\n",
              "      <td>5.1</td>\n",
              "      <td>6.2</td>\n",
              "      <td>50</td>\n",
              "      <td>50</td>\n",
              "      <td>6</td>\n",
              "      <td>1</td>\n",
              "      <td>8</td>\n",
              "      <td>1</td>\n",
              "      <td>3</td>\n",
              "      <td>...</td>\n",
              "      <td>0</td>\n",
              "      <td>0</td>\n",
              "      <td>0</td>\n",
              "      <td>0</td>\n",
              "      <td>0</td>\n",
              "      <td>0</td>\n",
              "      <td>0</td>\n",
              "      <td>2020</td>\n",
              "      <td>12</td>\n",
              "      <td>9</td>\n",
              "    </tr>\n",
              "    <tr>\n",
              "      <th>2281</th>\n",
              "      <td>3.5</td>\n",
              "      <td>6.7</td>\n",
              "      <td>5.6</td>\n",
              "      <td>40</td>\n",
              "      <td>60</td>\n",
              "      <td>2</td>\n",
              "      <td>2</td>\n",
              "      <td>4</td>\n",
              "      <td>0</td>\n",
              "      <td>1</td>\n",
              "      <td>...</td>\n",
              "      <td>0</td>\n",
              "      <td>0</td>\n",
              "      <td>0</td>\n",
              "      <td>0</td>\n",
              "      <td>0</td>\n",
              "      <td>0</td>\n",
              "      <td>0</td>\n",
              "      <td>2020</td>\n",
              "      <td>12</td>\n",
              "      <td>9</td>\n",
              "    </tr>\n",
              "    <tr>\n",
              "      <th>2282</th>\n",
              "      <td>3.6</td>\n",
              "      <td>5.5</td>\n",
              "      <td>6.2</td>\n",
              "      <td>53</td>\n",
              "      <td>47</td>\n",
              "      <td>7</td>\n",
              "      <td>3</td>\n",
              "      <td>12</td>\n",
              "      <td>2</td>\n",
              "      <td>6</td>\n",
              "      <td>...</td>\n",
              "      <td>0</td>\n",
              "      <td>0</td>\n",
              "      <td>0</td>\n",
              "      <td>0</td>\n",
              "      <td>0</td>\n",
              "      <td>0</td>\n",
              "      <td>0</td>\n",
              "      <td>2020</td>\n",
              "      <td>12</td>\n",
              "      <td>9</td>\n",
              "    </tr>\n",
              "    <tr>\n",
              "      <th>2283</th>\n",
              "      <td>4.1</td>\n",
              "      <td>5.6</td>\n",
              "      <td>6.6</td>\n",
              "      <td>42</td>\n",
              "      <td>58</td>\n",
              "      <td>3</td>\n",
              "      <td>2</td>\n",
              "      <td>7</td>\n",
              "      <td>2</td>\n",
              "      <td>6</td>\n",
              "      <td>...</td>\n",
              "      <td>0</td>\n",
              "      <td>0</td>\n",
              "      <td>0</td>\n",
              "      <td>0</td>\n",
              "      <td>0</td>\n",
              "      <td>0</td>\n",
              "      <td>1</td>\n",
              "      <td>2020</td>\n",
              "      <td>9</td>\n",
              "      <td>13</td>\n",
              "    </tr>\n",
              "    <tr>\n",
              "      <th>2284</th>\n",
              "      <td>3.9</td>\n",
              "      <td>5.8</td>\n",
              "      <td>6.2</td>\n",
              "      <td>40</td>\n",
              "      <td>60</td>\n",
              "      <td>5</td>\n",
              "      <td>3</td>\n",
              "      <td>8</td>\n",
              "      <td>0</td>\n",
              "      <td>5</td>\n",
              "      <td>...</td>\n",
              "      <td>0</td>\n",
              "      <td>0</td>\n",
              "      <td>0</td>\n",
              "      <td>1</td>\n",
              "      <td>0</td>\n",
              "      <td>0</td>\n",
              "      <td>0</td>\n",
              "      <td>2020</td>\n",
              "      <td>9</td>\n",
              "      <td>13</td>\n",
              "    </tr>\n",
              "    <tr>\n",
              "      <th>2285</th>\n",
              "      <td>4.9</td>\n",
              "      <td>6.1</td>\n",
              "      <td>6.8</td>\n",
              "      <td>66</td>\n",
              "      <td>34</td>\n",
              "      <td>7</td>\n",
              "      <td>4</td>\n",
              "      <td>15</td>\n",
              "      <td>4</td>\n",
              "      <td>6</td>\n",
              "      <td>...</td>\n",
              "      <td>0</td>\n",
              "      <td>0</td>\n",
              "      <td>0</td>\n",
              "      <td>0</td>\n",
              "      <td>0</td>\n",
              "      <td>1</td>\n",
              "      <td>0</td>\n",
              "      <td>2020</td>\n",
              "      <td>9</td>\n",
              "      <td>13</td>\n",
              "    </tr>\n",
              "    <tr>\n",
              "      <th>2286</th>\n",
              "      <td>9.5</td>\n",
              "      <td>7.0</td>\n",
              "      <td>5.3</td>\n",
              "      <td>44</td>\n",
              "      <td>56</td>\n",
              "      <td>4</td>\n",
              "      <td>8</td>\n",
              "      <td>14</td>\n",
              "      <td>2</td>\n",
              "      <td>3</td>\n",
              "      <td>...</td>\n",
              "      <td>0</td>\n",
              "      <td>0</td>\n",
              "      <td>1</td>\n",
              "      <td>0</td>\n",
              "      <td>0</td>\n",
              "      <td>0</td>\n",
              "      <td>0</td>\n",
              "      <td>2020</td>\n",
              "      <td>9</td>\n",
              "      <td>13</td>\n",
              "    </tr>\n",
              "  </tbody>\n",
              "</table>\n",
              "<p>7 rows × 128 columns</p>\n",
              "</div>\n",
              "      <button class=\"colab-df-convert\" onclick=\"convertToInteractive('df-35ec4956-5e17-4190-b44f-23ae5c7b98f1')\"\n",
              "              title=\"Convert this dataframe to an interactive table.\"\n",
              "              style=\"display:none;\">\n",
              "        \n",
              "  <svg xmlns=\"http://www.w3.org/2000/svg\" height=\"24px\"viewBox=\"0 0 24 24\"\n",
              "       width=\"24px\">\n",
              "    <path d=\"M0 0h24v24H0V0z\" fill=\"none\"/>\n",
              "    <path d=\"M18.56 5.44l.94 2.06.94-2.06 2.06-.94-2.06-.94-.94-2.06-.94 2.06-2.06.94zm-11 1L8.5 8.5l.94-2.06 2.06-.94-2.06-.94L8.5 2.5l-.94 2.06-2.06.94zm10 10l.94 2.06.94-2.06 2.06-.94-2.06-.94-.94-2.06-.94 2.06-2.06.94z\"/><path d=\"M17.41 7.96l-1.37-1.37c-.4-.4-.92-.59-1.43-.59-.52 0-1.04.2-1.43.59L10.3 9.45l-7.72 7.72c-.78.78-.78 2.05 0 2.83L4 21.41c.39.39.9.59 1.41.59.51 0 1.02-.2 1.41-.59l7.78-7.78 2.81-2.81c.8-.78.8-2.07 0-2.86zM5.41 20L4 18.59l7.72-7.72 1.47 1.35L5.41 20z\"/>\n",
              "  </svg>\n",
              "      </button>\n",
              "      \n",
              "  <style>\n",
              "    .colab-df-container {\n",
              "      display:flex;\n",
              "      flex-wrap:wrap;\n",
              "      gap: 12px;\n",
              "    }\n",
              "\n",
              "    .colab-df-convert {\n",
              "      background-color: #E8F0FE;\n",
              "      border: none;\n",
              "      border-radius: 50%;\n",
              "      cursor: pointer;\n",
              "      display: none;\n",
              "      fill: #1967D2;\n",
              "      height: 32px;\n",
              "      padding: 0 0 0 0;\n",
              "      width: 32px;\n",
              "    }\n",
              "\n",
              "    .colab-df-convert:hover {\n",
              "      background-color: #E2EBFA;\n",
              "      box-shadow: 0px 1px 2px rgba(60, 64, 67, 0.3), 0px 1px 3px 1px rgba(60, 64, 67, 0.15);\n",
              "      fill: #174EA6;\n",
              "    }\n",
              "\n",
              "    [theme=dark] .colab-df-convert {\n",
              "      background-color: #3B4455;\n",
              "      fill: #D2E3FC;\n",
              "    }\n",
              "\n",
              "    [theme=dark] .colab-df-convert:hover {\n",
              "      background-color: #434B5C;\n",
              "      box-shadow: 0px 1px 3px 1px rgba(0, 0, 0, 0.15);\n",
              "      filter: drop-shadow(0px 1px 2px rgba(0, 0, 0, 0.3));\n",
              "      fill: #FFFFFF;\n",
              "    }\n",
              "  </style>\n",
              "\n",
              "      <script>\n",
              "        const buttonEl =\n",
              "          document.querySelector('#df-35ec4956-5e17-4190-b44f-23ae5c7b98f1 button.colab-df-convert');\n",
              "        buttonEl.style.display =\n",
              "          google.colab.kernel.accessAllowed ? 'block' : 'none';\n",
              "\n",
              "        async function convertToInteractive(key) {\n",
              "          const element = document.querySelector('#df-35ec4956-5e17-4190-b44f-23ae5c7b98f1');\n",
              "          const dataTable =\n",
              "            await google.colab.kernel.invokeFunction('convertToInteractive',\n",
              "                                                     [key], {});\n",
              "          if (!dataTable) return;\n",
              "\n",
              "          const docLinkHtml = 'Like what you see? Visit the ' +\n",
              "            '<a target=\"_blank\" href=https://colab.research.google.com/notebooks/data_table.ipynb>data table notebook</a>'\n",
              "            + ' to learn more about interactive tables.';\n",
              "          element.innerHTML = '';\n",
              "          dataTable['output_type'] = 'display_data';\n",
              "          await google.colab.output.renderOutput(dataTable, element);\n",
              "          const docLink = document.createElement('div');\n",
              "          docLink.innerHTML = docLinkHtml;\n",
              "          element.appendChild(docLink);\n",
              "        }\n",
              "      </script>\n",
              "    </div>\n",
              "  </div>\n",
              "  "
            ],
            "text/plain": [
              "      Match Excitement  Home Team Rating  Away Team Rating  \\\n",
              "2280               2.0               5.1               6.2   \n",
              "2281               3.5               6.7               5.6   \n",
              "2282               3.6               5.5               6.2   \n",
              "2283               4.1               5.6               6.6   \n",
              "2284               3.9               5.8               6.2   \n",
              "2285               4.9               6.1               6.8   \n",
              "2286               9.5               7.0               5.3   \n",
              "\n",
              "      Home Team Possession %  Away Team Possession %  \\\n",
              "2280                      50                      50   \n",
              "2281                      40                      60   \n",
              "2282                      53                      47   \n",
              "2283                      42                      58   \n",
              "2284                      40                      60   \n",
              "2285                      66                      34   \n",
              "2286                      44                      56   \n",
              "\n",
              "      Home Team Off Target Shots  Home Team On Target Shots  \\\n",
              "2280                           6                          1   \n",
              "2281                           2                          2   \n",
              "2282                           7                          3   \n",
              "2283                           3                          2   \n",
              "2284                           5                          3   \n",
              "2285                           7                          4   \n",
              "2286                           4                          8   \n",
              "\n",
              "      Home Team Total Shots  Home Team Blocked Shots  Home Team Corners  ...  \\\n",
              "2280                      8                        1                  3  ...   \n",
              "2281                      4                        0                  1  ...   \n",
              "2282                     12                        2                  6  ...   \n",
              "2283                      7                        2                  6  ...   \n",
              "2284                      8                        0                  5  ...   \n",
              "2285                     15                        4                  6  ...   \n",
              "2286                     14                        2                  3  ...   \n",
              "\n",
              "      Location_Pamplona, Spain  Location_Seville, Spain  \\\n",
              "2280                         0                        0   \n",
              "2281                         0                        0   \n",
              "2282                         0                        0   \n",
              "2283                         0                        0   \n",
              "2284                         0                        0   \n",
              "2285                         0                        0   \n",
              "2286                         0                        0   \n",
              "\n",
              "      Location_Valencia, Spain  Location_Valladolid, Spain  \\\n",
              "2280                         0                           0   \n",
              "2281                         0                           0   \n",
              "2282                         0                           0   \n",
              "2283                         0                           0   \n",
              "2284                         0                           1   \n",
              "2285                         0                           0   \n",
              "2286                         1                           0   \n",
              "\n",
              "      Location_Vigo, Spain  Location_Villarreal, Spain  \\\n",
              "2280                     0                           0   \n",
              "2281                     0                           0   \n",
              "2282                     0                           0   \n",
              "2283                     0                           0   \n",
              "2284                     0                           0   \n",
              "2285                     0                           1   \n",
              "2286                     0                           0   \n",
              "\n",
              "      Location_Vitoria-Gasteiz, Spain  Year  Month  Day  \n",
              "2280                                0  2020     12    9  \n",
              "2281                                0  2020     12    9  \n",
              "2282                                0  2020     12    9  \n",
              "2283                                1  2020      9   13  \n",
              "2284                                0  2020      9   13  \n",
              "2285                                0  2020      9   13  \n",
              "2286                                0  2020      9   13  \n",
              "\n",
              "[7 rows x 128 columns]"
            ]
          },
          "execution_count": 534,
          "metadata": {},
          "output_type": "execute_result"
        }
      ],
      "source": [
        "x_test = (base2.iloc[:,1:])\n",
        "x_test = x_test.drop(columns=[\"Winning Team\"], axis=1)\n",
        "x_test.head(7)"
      ]
    },
    {
      "cell_type": "code",
      "execution_count": null,
      "metadata": {
        "colab": {
          "base_uri": "https://localhost:8080/",
          "height": 324
        },
        "id": "LloiNvQmhgVl",
        "outputId": "4bcb3e05-c0ab-4ac7-eaa3-fe3a5256ec99"
      },
      "outputs": [
        {
          "ename": "KeyError",
          "evalue": "ignored",
          "output_type": "error",
          "traceback": [
            "\u001b[0;31m---------------------------------------------------------------------------\u001b[0m",
            "\u001b[0;31mKeyError\u001b[0m                                  Traceback (most recent call last)",
            "\u001b[0;32m<ipython-input-538-53440c8e9071>\u001b[0m in \u001b[0;36m<module>\u001b[0;34m\u001b[0m\n\u001b[0;32m----> 1\u001b[0;31m \u001b[0mx_train\u001b[0m \u001b[0;34m=\u001b[0m \u001b[0mx_train\u001b[0m\u001b[0;34m.\u001b[0m\u001b[0mdrop\u001b[0m\u001b[0;34m(\u001b[0m\u001b[0mcolumns\u001b[0m\u001b[0;34m=\u001b[0m\u001b[0;34m[\u001b[0m\u001b[0;34m\"goal_diff\"\u001b[0m\u001b[0;34m,\u001b[0m \u001b[0;34m\"Home Team Goals Scored\"\u001b[0m\u001b[0;34m,\u001b[0m \u001b[0;34m\"Away Team Goals Scored\"\u001b[0m\u001b[0;34m,\u001b[0m \u001b[0;34m\"Home Team Goals Conceeded\"\u001b[0m\u001b[0;34m,\u001b[0m \u001b[0;34m\"Away Team Goals Conceeded\"\u001b[0m\u001b[0;34m]\u001b[0m\u001b[0;34m,\u001b[0m  \u001b[0maxis\u001b[0m\u001b[0;34m=\u001b[0m\u001b[0;36m1\u001b[0m\u001b[0;34m)\u001b[0m\u001b[0;34m\u001b[0m\u001b[0;34m\u001b[0m\u001b[0m\n\u001b[0m\u001b[1;32m      2\u001b[0m \u001b[0mx_test\u001b[0m \u001b[0;34m=\u001b[0m \u001b[0mx_test\u001b[0m\u001b[0;34m.\u001b[0m\u001b[0mdrop\u001b[0m\u001b[0;34m(\u001b[0m\u001b[0mcolumns\u001b[0m\u001b[0;34m=\u001b[0m\u001b[0;34m[\u001b[0m\u001b[0;34m\"goal_diff\"\u001b[0m\u001b[0;34m,\u001b[0m \u001b[0;34m\"Home Team Goals Scored\"\u001b[0m\u001b[0;34m,\u001b[0m \u001b[0;34m\"Away Team Goals Scored\"\u001b[0m\u001b[0;34m,\u001b[0m \u001b[0;34m\"Home Team Goals Conceeded\"\u001b[0m\u001b[0;34m,\u001b[0m \u001b[0;34m\"Away Team Goals Conceeded\"\u001b[0m\u001b[0;34m]\u001b[0m\u001b[0;34m,\u001b[0m  \u001b[0maxis\u001b[0m\u001b[0;34m=\u001b[0m\u001b[0;36m1\u001b[0m\u001b[0;34m)\u001b[0m\u001b[0;34m\u001b[0m\u001b[0;34m\u001b[0m\u001b[0m\n",
            "\u001b[0;32m/usr/local/lib/python3.7/dist-packages/pandas/util/_decorators.py\u001b[0m in \u001b[0;36mwrapper\u001b[0;34m(*args, **kwargs)\u001b[0m\n\u001b[1;32m    309\u001b[0m                     \u001b[0mstacklevel\u001b[0m\u001b[0;34m=\u001b[0m\u001b[0mstacklevel\u001b[0m\u001b[0;34m,\u001b[0m\u001b[0;34m\u001b[0m\u001b[0;34m\u001b[0m\u001b[0m\n\u001b[1;32m    310\u001b[0m                 )\n\u001b[0;32m--> 311\u001b[0;31m             \u001b[0;32mreturn\u001b[0m \u001b[0mfunc\u001b[0m\u001b[0;34m(\u001b[0m\u001b[0;34m*\u001b[0m\u001b[0margs\u001b[0m\u001b[0;34m,\u001b[0m \u001b[0;34m**\u001b[0m\u001b[0mkwargs\u001b[0m\u001b[0;34m)\u001b[0m\u001b[0;34m\u001b[0m\u001b[0;34m\u001b[0m\u001b[0m\n\u001b[0m\u001b[1;32m    312\u001b[0m \u001b[0;34m\u001b[0m\u001b[0m\n\u001b[1;32m    313\u001b[0m         \u001b[0;32mreturn\u001b[0m \u001b[0mwrapper\u001b[0m\u001b[0;34m\u001b[0m\u001b[0;34m\u001b[0m\u001b[0m\n",
            "\u001b[0;32m/usr/local/lib/python3.7/dist-packages/pandas/core/frame.py\u001b[0m in \u001b[0;36mdrop\u001b[0;34m(self, labels, axis, index, columns, level, inplace, errors)\u001b[0m\n\u001b[1;32m   4911\u001b[0m             \u001b[0mlevel\u001b[0m\u001b[0;34m=\u001b[0m\u001b[0mlevel\u001b[0m\u001b[0;34m,\u001b[0m\u001b[0;34m\u001b[0m\u001b[0;34m\u001b[0m\u001b[0m\n\u001b[1;32m   4912\u001b[0m             \u001b[0minplace\u001b[0m\u001b[0;34m=\u001b[0m\u001b[0minplace\u001b[0m\u001b[0;34m,\u001b[0m\u001b[0;34m\u001b[0m\u001b[0;34m\u001b[0m\u001b[0m\n\u001b[0;32m-> 4913\u001b[0;31m             \u001b[0merrors\u001b[0m\u001b[0;34m=\u001b[0m\u001b[0merrors\u001b[0m\u001b[0;34m,\u001b[0m\u001b[0;34m\u001b[0m\u001b[0;34m\u001b[0m\u001b[0m\n\u001b[0m\u001b[1;32m   4914\u001b[0m         )\n\u001b[1;32m   4915\u001b[0m \u001b[0;34m\u001b[0m\u001b[0m\n",
            "\u001b[0;32m/usr/local/lib/python3.7/dist-packages/pandas/core/generic.py\u001b[0m in \u001b[0;36mdrop\u001b[0;34m(self, labels, axis, index, columns, level, inplace, errors)\u001b[0m\n\u001b[1;32m   4148\u001b[0m         \u001b[0;32mfor\u001b[0m \u001b[0maxis\u001b[0m\u001b[0;34m,\u001b[0m \u001b[0mlabels\u001b[0m \u001b[0;32min\u001b[0m \u001b[0maxes\u001b[0m\u001b[0;34m.\u001b[0m\u001b[0mitems\u001b[0m\u001b[0;34m(\u001b[0m\u001b[0;34m)\u001b[0m\u001b[0;34m:\u001b[0m\u001b[0;34m\u001b[0m\u001b[0;34m\u001b[0m\u001b[0m\n\u001b[1;32m   4149\u001b[0m             \u001b[0;32mif\u001b[0m \u001b[0mlabels\u001b[0m \u001b[0;32mis\u001b[0m \u001b[0;32mnot\u001b[0m \u001b[0;32mNone\u001b[0m\u001b[0;34m:\u001b[0m\u001b[0;34m\u001b[0m\u001b[0;34m\u001b[0m\u001b[0m\n\u001b[0;32m-> 4150\u001b[0;31m                 \u001b[0mobj\u001b[0m \u001b[0;34m=\u001b[0m \u001b[0mobj\u001b[0m\u001b[0;34m.\u001b[0m\u001b[0m_drop_axis\u001b[0m\u001b[0;34m(\u001b[0m\u001b[0mlabels\u001b[0m\u001b[0;34m,\u001b[0m \u001b[0maxis\u001b[0m\u001b[0;34m,\u001b[0m \u001b[0mlevel\u001b[0m\u001b[0;34m=\u001b[0m\u001b[0mlevel\u001b[0m\u001b[0;34m,\u001b[0m \u001b[0merrors\u001b[0m\u001b[0;34m=\u001b[0m\u001b[0merrors\u001b[0m\u001b[0;34m)\u001b[0m\u001b[0;34m\u001b[0m\u001b[0;34m\u001b[0m\u001b[0m\n\u001b[0m\u001b[1;32m   4151\u001b[0m \u001b[0;34m\u001b[0m\u001b[0m\n\u001b[1;32m   4152\u001b[0m         \u001b[0;32mif\u001b[0m \u001b[0minplace\u001b[0m\u001b[0;34m:\u001b[0m\u001b[0;34m\u001b[0m\u001b[0;34m\u001b[0m\u001b[0m\n",
            "\u001b[0;32m/usr/local/lib/python3.7/dist-packages/pandas/core/generic.py\u001b[0m in \u001b[0;36m_drop_axis\u001b[0;34m(self, labels, axis, level, errors)\u001b[0m\n\u001b[1;32m   4183\u001b[0m                 \u001b[0mnew_axis\u001b[0m \u001b[0;34m=\u001b[0m \u001b[0maxis\u001b[0m\u001b[0;34m.\u001b[0m\u001b[0mdrop\u001b[0m\u001b[0;34m(\u001b[0m\u001b[0mlabels\u001b[0m\u001b[0;34m,\u001b[0m \u001b[0mlevel\u001b[0m\u001b[0;34m=\u001b[0m\u001b[0mlevel\u001b[0m\u001b[0;34m,\u001b[0m \u001b[0merrors\u001b[0m\u001b[0;34m=\u001b[0m\u001b[0merrors\u001b[0m\u001b[0;34m)\u001b[0m\u001b[0;34m\u001b[0m\u001b[0;34m\u001b[0m\u001b[0m\n\u001b[1;32m   4184\u001b[0m             \u001b[0;32melse\u001b[0m\u001b[0;34m:\u001b[0m\u001b[0;34m\u001b[0m\u001b[0;34m\u001b[0m\u001b[0m\n\u001b[0;32m-> 4185\u001b[0;31m                 \u001b[0mnew_axis\u001b[0m \u001b[0;34m=\u001b[0m \u001b[0maxis\u001b[0m\u001b[0;34m.\u001b[0m\u001b[0mdrop\u001b[0m\u001b[0;34m(\u001b[0m\u001b[0mlabels\u001b[0m\u001b[0;34m,\u001b[0m \u001b[0merrors\u001b[0m\u001b[0;34m=\u001b[0m\u001b[0merrors\u001b[0m\u001b[0;34m)\u001b[0m\u001b[0;34m\u001b[0m\u001b[0;34m\u001b[0m\u001b[0m\n\u001b[0m\u001b[1;32m   4186\u001b[0m             \u001b[0mresult\u001b[0m \u001b[0;34m=\u001b[0m \u001b[0mself\u001b[0m\u001b[0;34m.\u001b[0m\u001b[0mreindex\u001b[0m\u001b[0;34m(\u001b[0m\u001b[0;34m**\u001b[0m\u001b[0;34m{\u001b[0m\u001b[0maxis_name\u001b[0m\u001b[0;34m:\u001b[0m \u001b[0mnew_axis\u001b[0m\u001b[0;34m}\u001b[0m\u001b[0;34m)\u001b[0m\u001b[0;34m\u001b[0m\u001b[0;34m\u001b[0m\u001b[0m\n\u001b[1;32m   4187\u001b[0m \u001b[0;34m\u001b[0m\u001b[0m\n",
            "\u001b[0;32m/usr/local/lib/python3.7/dist-packages/pandas/core/indexes/base.py\u001b[0m in \u001b[0;36mdrop\u001b[0;34m(self, labels, errors)\u001b[0m\n\u001b[1;32m   6015\u001b[0m         \u001b[0;32mif\u001b[0m \u001b[0mmask\u001b[0m\u001b[0;34m.\u001b[0m\u001b[0many\u001b[0m\u001b[0;34m(\u001b[0m\u001b[0;34m)\u001b[0m\u001b[0;34m:\u001b[0m\u001b[0;34m\u001b[0m\u001b[0;34m\u001b[0m\u001b[0m\n\u001b[1;32m   6016\u001b[0m             \u001b[0;32mif\u001b[0m \u001b[0merrors\u001b[0m \u001b[0;34m!=\u001b[0m \u001b[0;34m\"ignore\"\u001b[0m\u001b[0;34m:\u001b[0m\u001b[0;34m\u001b[0m\u001b[0;34m\u001b[0m\u001b[0m\n\u001b[0;32m-> 6017\u001b[0;31m                 \u001b[0;32mraise\u001b[0m \u001b[0mKeyError\u001b[0m\u001b[0;34m(\u001b[0m\u001b[0;34mf\"{labels[mask]} not found in axis\"\u001b[0m\u001b[0;34m)\u001b[0m\u001b[0;34m\u001b[0m\u001b[0;34m\u001b[0m\u001b[0m\n\u001b[0m\u001b[1;32m   6018\u001b[0m             \u001b[0mindexer\u001b[0m \u001b[0;34m=\u001b[0m \u001b[0mindexer\u001b[0m\u001b[0;34m[\u001b[0m\u001b[0;34m~\u001b[0m\u001b[0mmask\u001b[0m\u001b[0;34m]\u001b[0m\u001b[0;34m\u001b[0m\u001b[0;34m\u001b[0m\u001b[0m\n\u001b[1;32m   6019\u001b[0m         \u001b[0;32mreturn\u001b[0m \u001b[0mself\u001b[0m\u001b[0;34m.\u001b[0m\u001b[0mdelete\u001b[0m\u001b[0;34m(\u001b[0m\u001b[0mindexer\u001b[0m\u001b[0;34m)\u001b[0m\u001b[0;34m\u001b[0m\u001b[0;34m\u001b[0m\u001b[0m\n",
            "\u001b[0;31mKeyError\u001b[0m: \"['goal_diff' 'Home Team Goals Scored' 'Away Team Goals Scored'\\n 'Home Team Goals Conceeded' 'Away Team Goals Conceeded'] not found in axis\""
          ]
        }
      ],
      "source": [
        "x_train = x_train.drop(columns=[\"goal_diff\", \"Home Team Goals Scored\", \"Away Team Goals Scored\", \"Home Team Goals Conceeded\", \"Away Team Goals Conceeded\"],  axis=1)\n",
        "x_test = x_test.drop(columns=[\"goal_diff\", \"Home Team Goals Scored\", \"Away Team Goals Scored\", \"Home Team Goals Conceeded\", \"Away Team Goals Conceeded\"],  axis=1)"
      ]
    },
    {
      "cell_type": "code",
      "execution_count": null,
      "metadata": {
        "id": "2QYm7gHYyvt2"
      },
      "outputs": [],
      "source": [
        "from sklearn.decomposition import PCA\n",
        "transformer = PCA(n_components = 20) # we can change n_components\n",
        "transformer.fit(x_train)\n",
        "x_train_pca = transformer.transform(x_train)"
      ]
    },
    {
      "cell_type": "markdown",
      "metadata": {
        "id": "d5wi1J5Itbl-"
      },
      "source": [
        "## LGBM"
      ]
    },
    {
      "cell_type": "code",
      "execution_count": null,
      "metadata": {
        "colab": {
          "base_uri": "https://localhost:8080/",
          "height": 358
        },
        "id": "2XvvZ4uJtf_B",
        "outputId": "c89ddf41-2e40-464d-8eec-f776934e163f"
      },
      "outputs": [
        {
          "ename": "ValueError",
          "evalue": "ignored",
          "output_type": "error",
          "traceback": [
            "\u001b[0;31m---------------------------------------------------------------------------\u001b[0m",
            "\u001b[0;31mValueError\u001b[0m                                Traceback (most recent call last)",
            "\u001b[0;32m<ipython-input-544-0c5253555ceb>\u001b[0m in \u001b[0;36m<module>\u001b[0;34m\u001b[0m\n\u001b[1;32m      3\u001b[0m \u001b[0mlg\u001b[0m \u001b[0;34m=\u001b[0m \u001b[0mLGBMClassifier\u001b[0m\u001b[0;34m(\u001b[0m\u001b[0;34m)\u001b[0m\u001b[0;34m\u001b[0m\u001b[0;34m\u001b[0m\u001b[0m\n\u001b[1;32m      4\u001b[0m \u001b[0mlg\u001b[0m\u001b[0;34m.\u001b[0m\u001b[0mfit\u001b[0m\u001b[0;34m(\u001b[0m\u001b[0mx_train\u001b[0m\u001b[0;34m,\u001b[0m \u001b[0my_train\u001b[0m\u001b[0;34m)\u001b[0m\u001b[0;34m\u001b[0m\u001b[0;34m\u001b[0m\u001b[0m\n\u001b[0;32m----> 5\u001b[0;31m \u001b[0my_pred_lg\u001b[0m \u001b[0;34m=\u001b[0m \u001b[0mlg\u001b[0m\u001b[0;34m.\u001b[0m\u001b[0mpredict\u001b[0m\u001b[0;34m(\u001b[0m\u001b[0mx_test\u001b[0m\u001b[0;34m)\u001b[0m\u001b[0;34m\u001b[0m\u001b[0;34m\u001b[0m\u001b[0m\n\u001b[0m\u001b[1;32m      6\u001b[0m \u001b[0mprint\u001b[0m\u001b[0;34m(\u001b[0m\u001b[0mclassification_report\u001b[0m\u001b[0;34m(\u001b[0m\u001b[0my_test\u001b[0m\u001b[0;34m,\u001b[0m \u001b[0my_pred_lg\u001b[0m\u001b[0;34m)\u001b[0m\u001b[0;34m)\u001b[0m\u001b[0;34m\u001b[0m\u001b[0;34m\u001b[0m\u001b[0m\n",
            "\u001b[0;32m/usr/local/lib/python3.7/dist-packages/lightgbm/sklearn.py\u001b[0m in \u001b[0;36mpredict\u001b[0;34m(self, X, raw_score, num_iteration, pred_leaf, pred_contrib, **kwargs)\u001b[0m\n\u001b[1;32m    751\u001b[0m         \u001b[0;34m\"\"\"Docstring is inherited from the LGBMModel.\"\"\"\u001b[0m\u001b[0;34m\u001b[0m\u001b[0;34m\u001b[0m\u001b[0m\n\u001b[1;32m    752\u001b[0m         result = self.predict_proba(X, raw_score, num_iteration,\n\u001b[0;32m--> 753\u001b[0;31m                                     pred_leaf, pred_contrib, **kwargs)\n\u001b[0m\u001b[1;32m    754\u001b[0m         \u001b[0;32mif\u001b[0m \u001b[0mraw_score\u001b[0m \u001b[0;32mor\u001b[0m \u001b[0mpred_leaf\u001b[0m \u001b[0;32mor\u001b[0m \u001b[0mpred_contrib\u001b[0m\u001b[0;34m:\u001b[0m\u001b[0;34m\u001b[0m\u001b[0;34m\u001b[0m\u001b[0m\n\u001b[1;32m    755\u001b[0m             \u001b[0;32mreturn\u001b[0m \u001b[0mresult\u001b[0m\u001b[0;34m\u001b[0m\u001b[0;34m\u001b[0m\u001b[0m\n",
            "\u001b[0;32m/usr/local/lib/python3.7/dist-packages/lightgbm/sklearn.py\u001b[0m in \u001b[0;36mpredict_proba\u001b[0;34m(self, X, raw_score, num_iteration, pred_leaf, pred_contrib, **kwargs)\u001b[0m\n\u001b[1;32m    798\u001b[0m         \"\"\"\n\u001b[1;32m    799\u001b[0m         result = super(LGBMClassifier, self).predict(X, raw_score, num_iteration,\n\u001b[0;32m--> 800\u001b[0;31m                                                      pred_leaf, pred_contrib, **kwargs)\n\u001b[0m\u001b[1;32m    801\u001b[0m         \u001b[0;32mif\u001b[0m \u001b[0mself\u001b[0m\u001b[0;34m.\u001b[0m\u001b[0m_n_classes\u001b[0m \u001b[0;34m>\u001b[0m \u001b[0;36m2\u001b[0m \u001b[0;32mor\u001b[0m \u001b[0mraw_score\u001b[0m \u001b[0;32mor\u001b[0m \u001b[0mpred_leaf\u001b[0m \u001b[0;32mor\u001b[0m \u001b[0mpred_contrib\u001b[0m\u001b[0;34m:\u001b[0m\u001b[0;34m\u001b[0m\u001b[0;34m\u001b[0m\u001b[0m\n\u001b[1;32m    802\u001b[0m             \u001b[0;32mreturn\u001b[0m \u001b[0mresult\u001b[0m\u001b[0;34m\u001b[0m\u001b[0;34m\u001b[0m\u001b[0m\n",
            "\u001b[0;32m/usr/local/lib/python3.7/dist-packages/lightgbm/sklearn.py\u001b[0m in \u001b[0;36mpredict\u001b[0;34m(self, X, raw_score, num_iteration, pred_leaf, pred_contrib, **kwargs)\u001b[0m\n\u001b[1;32m    603\u001b[0m                              \u001b[0;34m\"match the input. Model n_features_ is %s and \"\u001b[0m\u001b[0;34m\u001b[0m\u001b[0;34m\u001b[0m\u001b[0m\n\u001b[1;32m    604\u001b[0m                              \u001b[0;34m\"input n_features is %s \"\u001b[0m\u001b[0;34m\u001b[0m\u001b[0;34m\u001b[0m\u001b[0m\n\u001b[0;32m--> 605\u001b[0;31m                              % (self._n_features, n_features))\n\u001b[0m\u001b[1;32m    606\u001b[0m         return self.booster_.predict(X, raw_score=raw_score, num_iteration=num_iteration,\n\u001b[1;32m    607\u001b[0m                                      pred_leaf=pred_leaf, pred_contrib=pred_contrib, **kwargs)\n",
            "\u001b[0;31mValueError\u001b[0m: Number of features of the model must match the input. Model n_features_ is 123 and input n_features is 93 "
          ]
        }
      ],
      "source": [
        "from lightgbm import LGBMClassifier\n",
        "\n",
        "lg = LGBMClassifier()\n",
        "lg.fit(x_train, y_train)\n",
        "y_pred_lg = lg.predict(x_test)\n",
        "print(classification_report(y_test, y_pred_lg))"
      ]
    },
    {
      "cell_type": "markdown",
      "metadata": {
        "id": "WJHpnriKuGFO"
      },
      "source": [
        "## Gradient Boost"
      ]
    },
    {
      "cell_type": "code",
      "execution_count": null,
      "metadata": {
        "id": "YcdK11q4uQH_"
      },
      "outputs": [],
      "source": [
        "from sklearn.ensemble import GradientBoostingClassifier\n",
        "\n",
        "gb = GradientBoostingClassifier()\n",
        "gb.fit(x_train,y_train)\n",
        "Y_pred_gb = gb.predict(x_test)\n",
        "print(classification_report(y_test, Y_pred_gb))"
      ]
    },
    {
      "cell_type": "markdown",
      "metadata": {
        "id": "9SiklfOGugDx"
      },
      "source": [
        "## RandomRandom Forest"
      ]
    },
    {
      "cell_type": "code",
      "execution_count": null,
      "metadata": {
        "id": "ltDrk5vjuk7r"
      },
      "outputs": [],
      "source": [
        "from sklearn.ensemble import RandomForestClassifier\n",
        "\n",
        "rf = RandomForestClassifier(criterion='entropy')\n",
        "rf.fit(x_train,y_train)\n",
        "Y_pred_rf = rf.predict(x_test)\n",
        "print(classification_report(y_test, Y_pred_rf))"
      ]
    }
  ],
  "metadata": {
    "colab": {
      "collapsed_sections": [
        "RS87ublcvdUi",
        "9PWOmopXcsv4"
      ],
      "provenance": []
    },
    "kernelspec": {
      "display_name": "Python 3.9.12 ('base')",
      "language": "python",
      "name": "python3"
    },
    "language_info": {
      "codemirror_mode": {
        "name": "ipython",
        "version": 3
      },
      "file_extension": ".py",
      "mimetype": "text/x-python",
      "name": "python",
      "nbconvert_exporter": "python",
      "pygments_lexer": "ipython3",
      "version": "3.9.12"
    },
    "vscode": {
      "interpreter": {
        "hash": "40d3a090f54c6569ab1632332b64b2c03c39dcf918b08424e98f38b5ae0af88f"
      }
    }
  },
  "nbformat": 4,
  "nbformat_minor": 0
}
